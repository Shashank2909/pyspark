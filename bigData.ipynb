{
 "cells": [
  {
   "cell_type": "markdown",
   "id": "fe18d441",
   "metadata": {},
   "source": [
    "# # RDD operations"
   ]
  },
  {
   "cell_type": "code",
   "execution_count": 2,
   "id": "2e73f586",
   "metadata": {},
   "outputs": [],
   "source": [
    "import pandas as pd\n",
    "import matplotlib.pyplot as plt"
   ]
  },
  {
   "cell_type": "code",
   "execution_count": 3,
   "id": "40c21d2e",
   "metadata": {},
   "outputs": [
    {
     "name": "stdout",
     "output_type": "stream",
     "text": [
      "/opt/spark\n"
     ]
    }
   ],
   "source": [
    "import os\n",
    "print(os.environ['SPARK_HOME'])\n",
    "#print(os.environ['JAVA_HOME'])"
   ]
  },
  {
   "cell_type": "code",
   "execution_count": 4,
   "id": "117e856c",
   "metadata": {},
   "outputs": [],
   "source": [
    "import findspark"
   ]
  },
  {
   "cell_type": "code",
   "execution_count": 5,
   "id": "45a4ba7a",
   "metadata": {},
   "outputs": [
    {
     "data": {
      "text/plain": [
       "'/home/shashank/env/lib/python3.8/site-packages/pyspark'"
      ]
     },
     "execution_count": 5,
     "metadata": {},
     "output_type": "execute_result"
    }
   ],
   "source": [
    "findspark.find()"
   ]
  },
  {
   "cell_type": "code",
   "execution_count": 7,
   "id": "26d44cc3",
   "metadata": {},
   "outputs": [],
   "source": [
    "from pyspark import SparkContext, SparkConf"
   ]
  },
  {
   "cell_type": "code",
   "execution_count": 8,
   "id": "9f5c7d54",
   "metadata": {},
   "outputs": [],
   "source": [
    "from pyspark.sql import SparkSession"
   ]
  },
  {
   "cell_type": "code",
   "execution_count": 9,
   "id": "726965b5",
   "metadata": {},
   "outputs": [],
   "source": [
    "conf = SparkConf().setAppName(\"newApp\").setMaster(\"local[4]\")"
   ]
  },
  {
   "cell_type": "code",
   "execution_count": 9,
   "id": "25268662",
   "metadata": {},
   "outputs": [
    {
     "name": "stderr",
     "output_type": "stream",
     "text": [
      "22/04/18 15:00:12 WARN Utils: Your hostname, shashank resolves to a loopback address: 127.0.1.1; using 192.168.0.108 instead (on interface wlp3s0)\n",
      "22/04/18 15:00:12 WARN Utils: Set SPARK_LOCAL_IP if you need to bind to another address\n",
      "WARNING: An illegal reflective access operation has occurred\n",
      "WARNING: Illegal reflective access by org.apache.spark.unsafe.Platform (file:/opt/spark/jars/spark-unsafe_2.12-3.2.1.jar) to constructor java.nio.DirectByteBuffer(long,int)\n",
      "WARNING: Please consider reporting this to the maintainers of org.apache.spark.unsafe.Platform\n",
      "WARNING: Use --illegal-access=warn to enable warnings of further illegal reflective access operations\n",
      "WARNING: All illegal access operations will be denied in a future release\n",
      "Using Spark's default log4j profile: org/apache/spark/log4j-defaults.properties\n",
      "Setting default log level to \"WARN\".\n",
      "To adjust logging level use sc.setLogLevel(newLevel). For SparkR, use setLogLevel(newLevel).\n",
      "22/04/18 15:00:14 WARN NativeCodeLoader: Unable to load native-hadoop library for your platform... using builtin-java classes where applicable\n"
     ]
    }
   ],
   "source": [
    "sc = SparkContext(conf=conf).getOrCreate()"
   ]
  },
  {
   "cell_type": "code",
   "execution_count": 38,
   "id": "a721bb5b",
   "metadata": {},
   "outputs": [],
   "source": [
    "sc.stop()"
   ]
  },
  {
   "cell_type": "code",
   "execution_count": 26,
   "id": "90c2078e",
   "metadata": {},
   "outputs": [],
   "source": [
    "spark.stop()"
   ]
  },
  {
   "cell_type": "code",
   "execution_count": 12,
   "id": "2e0c66e9",
   "metadata": {},
   "outputs": [
    {
     "data": {
      "text/plain": [
       "[('spark.driver.port', '43395'),\n",
       " ('spark.app.id', 'local-1649314599493'),\n",
       " ('spark.app.name', 'newApp'),\n",
       " ('spark.master', 'local[4]'),\n",
       " ('spark.rdd.compress', 'True'),\n",
       " ('spark.driver.host', '192.168.0.108'),\n",
       " ('spark.serializer.objectStreamReset', '100'),\n",
       " ('spark.submit.pyFiles', ''),\n",
       " ('spark.executor.id', 'driver'),\n",
       " ('spark.submit.deployMode', 'client'),\n",
       " ('spark.app.startTime', '1649314596083'),\n",
       " ('spark.ui.showConsoleProgress', 'true')]"
      ]
     },
     "execution_count": 12,
     "metadata": {},
     "output_type": "execute_result"
    }
   ],
   "source": [
    "sc.getConf().getAll()"
   ]
  },
  {
   "cell_type": "code",
   "execution_count": 12,
   "id": "0a77bfd7",
   "metadata": {},
   "outputs": [
    {
     "name": "stderr",
     "output_type": "stream",
     "text": [
      "                                                                                \r"
     ]
    },
    {
     "data": {
      "text/plain": [
       "[',ID,Name,Age,Photo,Nationality,Flag,Overall,Potential,Club,Club Logo,Value,Wage,Special,Preferred Foot,International Reputation,Weak Foot,Skill Moves,Work Rate,Body Type,Real Face,Position,Jersey Number,Joined,Loaned From,Contract Valid Until,Height,Weight,LS,ST,RS,LW,LF,CF,RF,RW,LAM,CAM,RAM,LM,LCM,CM,RCM,RM,LWB,LDM,CDM,RDM,RWB,LB,LCB,CB,RCB,RB,Crossing,Finishing,HeadingAccuracy,ShortPassing,Volleys,Dribbling,Curve,FKAccuracy,LongPassing,BallControl,Acceleration,SprintSpeed,Agility,Reactions,Balance,ShotPower,Jumping,Stamina,Strength,LongShots,Aggression,Interceptions,Positioning,Vision,Penalties,Composure,Marking,StandingTackle,SlidingTackle,GKDiving,GKHandling,GKKicking,GKPositioning,GKReflexes,Release Clause',\n",
       " '0,158023,L. Messi,31,https://cdn.sofifa.org/players/4/19/158023.png,Argentina,https://cdn.sofifa.org/flags/52.png,94,94,FC Barcelona,https://cdn.sofifa.org/teams/2/light/241.png,€110.5M,€565K,2202,Left,5,4,4,Medium/ Medium,Messi,Yes,RF,10,\"Jul 1, 2004\",,2021,5\\'7,159lbs,88+2,88+2,88+2,92+2,93+2,93+2,93+2,92+2,93+2,93+2,93+2,91+2,84+2,84+2,84+2,91+2,64+2,61+2,61+2,61+2,64+2,59+2,47+2,47+2,47+2,59+2,84,95,70,90,86,97,93,94,87,96,91,86,91,95,95,85,68,72,59,94,48,22,94,94,75,96,33,28,26,6,11,15,14,8,€226.5M']"
      ]
     },
     "execution_count": 12,
     "metadata": {},
     "output_type": "execute_result"
    }
   ],
   "source": [
    "data = sc.textFile('data.csv',use_unicode=True)\n",
    "data.take(2)"
   ]
  },
  {
   "cell_type": "code",
   "execution_count": 20,
   "id": "0dcb7927",
   "metadata": {},
   "outputs": [],
   "source": [
    "def split_line(x):\n",
    "    return x.split(',')\n",
    "\n",
    "def clubGroup(x):\n",
    "    return x[9]\n",
    "\n",
    "\n",
    "#data.map(split_line).take(1)"
   ]
  },
  {
   "cell_type": "code",
   "execution_count": 21,
   "id": "938e31e6",
   "metadata": {
    "collapsed": true
   },
   "outputs": [
    {
     "name": "stderr",
     "output_type": "stream",
     "text": [
      "                                                                                \r"
     ]
    },
    {
     "data": {
      "text/plain": [
       "[('Club', 1),\n",
       " ('Derry City', 18),\n",
       " ('Sligo Rovers', 19),\n",
       " ('Limerick FC', 19),\n",
       " ('Santos', 20),\n",
       " ('Paraná', 20),\n",
       " ('Atlético Paranaense', 20),\n",
       " ('Sport Club do Recife', 20),\n",
       " ('Chapecoense', 20),\n",
       " ('Tromsø IL', 20),\n",
       " ('Grêmio', 20),\n",
       " ('Atlético Mineiro', 20),\n",
       " ('Cruzeiro', 20),\n",
       " ('Fluminense', 20),\n",
       " ('Internacional', 20),\n",
       " ('América FC (Minas Gerais)', 20),\n",
       " ('Botafogo', 20),\n",
       " ('Bahia', 20),\n",
       " ('Vitória', 20),\n",
       " ('Ceará Sporting Club', 20),\n",
       " ('Melbourne Victory', 21),\n",
       " ('Wellington Phoenix', 21),\n",
       " ('Dalkurd FF', 21),\n",
       " ('Östersunds FK', 22),\n",
       " ('FK Haugesund', 22),\n",
       " ('Shamrock Rovers', 22),\n",
       " ('Chicago Fire', 23),\n",
       " ('FC København', 23),\n",
       " ('Clube Sport Marítimo', 23),\n",
       " ('Brisbane Roar', 23),\n",
       " ('AC Ajaccio', 23),\n",
       " ('Colorado Rapids', 23),\n",
       " ('Dundalk', 23),\n",
       " ('IFK Göteborg', 23),\n",
       " (\"St. Patrick's Athletic\", 23),\n",
       " ('Bray Wanderers', 23),\n",
       " ('Kasimpaşa SK', 23),\n",
       " ('GFC Ajaccio', 23),\n",
       " ('GIF Sundsvall', 23),\n",
       " ('Odds BK', 23),\n",
       " ('Cagliari', 24),\n",
       " ('IFK Norrköping', 24),\n",
       " ('Strømsgodset IF', 24),\n",
       " ('Newcastle Jets', 24),\n",
       " ('Os Belenenses', 24),\n",
       " ('La Berrichonne de Châteauroux', 24),\n",
       " ('SV Wehen Wiesbaden', 24),\n",
       " ('Lillestrøm SK', 24),\n",
       " ('Crawley Town', 24),\n",
       " ('Kristiansund BK', 24)]"
      ]
     },
     "execution_count": 21,
     "metadata": {},
     "output_type": "execute_result"
    }
   ],
   "source": [
    "#counting number of clubs\n",
    "\n",
    "splitRDD = data.map(split_line)\n",
    "groupByClub = splitRDD.map(lambda x:x[9])\n",
    "addOne = groupByClub.map(lambda x:(x,1))\n",
    "AggClub = addOne.reduceByKey(lambda x,y:x+y)\n",
    "ClubSorted = AggClub.sortBy(lambda x:x[1])\n",
    "ClubSorted.take(50)"
   ]
  },
  {
   "cell_type": "code",
   "execution_count": 22,
   "id": "2a841056",
   "metadata": {},
   "outputs": [
    {
     "data": {
      "text/plain": [
       "2"
      ]
     },
     "execution_count": 22,
     "metadata": {},
     "output_type": "execute_result"
    }
   ],
   "source": [
    "data.getNumPartitions()"
   ]
  },
  {
   "cell_type": "code",
   "execution_count": 23,
   "id": "f5d5ffac",
   "metadata": {},
   "outputs": [
    {
     "data": {
      "text/plain": [
       "[]"
      ]
     },
     "execution_count": 23,
     "metadata": {},
     "output_type": "execute_result"
    }
   ],
   "source": [
    "emptyRDD = sc.emptyRDD()\n",
    "emptyRDD.glom().collect()"
   ]
  },
  {
   "cell_type": "code",
   "execution_count": 24,
   "id": "523e3052",
   "metadata": {},
   "outputs": [
    {
     "data": {
      "text/plain": [
       "data.csv MapPartitionsRDD[1] at textFile at NativeMethodAccessorImpl.java:0"
      ]
     },
     "execution_count": 24,
     "metadata": {},
     "output_type": "execute_result"
    }
   ],
   "source": [
    "data"
   ]
  },
  {
   "cell_type": "code",
   "execution_count": 25,
   "id": "df59c7dd",
   "metadata": {},
   "outputs": [
    {
     "data": {
      "text/plain": [
       "[('spark.app.name', 'newApp'),\n",
       " ('spark.master', 'local[4]'),\n",
       " ('spark.rdd.compress', 'True'),\n",
       " ('spark.driver.host', '192.168.0.108'),\n",
       " ('spark.serializer.objectStreamReset', '100'),\n",
       " ('spark.submit.pyFiles', ''),\n",
       " ('spark.executor.id', 'driver'),\n",
       " ('spark.submit.deployMode', 'client'),\n",
       " ('spark.app.id', 'local-1649221070974'),\n",
       " ('spark.app.startTime', '1649221067356'),\n",
       " ('spark.ui.showConsoleProgress', 'true'),\n",
       " ('spark.driver.port', '44031')]"
      ]
     },
     "execution_count": 25,
     "metadata": {},
     "output_type": "execute_result"
    }
   ],
   "source": [
    "sc.getConf().getAll()"
   ]
  },
  {
   "cell_type": "markdown",
   "id": "610b6052",
   "metadata": {},
   "source": [
    "## RDD functions"
   ]
  },
  {
   "cell_type": "code",
   "execution_count": 26,
   "id": "7cf50b77",
   "metadata": {},
   "outputs": [],
   "source": [
    "num = sc.parallelize(range(1,10),1)"
   ]
  },
  {
   "cell_type": "code",
   "execution_count": 27,
   "id": "79cc141e",
   "metadata": {},
   "outputs": [
    {
     "data": {
      "text/plain": [
       "[9, 8, 7, 6, 5]"
      ]
     },
     "execution_count": 27,
     "metadata": {},
     "output_type": "execute_result"
    }
   ],
   "source": [
    "num.takeOrdered(5, lambda x:-x)"
   ]
  },
  {
   "cell_type": "code",
   "execution_count": 28,
   "id": "33bf49ab",
   "metadata": {},
   "outputs": [
    {
     "name": "stdout",
     "output_type": "stream",
     "text": [
      "[[], [], [], [], [], [], [1, 2, 3, 4, 5, 6, 7, 8, 9]]\n",
      "3\n"
     ]
    },
    {
     "data": {
      "text/plain": [
       "[[1, 2, 3, 4, 5, 6, 7, 8, 9], [], []]"
      ]
     },
     "execution_count": 28,
     "metadata": {},
     "output_type": "execute_result"
    }
   ],
   "source": [
    "#repartition and coalesce\n",
    "numRepartitioned = num.repartition(7)\n",
    "print(numRepartitioned.glom().collect())\n",
    "numCoalesce = numRepartitioned.coalesce(3)\n",
    "print(numCoalesce.getNumPartitions())\n",
    "numCoalesce.glom().collect()"
   ]
  },
  {
   "cell_type": "code",
   "execution_count": 31,
   "id": "7efbb0b5",
   "metadata": {},
   "outputs": [
    {
     "data": {
      "text/plain": [
       "b'(3) CoalescedRDD[30] at coalesce at NativeMethodAccessorImpl.java:0 []\\n |  MapPartitionsRDD[28] at coalesce at NativeMethodAccessorImpl.java:0 []\\n |  CoalescedRDD[27] at coalesce at NativeMethodAccessorImpl.java:0 []\\n |  ShuffledRDD[26] at coalesce at NativeMethodAccessorImpl.java:0 []\\n +-(1) MapPartitionsRDD[25] at coalesce at NativeMethodAccessorImpl.java:0 []\\n    |  PythonRDD[24] at RDD at PythonRDD.scala:53 []\\n    |  ParallelCollectionRDD[21] at readRDDFromFile at PythonRDD.scala:274 []'"
      ]
     },
     "execution_count": 31,
     "metadata": {},
     "output_type": "execute_result"
    }
   ],
   "source": [
    "numCoalesce.toDebugString()"
   ]
  },
  {
   "cell_type": "code",
   "execution_count": 32,
   "id": "0b4e57bb",
   "metadata": {},
   "outputs": [
    {
     "data": {
      "text/plain": [
       "1"
      ]
     },
     "execution_count": 32,
     "metadata": {},
     "output_type": "execute_result"
    }
   ],
   "source": [
    "num.getNumPartitions()"
   ]
  },
  {
   "cell_type": "code",
   "execution_count": 33,
   "id": "bc1441cf",
   "metadata": {},
   "outputs": [
    {
     "data": {
      "text/plain": [
       "45"
      ]
     },
     "execution_count": 33,
     "metadata": {},
     "output_type": "execute_result"
    }
   ],
   "source": [
    "num.reduce(lambda x,y:x+y)"
   ]
  },
  {
   "cell_type": "code",
   "execution_count": 34,
   "id": "5476261e",
   "metadata": {},
   "outputs": [
    {
     "data": {
      "text/plain": [
       "362880"
      ]
     },
     "execution_count": 34,
     "metadata": {},
     "output_type": "execute_result"
    }
   ],
   "source": [
    "num.reduce(lambda x,y:x*y)"
   ]
  },
  {
   "cell_type": "code",
   "execution_count": 35,
   "id": "c042049d",
   "metadata": {},
   "outputs": [
    {
     "data": {
      "text/plain": [
       "defaultdict(int, {1: 1, 2: 1, 3: 1, 4: 1, 5: 1, 6: 1, 7: 1, 8: 1, 9: 1})"
      ]
     },
     "execution_count": 35,
     "metadata": {},
     "output_type": "execute_result"
    }
   ],
   "source": [
    "num.countByValue()"
   ]
  },
  {
   "cell_type": "code",
   "execution_count": 36,
   "id": "ddf10b64",
   "metadata": {},
   "outputs": [
    {
     "data": {
      "text/plain": [
       "[1, 2, 3]"
      ]
     },
     "execution_count": 36,
     "metadata": {},
     "output_type": "execute_result"
    }
   ],
   "source": [
    "num.take(3)"
   ]
  },
  {
   "cell_type": "code",
   "execution_count": 30,
   "id": "0b1fb8a0",
   "metadata": {},
   "outputs": [
    {
     "data": {
      "text/plain": [
       "51"
      ]
     },
     "execution_count": 30,
     "metadata": {},
     "output_type": "execute_result"
    }
   ],
   "source": [
    "num.fold(3,lambda x,y:x+y)"
   ]
  },
  {
   "cell_type": "code",
   "execution_count": 31,
   "id": "12c2d7d4",
   "metadata": {},
   "outputs": [
    {
     "data": {
      "text/plain": [
       "1451520"
      ]
     },
     "execution_count": 31,
     "metadata": {},
     "output_type": "execute_result"
    }
   ],
   "source": [
    "num.fold(2,lambda x,y:x*y)"
   ]
  },
  {
   "cell_type": "code",
   "execution_count": 37,
   "id": "0364eff2",
   "metadata": {},
   "outputs": [
    {
     "name": "stdout",
     "output_type": "stream",
     "text": [
      "[2, 3, 4, 5, 7, 9, 0]\n",
      "[1, 2, 3, 4, 5, 6, 7, 8, 9, 0]\n"
     ]
    }
   ],
   "source": [
    "s = sc.parallelize([1,2,3,4,5,6,7,8,9,0])\n",
    "print(s.sample(False,0.8,123).collect())\n",
    "print(s.sample(False,0.8,131).collect())"
   ]
  },
  {
   "cell_type": "code",
   "execution_count": 38,
   "id": "1d00a5d5",
   "metadata": {},
   "outputs": [
    {
     "data": {
      "text/plain": [
       "1"
      ]
     },
     "execution_count": 38,
     "metadata": {},
     "output_type": "execute_result"
    }
   ],
   "source": [
    "num.getNumPartitions()"
   ]
  },
  {
   "cell_type": "code",
   "execution_count": 41,
   "id": "43659e0f",
   "metadata": {},
   "outputs": [
    {
     "data": {
      "text/plain": [
       "4"
      ]
     },
     "execution_count": 41,
     "metadata": {},
     "output_type": "execute_result"
    }
   ],
   "source": [
    "num1 = sc.parallelize([12,28,6,4,45,69,35,75,42])\n",
    "num1.getNumPartitions()"
   ]
  },
  {
   "cell_type": "code",
   "execution_count": 42,
   "id": "5e6f664a",
   "metadata": {},
   "outputs": [
    {
     "data": {
      "text/plain": [
       "[[12, 28], [6, 4], [45, 69], [35, 75, 42]]"
      ]
     },
     "execution_count": 42,
     "metadata": {},
     "output_type": "execute_result"
    }
   ],
   "source": [
    "num1.glom().collect()"
   ]
  },
  {
   "cell_type": "code",
   "execution_count": 43,
   "id": "10c5a01a",
   "metadata": {},
   "outputs": [
    {
     "data": {
      "text/plain": [
       "[5, 1, 2, 7, 3, 8, 9]"
      ]
     },
     "execution_count": 43,
     "metadata": {},
     "output_type": "execute_result"
    }
   ],
   "source": [
    "num.subtract(num1).collect()"
   ]
  },
  {
   "cell_type": "code",
   "execution_count": 44,
   "id": "5305d72f",
   "metadata": {},
   "outputs": [
    {
     "data": {
      "text/plain": [
       "[1, 2, 3, 4, 5, 6, 7, 8, 9, 12, 28, 6, 4, 45, 69, 35, 75, 42]"
      ]
     },
     "execution_count": 44,
     "metadata": {},
     "output_type": "execute_result"
    }
   ],
   "source": [
    "num.union(num1).collect()"
   ]
  },
  {
   "cell_type": "code",
   "execution_count": 45,
   "id": "d9fb6a6e",
   "metadata": {},
   "outputs": [
    {
     "data": {
      "text/plain": [
       "[6, 4]"
      ]
     },
     "execution_count": 45,
     "metadata": {},
     "output_type": "execute_result"
    }
   ],
   "source": [
    "num.intersection(num1).collect()"
   ]
  },
  {
   "cell_type": "code",
   "execution_count": 46,
   "id": "3b89d6b4",
   "metadata": {},
   "outputs": [
    {
     "data": {
      "text/plain": [
       "[1, 2, 3, 4, 5, 6, 7, 8, 9]"
      ]
     },
     "execution_count": 46,
     "metadata": {},
     "output_type": "execute_result"
    }
   ],
   "source": [
    "num.distinct().collect()"
   ]
  },
  {
   "cell_type": "code",
   "execution_count": 47,
   "id": "8a4e56ec",
   "metadata": {},
   "outputs": [],
   "source": [
    "names = sc.parallelize([\"abahs\",\"jsgdj\",\"andios\",\"jdaopj\",\"baofje\"])\n",
    "\n",
    "names_grp = names.groupBy(lambda x: x[-1]).collect()"
   ]
  },
  {
   "cell_type": "code",
   "execution_count": 48,
   "id": "bd1b4977",
   "metadata": {},
   "outputs": [
    {
     "data": {
      "text/plain": [
       "[('s', <pyspark.resultiterable.ResultIterable at 0x7f9905381760>),\n",
       " ('e', <pyspark.resultiterable.ResultIterable at 0x7f990530cbe0>),\n",
       " ('j', <pyspark.resultiterable.ResultIterable at 0x7f990530cc40>)]"
      ]
     },
     "execution_count": 48,
     "metadata": {},
     "output_type": "execute_result"
    }
   ],
   "source": [
    "names_grp"
   ]
  },
  {
   "cell_type": "code",
   "execution_count": 49,
   "id": "0b747e86",
   "metadata": {},
   "outputs": [
    {
     "name": "stdout",
     "output_type": "stream",
     "text": [
      "s ['abahs', 'andios']\n",
      "e ['baofje']\n",
      "j ['jsgdj', 'jdaopj']\n"
     ]
    }
   ],
   "source": [
    "for k,v in names_grp:\n",
    "    print(k,list(v))"
   ]
  },
  {
   "cell_type": "code",
   "execution_count": 50,
   "id": "99d5b136",
   "metadata": {},
   "outputs": [
    {
     "data": {
      "text/plain": [
       "[2, 4, 6, 8]"
      ]
     },
     "execution_count": 50,
     "metadata": {},
     "output_type": "execute_result"
    }
   ],
   "source": [
    "num.filter(lambda x : x%2==0).collect()"
   ]
  },
  {
   "cell_type": "code",
   "execution_count": 51,
   "id": "90cb08f1",
   "metadata": {},
   "outputs": [
    {
     "data": {
      "text/plain": [
       "[2, 4, 6, 8, 10, 12, 14, 16, 18]"
      ]
     },
     "execution_count": 51,
     "metadata": {},
     "output_type": "execute_result"
    }
   ],
   "source": [
    "num.map(lambda x : x*2).collect()"
   ]
  },
  {
   "cell_type": "code",
   "execution_count": 52,
   "id": "77237587",
   "metadata": {},
   "outputs": [
    {
     "data": {
      "text/plain": [
       "1"
      ]
     },
     "execution_count": 52,
     "metadata": {},
     "output_type": "execute_result"
    }
   ],
   "source": [
    "num.reduce(min)"
   ]
  },
  {
   "cell_type": "code",
   "execution_count": 53,
   "id": "27ca3115",
   "metadata": {},
   "outputs": [
    {
     "data": {
      "text/plain": [
       "[12, 28, 4, 45, 69, 6, 42, 35, 75]"
      ]
     },
     "execution_count": 53,
     "metadata": {},
     "output_type": "execute_result"
    }
   ],
   "source": [
    "num1.distinct().collect()"
   ]
  },
  {
   "cell_type": "markdown",
   "id": "32cb8011",
   "metadata": {},
   "source": [
    "KEY VALUE PAIR TRANSFORMATION"
   ]
  },
  {
   "cell_type": "code",
   "execution_count": 45,
   "id": "2eb17d49",
   "metadata": {},
   "outputs": [
    {
     "data": {
      "text/plain": [
       "[(1, 7), (2, 10), (3, 6)]"
      ]
     },
     "execution_count": 45,
     "metadata": {},
     "output_type": "execute_result"
    }
   ],
   "source": [
    "kv = sc.parallelize([(1,2),(2,3),(1,5),(3,6),(2,7)])\n",
    "kv.groupByKey().mapValues(sum).collect()"
   ]
  },
  {
   "cell_type": "code",
   "execution_count": 46,
   "id": "9454c71a",
   "metadata": {},
   "outputs": [
    {
     "data": {
      "text/plain": [
       "[(1, 2), (2, 3), (3, 6)]"
      ]
     },
     "execution_count": 46,
     "metadata": {},
     "output_type": "execute_result"
    }
   ],
   "source": [
    "kv.reduceByKey(min).collect()"
   ]
  },
  {
   "cell_type": "markdown",
   "id": "e25f6097",
   "metadata": {},
   "source": [
    "## saving RDD"
   ]
  },
  {
   "cell_type": "code",
   "execution_count": 56,
   "id": "d7f724d4",
   "metadata": {},
   "outputs": [],
   "source": [
    "data.saveAsTextFile(\"SavedRDD\")"
   ]
  },
  {
   "cell_type": "code",
   "execution_count": 57,
   "id": "828271c3",
   "metadata": {},
   "outputs": [
    {
     "name": "stderr",
     "output_type": "stream",
     "text": [
      "22/04/06 11:32:15 WARN HeartbeatReceiver: Removing executor driver with no recent heartbeats: 1473956 ms exceeds timeout 120000 ms\n",
      "22/04/06 11:32:15 WARN SparkContext: Killing executors is not supported by current scheduler.\n"
     ]
    }
   ],
   "source": [
    "def toCSV(data):\n",
    "    return ','.join(str(d) for d in data)\n",
    "\n",
    "csvFile = data.map(toCSV)\n",
    "csvFile.saveAsTextFile(\"dataCSV.csv\")"
   ]
  },
  {
   "cell_type": "markdown",
   "id": "20e8bfdf",
   "metadata": {},
   "source": [
    "# DataFrames"
   ]
  },
  {
   "cell_type": "code",
   "execution_count": 10,
   "id": "56892155",
   "metadata": {},
   "outputs": [
    {
     "name": "stderr",
     "output_type": "stream",
     "text": [
      "22/04/26 12:58:53 WARN Utils: Your hostname, shashank resolves to a loopback address: 127.0.1.1; using 192.168.0.108 instead (on interface wlp3s0)\n",
      "22/04/26 12:58:53 WARN Utils: Set SPARK_LOCAL_IP if you need to bind to another address\n",
      "WARNING: An illegal reflective access operation has occurred\n",
      "WARNING: Illegal reflective access by org.apache.spark.unsafe.Platform (file:/opt/spark/jars/spark-unsafe_2.12-3.2.1.jar) to constructor java.nio.DirectByteBuffer(long,int)\n",
      "WARNING: Please consider reporting this to the maintainers of org.apache.spark.unsafe.Platform\n",
      "WARNING: Use --illegal-access=warn to enable warnings of further illegal reflective access operations\n",
      "WARNING: All illegal access operations will be denied in a future release\n",
      "Using Spark's default log4j profile: org/apache/spark/log4j-defaults.properties\n",
      "Setting default log level to \"WARN\".\n",
      "To adjust logging level use sc.setLogLevel(newLevel). For SparkR, use setLogLevel(newLevel).\n",
      "22/04/26 12:58:54 WARN NativeCodeLoader: Unable to load native-hadoop library for your platform... using builtin-java classes where applicable\n"
     ]
    }
   ],
   "source": [
    "spark = SparkSession.builder\\\n",
    ".master('local[2]')\\\n",
    ".appName(\"App\")\\\n",
    ".getOrCreate()"
   ]
  },
  {
   "cell_type": "code",
   "execution_count": 75,
   "id": "3c0bdcfa",
   "metadata": {},
   "outputs": [],
   "source": [
    "spark2 = SparkSession.builder.master('local[4]').appName(\"App2\").getOrCreate()"
   ]
  },
  {
   "cell_type": "code",
   "execution_count": 11,
   "id": "fac7a45e",
   "metadata": {},
   "outputs": [],
   "source": [
    "columns = [\"language\",\"users_count\"]\n",
    "data = [(\"Java\", 20000), (\"Python\", 100000), (\"Scala\", 3000)]"
   ]
  },
  {
   "cell_type": "code",
   "execution_count": 12,
   "id": "7589f2b0",
   "metadata": {},
   "outputs": [
    {
     "name": "stderr",
     "output_type": "stream",
     "text": [
      "                                                                                \r"
     ]
    }
   ],
   "source": [
    "#converting rdd to dataframe\n",
    "rdd = spark.sparkContext.parallelize(data)\n",
    "dfFromRdd = rdd.toDF(columns)"
   ]
  },
  {
   "cell_type": "code",
   "execution_count": 13,
   "id": "909d55c8",
   "metadata": {},
   "outputs": [
    {
     "name": "stdout",
     "output_type": "stream",
     "text": [
      "+--------+-----------+\n",
      "|language|users_count|\n",
      "+--------+-----------+\n",
      "|    Java|      20000|\n",
      "|  Python|     100000|\n",
      "|   Scala|       3000|\n",
      "+--------+-----------+\n",
      "\n"
     ]
    }
   ],
   "source": [
    "dfFromRdd.show()"
   ]
  },
  {
   "cell_type": "code",
   "execution_count": 55,
   "id": "39c39235",
   "metadata": {},
   "outputs": [
    {
     "name": "stderr",
     "output_type": "stream",
     "text": [
      "[Stage 103:============================================>           (8 + 1) / 10]\r"
     ]
    },
    {
     "name": "stdout",
     "output_type": "stream",
     "text": [
      "+-------+------------------+-------------+------------------+-----------+-----------------+--------------------+-----+-----------+\n",
      "|summary|                ID|         Name|               Age|Nationality|          Overall|                Club|Value|     Joined|\n",
      "+-------+------------------+-------------+------------------+-----------+-----------------+--------------------+-----+-----------+\n",
      "|  count|             18207|        18207|             18207|      18207|            18207|               17966|18207|      16654|\n",
      "|   mean|214298.33860603065|         null|25.122205745043114|       null|66.23869940132916|                null| null|       null|\n",
      "| stddev| 29965.24420376609|         null| 4.669942713414311|       null| 6.90892961188289|                null| null|       null|\n",
      "|    min|                16|     A. Abang|                16|Afghanistan|               46| SSV Jahn Regensburg|   €0|Apr 1, 2008|\n",
      "|    max|            246620|Óscar Whalley|                45|   Zimbabwe|               94|       Śląsk Wrocław|  €9M|Sep 9, 2018|\n",
      "+-------+------------------+-------------+------------------+-----------+-----------------+--------------------+-----+-----------+\n",
      "\n"
     ]
    },
    {
     "name": "stderr",
     "output_type": "stream",
     "text": [
      "\r",
      "                                                                                \r"
     ]
    }
   ],
   "source": [
    "df.describe().show()"
   ]
  },
  {
   "cell_type": "code",
   "execution_count": 14,
   "id": "afac3c32",
   "metadata": {},
   "outputs": [],
   "source": [
    "from pyspark.sql.types import StructField,StructType,StringType,IntegerType,DateType\n",
    "from pyspark.sql.functions import lit,col,isnan,regexp_replace,avg,sum,when\n",
    "import pyspark.sql.functions as f"
   ]
  },
  {
   "cell_type": "code",
   "execution_count": 15,
   "id": "14697c42",
   "metadata": {},
   "outputs": [],
   "source": [
    "#specifying schema for dataframes\n",
    "schema = StructType([StructField(\"language\",StringType()),StructField(\"users_count\",IntegerType())])"
   ]
  },
  {
   "cell_type": "code",
   "execution_count": 16,
   "id": "8dba5064",
   "metadata": {},
   "outputs": [],
   "source": [
    "dfSchema = spark.createDataFrame(data=data,schema=schema)"
   ]
  },
  {
   "cell_type": "code",
   "execution_count": 17,
   "id": "49d68c86",
   "metadata": {},
   "outputs": [
    {
     "name": "stdout",
     "output_type": "stream",
     "text": [
      "+--------+-----------+\n",
      "|language|users_count|\n",
      "+--------+-----------+\n",
      "|    Java|      20000|\n",
      "|  Python|     100000|\n",
      "|   Scala|       3000|\n",
      "+--------+-----------+\n",
      "\n"
     ]
    }
   ],
   "source": [
    "dfSchema.show()"
   ]
  },
  {
   "cell_type": "code",
   "execution_count": 18,
   "id": "4a53338f",
   "metadata": {},
   "outputs": [
    {
     "name": "stdout",
     "output_type": "stream",
     "text": [
      "+--------+-----------+-------+-----+\n",
      "|language|users_count|Country|State|\n",
      "+--------+-----------+-------+-----+\n",
      "|    Java|      20000|  India|  Goa|\n",
      "|  Python|     100000|  India|  Goa|\n",
      "|   Scala|       3000|  India|  Goa|\n",
      "+--------+-----------+-------+-----+\n",
      "\n"
     ]
    }
   ],
   "source": [
    "df = dfSchema.withColumn(\"Country\",lit(\"India\")).withColumn(\"State\",lit(\"Goa\"))\n",
    "df.show()"
   ]
  },
  {
   "cell_type": "code",
   "execution_count": 18,
   "id": "043b6bc2",
   "metadata": {},
   "outputs": [
    {
     "name": "stdout",
     "output_type": "stream",
     "text": [
      "+--------+-----------+------------+\n",
      "|language|users_count|  Popularity|\n",
      "+--------+-----------+------------+\n",
      "|    Java|      20000|Intermediate|\n",
      "|  Python|     100000|Most Populer|\n",
      "|   Scala|       3000|Less Populer|\n",
      "+--------+-----------+------------+\n",
      "\n"
     ]
    }
   ],
   "source": [
    "df = dfSchema.withColumn(\"Popularity\",when(col(\"users_count\")>20000,\"Most Populer\")\\\n",
    "                         .when(col(\"users_count\")>5000,\"Intermediate\")\\\n",
    "                         .otherwise(\"Less Populer\"))\n",
    "\n",
    "df.show()"
   ]
  },
  {
   "cell_type": "code",
   "execution_count": 25,
   "id": "e2618d74",
   "metadata": {
    "collapsed": true
   },
   "outputs": [
    {
     "ename": "AnalysisException",
     "evalue": "Cannot modify the value of a Spark config: spark.executor.memory",
     "output_type": "error",
     "traceback": [
      "\u001b[0;31m---------------------------------------------------------------------------\u001b[0m",
      "\u001b[0;31mAnalysisException\u001b[0m                         Traceback (most recent call last)",
      "\u001b[0;32m/tmp/ipykernel_4988/1898087147.py\u001b[0m in \u001b[0;36m<module>\u001b[0;34m\u001b[0m\n\u001b[1;32m      1\u001b[0m \u001b[0;31m# ERROR\u001b[0m\u001b[0;34m\u001b[0m\u001b[0;34m\u001b[0m\u001b[0;34m\u001b[0m\u001b[0m\n\u001b[0;32m----> 2\u001b[0;31m \u001b[0mspark\u001b[0m\u001b[0;34m.\u001b[0m\u001b[0mconf\u001b[0m\u001b[0;34m.\u001b[0m\u001b[0mset\u001b[0m\u001b[0;34m(\u001b[0m\u001b[0;34m\"spark.executor.memory\"\u001b[0m\u001b[0;34m,\u001b[0m\u001b[0;34m\"4g\"\u001b[0m\u001b[0;34m)\u001b[0m\u001b[0;34m\u001b[0m\u001b[0;34m\u001b[0m\u001b[0m\n\u001b[0m\u001b[1;32m      3\u001b[0m \u001b[0mspark\u001b[0m\u001b[0;34m.\u001b[0m\u001b[0mconf\u001b[0m\u001b[0;34m.\u001b[0m\u001b[0mset\u001b[0m\u001b[0;34m(\u001b[0m\u001b[0;34m\"spark.executor.cores\"\u001b[0m\u001b[0;34m,\u001b[0m\u001b[0;34m\"2\"\u001b[0m\u001b[0;34m)\u001b[0m\u001b[0;34m\u001b[0m\u001b[0;34m\u001b[0m\u001b[0m\n",
      "\u001b[0;32m~/env/lib/python3.8/site-packages/pyspark/sql/conf.py\u001b[0m in \u001b[0;36mset\u001b[0;34m(self, key, value)\u001b[0m\n\u001b[1;32m     34\u001b[0m     \u001b[0;32mdef\u001b[0m \u001b[0mset\u001b[0m\u001b[0;34m(\u001b[0m\u001b[0mself\u001b[0m\u001b[0;34m,\u001b[0m \u001b[0mkey\u001b[0m\u001b[0;34m,\u001b[0m \u001b[0mvalue\u001b[0m\u001b[0;34m)\u001b[0m\u001b[0;34m:\u001b[0m\u001b[0;34m\u001b[0m\u001b[0;34m\u001b[0m\u001b[0m\n\u001b[1;32m     35\u001b[0m         \u001b[0;34m\"\"\"Sets the given Spark runtime configuration property.\"\"\"\u001b[0m\u001b[0;34m\u001b[0m\u001b[0;34m\u001b[0m\u001b[0m\n\u001b[0;32m---> 36\u001b[0;31m         \u001b[0mself\u001b[0m\u001b[0;34m.\u001b[0m\u001b[0m_jconf\u001b[0m\u001b[0;34m.\u001b[0m\u001b[0mset\u001b[0m\u001b[0;34m(\u001b[0m\u001b[0mkey\u001b[0m\u001b[0;34m,\u001b[0m \u001b[0mvalue\u001b[0m\u001b[0;34m)\u001b[0m\u001b[0;34m\u001b[0m\u001b[0;34m\u001b[0m\u001b[0m\n\u001b[0m\u001b[1;32m     37\u001b[0m \u001b[0;34m\u001b[0m\u001b[0m\n\u001b[1;32m     38\u001b[0m     \u001b[0;34m@\u001b[0m\u001b[0msince\u001b[0m\u001b[0;34m(\u001b[0m\u001b[0;36m2.0\u001b[0m\u001b[0;34m)\u001b[0m\u001b[0;34m\u001b[0m\u001b[0;34m\u001b[0m\u001b[0m\n",
      "\u001b[0;32m~/env/lib/python3.8/site-packages/py4j/java_gateway.py\u001b[0m in \u001b[0;36m__call__\u001b[0;34m(self, *args)\u001b[0m\n\u001b[1;32m   1319\u001b[0m \u001b[0;34m\u001b[0m\u001b[0m\n\u001b[1;32m   1320\u001b[0m         \u001b[0manswer\u001b[0m \u001b[0;34m=\u001b[0m \u001b[0mself\u001b[0m\u001b[0;34m.\u001b[0m\u001b[0mgateway_client\u001b[0m\u001b[0;34m.\u001b[0m\u001b[0msend_command\u001b[0m\u001b[0;34m(\u001b[0m\u001b[0mcommand\u001b[0m\u001b[0;34m)\u001b[0m\u001b[0;34m\u001b[0m\u001b[0;34m\u001b[0m\u001b[0m\n\u001b[0;32m-> 1321\u001b[0;31m         return_value = get_return_value(\n\u001b[0m\u001b[1;32m   1322\u001b[0m             answer, self.gateway_client, self.target_id, self.name)\n\u001b[1;32m   1323\u001b[0m \u001b[0;34m\u001b[0m\u001b[0m\n",
      "\u001b[0;32m~/env/lib/python3.8/site-packages/pyspark/sql/utils.py\u001b[0m in \u001b[0;36mdeco\u001b[0;34m(*a, **kw)\u001b[0m\n\u001b[1;32m    115\u001b[0m                 \u001b[0;31m# Hide where the exception came from that shows a non-Pythonic\u001b[0m\u001b[0;34m\u001b[0m\u001b[0;34m\u001b[0m\u001b[0;34m\u001b[0m\u001b[0m\n\u001b[1;32m    116\u001b[0m                 \u001b[0;31m# JVM exception message.\u001b[0m\u001b[0;34m\u001b[0m\u001b[0;34m\u001b[0m\u001b[0;34m\u001b[0m\u001b[0m\n\u001b[0;32m--> 117\u001b[0;31m                 \u001b[0;32mraise\u001b[0m \u001b[0mconverted\u001b[0m \u001b[0;32mfrom\u001b[0m \u001b[0;32mNone\u001b[0m\u001b[0;34m\u001b[0m\u001b[0;34m\u001b[0m\u001b[0m\n\u001b[0m\u001b[1;32m    118\u001b[0m             \u001b[0;32melse\u001b[0m\u001b[0;34m:\u001b[0m\u001b[0;34m\u001b[0m\u001b[0;34m\u001b[0m\u001b[0m\n\u001b[1;32m    119\u001b[0m                 \u001b[0;32mraise\u001b[0m\u001b[0;34m\u001b[0m\u001b[0;34m\u001b[0m\u001b[0m\n",
      "\u001b[0;31mAnalysisException\u001b[0m: Cannot modify the value of a Spark config: spark.executor.memory"
     ]
    }
   ],
   "source": [
    "# ERROR \n",
    "# spark.conf.set(\"spark.executor.memory\",\"4g\")\n",
    "# spark.conf.set(\"spark.executor.cores\",\"2\")"
   ]
  },
  {
   "cell_type": "code",
   "execution_count": 32,
   "id": "ba5647bb",
   "metadata": {
    "collapsed": true
   },
   "outputs": [
    {
     "ename": "Py4JJavaError",
     "evalue": "An error occurred while calling o140.get.\n: java.util.NoSuchElementException: spark.executor.cores\n\tat org.apache.spark.sql.errors.QueryExecutionErrors$.noSuchElementExceptionError(QueryExecutionErrors.scala:1494)\n\tat org.apache.spark.sql.internal.SQLConf.$anonfun$getConfString$3(SQLConf.scala:4128)\n\tat scala.Option.getOrElse(Option.scala:189)\n\tat org.apache.spark.sql.internal.SQLConf.getConfString(SQLConf.scala:4128)\n\tat org.apache.spark.sql.RuntimeConfig.get(RuntimeConfig.scala:72)\n\tat java.base/jdk.internal.reflect.NativeMethodAccessorImpl.invoke0(Native Method)\n\tat java.base/jdk.internal.reflect.NativeMethodAccessorImpl.invoke(NativeMethodAccessorImpl.java:62)\n\tat java.base/jdk.internal.reflect.DelegatingMethodAccessorImpl.invoke(DelegatingMethodAccessorImpl.java:43)\n\tat java.base/java.lang.reflect.Method.invoke(Method.java:566)\n\tat py4j.reflection.MethodInvoker.invoke(MethodInvoker.java:244)\n\tat py4j.reflection.ReflectionEngine.invoke(ReflectionEngine.java:357)\n\tat py4j.Gateway.invoke(Gateway.java:282)\n\tat py4j.commands.AbstractCommand.invokeMethod(AbstractCommand.java:132)\n\tat py4j.commands.CallCommand.execute(CallCommand.java:79)\n\tat py4j.ClientServerConnection.waitForCommands(ClientServerConnection.java:182)\n\tat py4j.ClientServerConnection.run(ClientServerConnection.java:106)\n\tat java.base/java.lang.Thread.run(Thread.java:829)\n",
     "output_type": "error",
     "traceback": [
      "\u001b[0;31m---------------------------------------------------------------------------\u001b[0m",
      "\u001b[0;31mPy4JJavaError\u001b[0m                             Traceback (most recent call last)",
      "\u001b[0;32m/tmp/ipykernel_5177/2896726330.py\u001b[0m in \u001b[0;36m<module>\u001b[0;34m\u001b[0m\n\u001b[0;32m----> 1\u001b[0;31m \u001b[0mspark\u001b[0m\u001b[0;34m.\u001b[0m\u001b[0mconf\u001b[0m\u001b[0;34m.\u001b[0m\u001b[0mget\u001b[0m\u001b[0;34m(\u001b[0m\u001b[0;34m\"spark.executor.cores\"\u001b[0m\u001b[0;34m)\u001b[0m\u001b[0;34m\u001b[0m\u001b[0;34m\u001b[0m\u001b[0m\n\u001b[0m",
      "\u001b[0;32m~/env/lib/python3.8/site-packages/pyspark/sql/conf.py\u001b[0m in \u001b[0;36mget\u001b[0;34m(self, key, default)\u001b[0m\n\u001b[1;32m     43\u001b[0m         \u001b[0mself\u001b[0m\u001b[0;34m.\u001b[0m\u001b[0m_checkType\u001b[0m\u001b[0;34m(\u001b[0m\u001b[0mkey\u001b[0m\u001b[0;34m,\u001b[0m \u001b[0;34m\"key\"\u001b[0m\u001b[0;34m)\u001b[0m\u001b[0;34m\u001b[0m\u001b[0;34m\u001b[0m\u001b[0m\n\u001b[1;32m     44\u001b[0m         \u001b[0;32mif\u001b[0m \u001b[0mdefault\u001b[0m \u001b[0;32mis\u001b[0m \u001b[0m_NoValue\u001b[0m\u001b[0;34m:\u001b[0m\u001b[0;34m\u001b[0m\u001b[0;34m\u001b[0m\u001b[0m\n\u001b[0;32m---> 45\u001b[0;31m             \u001b[0;32mreturn\u001b[0m \u001b[0mself\u001b[0m\u001b[0;34m.\u001b[0m\u001b[0m_jconf\u001b[0m\u001b[0;34m.\u001b[0m\u001b[0mget\u001b[0m\u001b[0;34m(\u001b[0m\u001b[0mkey\u001b[0m\u001b[0;34m)\u001b[0m\u001b[0;34m\u001b[0m\u001b[0;34m\u001b[0m\u001b[0m\n\u001b[0m\u001b[1;32m     46\u001b[0m         \u001b[0;32melse\u001b[0m\u001b[0;34m:\u001b[0m\u001b[0;34m\u001b[0m\u001b[0;34m\u001b[0m\u001b[0m\n\u001b[1;32m     47\u001b[0m             \u001b[0;32mif\u001b[0m \u001b[0mdefault\u001b[0m \u001b[0;32mis\u001b[0m \u001b[0;32mnot\u001b[0m \u001b[0;32mNone\u001b[0m\u001b[0;34m:\u001b[0m\u001b[0;34m\u001b[0m\u001b[0;34m\u001b[0m\u001b[0m\n",
      "\u001b[0;32m~/env/lib/python3.8/site-packages/py4j/java_gateway.py\u001b[0m in \u001b[0;36m__call__\u001b[0;34m(self, *args)\u001b[0m\n\u001b[1;32m   1319\u001b[0m \u001b[0;34m\u001b[0m\u001b[0m\n\u001b[1;32m   1320\u001b[0m         \u001b[0manswer\u001b[0m \u001b[0;34m=\u001b[0m \u001b[0mself\u001b[0m\u001b[0;34m.\u001b[0m\u001b[0mgateway_client\u001b[0m\u001b[0;34m.\u001b[0m\u001b[0msend_command\u001b[0m\u001b[0;34m(\u001b[0m\u001b[0mcommand\u001b[0m\u001b[0;34m)\u001b[0m\u001b[0;34m\u001b[0m\u001b[0;34m\u001b[0m\u001b[0m\n\u001b[0;32m-> 1321\u001b[0;31m         return_value = get_return_value(\n\u001b[0m\u001b[1;32m   1322\u001b[0m             answer, self.gateway_client, self.target_id, self.name)\n\u001b[1;32m   1323\u001b[0m \u001b[0;34m\u001b[0m\u001b[0m\n",
      "\u001b[0;32m~/env/lib/python3.8/site-packages/pyspark/sql/utils.py\u001b[0m in \u001b[0;36mdeco\u001b[0;34m(*a, **kw)\u001b[0m\n\u001b[1;32m    109\u001b[0m     \u001b[0;32mdef\u001b[0m \u001b[0mdeco\u001b[0m\u001b[0;34m(\u001b[0m\u001b[0;34m*\u001b[0m\u001b[0ma\u001b[0m\u001b[0;34m,\u001b[0m \u001b[0;34m**\u001b[0m\u001b[0mkw\u001b[0m\u001b[0;34m)\u001b[0m\u001b[0;34m:\u001b[0m\u001b[0;34m\u001b[0m\u001b[0;34m\u001b[0m\u001b[0m\n\u001b[1;32m    110\u001b[0m         \u001b[0;32mtry\u001b[0m\u001b[0;34m:\u001b[0m\u001b[0;34m\u001b[0m\u001b[0;34m\u001b[0m\u001b[0m\n\u001b[0;32m--> 111\u001b[0;31m             \u001b[0;32mreturn\u001b[0m \u001b[0mf\u001b[0m\u001b[0;34m(\u001b[0m\u001b[0;34m*\u001b[0m\u001b[0ma\u001b[0m\u001b[0;34m,\u001b[0m \u001b[0;34m**\u001b[0m\u001b[0mkw\u001b[0m\u001b[0;34m)\u001b[0m\u001b[0;34m\u001b[0m\u001b[0;34m\u001b[0m\u001b[0m\n\u001b[0m\u001b[1;32m    112\u001b[0m         \u001b[0;32mexcept\u001b[0m \u001b[0mpy4j\u001b[0m\u001b[0;34m.\u001b[0m\u001b[0mprotocol\u001b[0m\u001b[0;34m.\u001b[0m\u001b[0mPy4JJavaError\u001b[0m \u001b[0;32mas\u001b[0m \u001b[0me\u001b[0m\u001b[0;34m:\u001b[0m\u001b[0;34m\u001b[0m\u001b[0;34m\u001b[0m\u001b[0m\n\u001b[1;32m    113\u001b[0m             \u001b[0mconverted\u001b[0m \u001b[0;34m=\u001b[0m \u001b[0mconvert_exception\u001b[0m\u001b[0;34m(\u001b[0m\u001b[0me\u001b[0m\u001b[0;34m.\u001b[0m\u001b[0mjava_exception\u001b[0m\u001b[0;34m)\u001b[0m\u001b[0;34m\u001b[0m\u001b[0;34m\u001b[0m\u001b[0m\n",
      "\u001b[0;32m~/env/lib/python3.8/site-packages/py4j/protocol.py\u001b[0m in \u001b[0;36mget_return_value\u001b[0;34m(answer, gateway_client, target_id, name)\u001b[0m\n\u001b[1;32m    324\u001b[0m             \u001b[0mvalue\u001b[0m \u001b[0;34m=\u001b[0m \u001b[0mOUTPUT_CONVERTER\u001b[0m\u001b[0;34m[\u001b[0m\u001b[0mtype\u001b[0m\u001b[0;34m]\u001b[0m\u001b[0;34m(\u001b[0m\u001b[0manswer\u001b[0m\u001b[0;34m[\u001b[0m\u001b[0;36m2\u001b[0m\u001b[0;34m:\u001b[0m\u001b[0;34m]\u001b[0m\u001b[0;34m,\u001b[0m \u001b[0mgateway_client\u001b[0m\u001b[0;34m)\u001b[0m\u001b[0;34m\u001b[0m\u001b[0;34m\u001b[0m\u001b[0m\n\u001b[1;32m    325\u001b[0m             \u001b[0;32mif\u001b[0m \u001b[0manswer\u001b[0m\u001b[0;34m[\u001b[0m\u001b[0;36m1\u001b[0m\u001b[0;34m]\u001b[0m \u001b[0;34m==\u001b[0m \u001b[0mREFERENCE_TYPE\u001b[0m\u001b[0;34m:\u001b[0m\u001b[0;34m\u001b[0m\u001b[0;34m\u001b[0m\u001b[0m\n\u001b[0;32m--> 326\u001b[0;31m                 raise Py4JJavaError(\n\u001b[0m\u001b[1;32m    327\u001b[0m                     \u001b[0;34m\"An error occurred while calling {0}{1}{2}.\\n\"\u001b[0m\u001b[0;34m.\u001b[0m\u001b[0;34m\u001b[0m\u001b[0;34m\u001b[0m\u001b[0m\n\u001b[1;32m    328\u001b[0m                     format(target_id, \".\", name), value)\n",
      "\u001b[0;31mPy4JJavaError\u001b[0m: An error occurred while calling o140.get.\n: java.util.NoSuchElementException: spark.executor.cores\n\tat org.apache.spark.sql.errors.QueryExecutionErrors$.noSuchElementExceptionError(QueryExecutionErrors.scala:1494)\n\tat org.apache.spark.sql.internal.SQLConf.$anonfun$getConfString$3(SQLConf.scala:4128)\n\tat scala.Option.getOrElse(Option.scala:189)\n\tat org.apache.spark.sql.internal.SQLConf.getConfString(SQLConf.scala:4128)\n\tat org.apache.spark.sql.RuntimeConfig.get(RuntimeConfig.scala:72)\n\tat java.base/jdk.internal.reflect.NativeMethodAccessorImpl.invoke0(Native Method)\n\tat java.base/jdk.internal.reflect.NativeMethodAccessorImpl.invoke(NativeMethodAccessorImpl.java:62)\n\tat java.base/jdk.internal.reflect.DelegatingMethodAccessorImpl.invoke(DelegatingMethodAccessorImpl.java:43)\n\tat java.base/java.lang.reflect.Method.invoke(Method.java:566)\n\tat py4j.reflection.MethodInvoker.invoke(MethodInvoker.java:244)\n\tat py4j.reflection.ReflectionEngine.invoke(ReflectionEngine.java:357)\n\tat py4j.Gateway.invoke(Gateway.java:282)\n\tat py4j.commands.AbstractCommand.invokeMethod(AbstractCommand.java:132)\n\tat py4j.commands.CallCommand.execute(CallCommand.java:79)\n\tat py4j.ClientServerConnection.waitForCommands(ClientServerConnection.java:182)\n\tat py4j.ClientServerConnection.run(ClientServerConnection.java:106)\n\tat java.base/java.lang.Thread.run(Thread.java:829)\n"
     ]
    }
   ],
   "source": [
    "# spark.conf.get(\"spark.executor.cores\")  #ERROR"
   ]
  },
  {
   "cell_type": "code",
   "execution_count": 19,
   "id": "4ea8e20f",
   "metadata": {},
   "outputs": [],
   "source": [
    "# spark.stop()"
   ]
  },
  {
   "cell_type": "markdown",
   "id": "9fb25fde",
   "metadata": {},
   "source": [
    "## Football datasets"
   ]
  },
  {
   "cell_type": "code",
   "execution_count": 19,
   "id": "406f2fe6",
   "metadata": {
    "scrolled": true
   },
   "outputs": [
    {
     "data": {
      "text/plain": [
       "['Catalog',\n",
       " 'Column',\n",
       " 'DataFrame',\n",
       " 'DataFrameNaFunctions',\n",
       " 'DataFrameReader',\n",
       " 'DataFrameStatFunctions',\n",
       " 'DataFrameWriter',\n",
       " 'GroupedData',\n",
       " 'HiveContext',\n",
       " 'PandasCogroupedOps',\n",
       " 'Row',\n",
       " 'SQLContext',\n",
       " 'SparkSession',\n",
       " 'UDFRegistration',\n",
       " 'Window',\n",
       " 'WindowSpec',\n",
       " '__all__',\n",
       " '__builtins__',\n",
       " '__cached__',\n",
       " '__doc__',\n",
       " '__file__',\n",
       " '__loader__',\n",
       " '__name__',\n",
       " '__package__',\n",
       " '__path__',\n",
       " '__spec__',\n",
       " 'catalog',\n",
       " 'column',\n",
       " 'conf',\n",
       " 'context',\n",
       " 'dataframe',\n",
       " 'functions',\n",
       " 'group',\n",
       " 'pandas',\n",
       " 'readwriter',\n",
       " 'session',\n",
       " 'streaming',\n",
       " 'types',\n",
       " 'udf',\n",
       " 'utils',\n",
       " 'window']"
      ]
     },
     "execution_count": 19,
     "metadata": {},
     "output_type": "execute_result"
    }
   ],
   "source": [
    "import pyspark\n",
    "dir(pyspark.sql)"
   ]
  },
  {
   "cell_type": "code",
   "execution_count": 20,
   "id": "85384292",
   "metadata": {},
   "outputs": [
    {
     "name": "stderr",
     "output_type": "stream",
     "text": [
      "                                                                                \r"
     ]
    },
    {
     "data": {
      "text/plain": [
       "Row(ID=158023, Name='L. Messi', Age=31, Nationality='Argentina', Overall=94, Club='FC Barcelona', Value='€110.5M', Joined='Jul 1, 2004')"
      ]
     },
     "execution_count": 20,
     "metadata": {},
     "output_type": "execute_result"
    }
   ],
   "source": [
    "col = ['ID','Name','Age','Nationality','Overall','Club','Value','Joined']\n",
    "df = spark.read.csv('data.csv',header=True,inferSchema=True).select(col)\n",
    "df.head()"
   ]
  },
  {
   "cell_type": "code",
   "execution_count": 21,
   "id": "0de75f2d",
   "metadata": {},
   "outputs": [
    {
     "data": {
      "text/plain": [
       "2"
      ]
     },
     "execution_count": 21,
     "metadata": {},
     "output_type": "execute_result"
    }
   ],
   "source": [
    "df.rdd.getNumPartitions()"
   ]
  },
  {
   "cell_type": "code",
   "execution_count": 23,
   "id": "36742783",
   "metadata": {},
   "outputs": [
    {
     "data": {
      "text/plain": [
       "DataFrame[ID: int, Name: string, Age: int, Nationality: string, Overall: int, Club: string, Value: string, Joined: string]"
      ]
     },
     "execution_count": 23,
     "metadata": {},
     "output_type": "execute_result"
    }
   ],
   "source": [
    "df.persist()"
   ]
  },
  {
   "cell_type": "code",
   "execution_count": 24,
   "id": "a01c8ebb",
   "metadata": {},
   "outputs": [
    {
     "name": "stderr",
     "output_type": "stream",
     "text": [
      "                                                                                \r"
     ]
    },
    {
     "data": {
      "text/plain": [
       "18207"
      ]
     },
     "execution_count": 24,
     "metadata": {},
     "output_type": "execute_result"
    }
   ],
   "source": [
    "df.count()"
   ]
  },
  {
   "cell_type": "code",
   "execution_count": 15,
   "id": "275570a0",
   "metadata": {},
   "outputs": [
    {
     "name": "stdout",
     "output_type": "stream",
     "text": [
      "root\n",
      " |-- petalLength: double (nullable = true)\n",
      " |-- petalWidth: double (nullable = true)\n",
      " |-- sepalLength: double (nullable = true)\n",
      " |-- sepalWidth: double (nullable = true)\n",
      " |-- species: string (nullable = true)\n",
      "\n",
      "root\n",
      " |-- _corrupt_record: string (nullable = true)\n",
      " |-- avatar_url: string (nullable = true)\n",
      " |-- description: string (nullable = true)\n",
      " |-- events_url: string (nullable = true)\n",
      " |-- hooks_url: string (nullable = true)\n",
      " |-- id: long (nullable = true)\n",
      " |-- issues_url: string (nullable = true)\n",
      " |-- login: string (nullable = true)\n",
      " |-- members_url: string (nullable = true)\n",
      " |-- node_id: string (nullable = true)\n",
      " |-- public_members_url: string (nullable = true)\n",
      " |-- repos_url: string (nullable = true)\n",
      " |-- url: string (nullable = true)\n",
      "\n",
      "+--------+\n",
      "|      ID|\n",
      "+--------+\n",
      "|  423638|\n",
      "|  513560|\n",
      "|    null|\n",
      "| 1200269|\n",
      "|    null|\n",
      "| 5695665|\n",
      "|15366137|\n",
      "|22032646|\n",
      "|22618716|\n",
      "|34165516|\n",
      "+--------+\n",
      "\n"
     ]
    }
   ],
   "source": [
    "# loading json file\n",
    "iris = spark.read.json('iris.json',multiLine=True)\n",
    "\n",
    "iris.printSchema()\n",
    "iris.count()\n",
    "\n",
    "# using url https://api.github.com/users/mralexgray/repos\n",
    "import requests\n",
    "import json\n",
    "\n",
    "json_request = requests.request('GET',\"https://api.github.com/users/hadley/orgs\")\n",
    "json_data = json_request.json()\n",
    "\n",
    "f = open('/home/shashank/Practice/url_data.json','w')\n",
    "\n",
    "for record in json_data:\n",
    "    f.write(str(record))\n",
    "    f.write(\"\\n\")\n",
    "    \n",
    "f.close()\n",
    "\n",
    "data = spark.read.json('/home/shashank/Practice/url_data.json')\n",
    "data.printSchema()\n",
    "data.select(\"ID\").show()"
   ]
  },
  {
   "cell_type": "code",
   "execution_count": 25,
   "id": "71e870d7",
   "metadata": {},
   "outputs": [
    {
     "data": {
      "text/plain": [
       "3"
      ]
     },
     "execution_count": 25,
     "metadata": {},
     "output_type": "execute_result"
    }
   ],
   "source": [
    "df.rdd.getNumPartitions()"
   ]
  },
  {
   "cell_type": "code",
   "execution_count": 26,
   "id": "faf0fcc3",
   "metadata": {},
   "outputs": [
    {
     "data": {
      "text/plain": [
       "1"
      ]
     },
     "execution_count": 26,
     "metadata": {},
     "output_type": "execute_result"
    }
   ],
   "source": [
    "df = df.repartition(1)\n",
    "df.rdd.getNumPartitions()"
   ]
  },
  {
   "cell_type": "code",
   "execution_count": 27,
   "id": "cfabc684",
   "metadata": {},
   "outputs": [
    {
     "data": {
      "text/plain": [
       "18207"
      ]
     },
     "execution_count": 27,
     "metadata": {},
     "output_type": "execute_result"
    }
   ],
   "source": [
    "df.distinct().count()"
   ]
  },
  {
   "cell_type": "code",
   "execution_count": 22,
   "id": "e8fbfd8f",
   "metadata": {},
   "outputs": [
    {
     "name": "stdout",
     "output_type": "stream",
     "text": [
      "+------+-----------------+---+-----------+-------+-------------------+-------+------------+\n",
      "|ID    |Name             |Age|Nationality|Overall|Club               |Value  |Joined      |\n",
      "+------+-----------------+---+-----------+-------+-------------------+-------+------------+\n",
      "|158023|L. Messi         |31 |Argentina  |94     |FC Barcelona       |€110.5M|Jul 1, 2004 |\n",
      "|20801 |Cristiano Ronaldo|33 |Portugal   |94     |Juventus           |€77M   |Jul 10, 2018|\n",
      "|190871|Neymar Jr        |26 |Brazil     |92     |Paris Saint-Germain|€118.5M|Aug 3, 2017 |\n",
      "|193080|De Gea           |27 |Spain      |91     |Manchester United  |€72M   |Jul 1, 2011 |\n",
      "|192985|K. De Bruyne     |27 |Belgium    |91     |Manchester City    |€102M  |Aug 30, 2015|\n",
      "|183277|E. Hazard        |27 |Belgium    |91     |Chelsea            |€93M   |Jul 1, 2012 |\n",
      "|177003|L. Modrić        |32 |Croatia    |91     |Real Madrid        |€67M   |Aug 1, 2012 |\n",
      "|176580|L. Suárez        |31 |Uruguay    |91     |FC Barcelona       |€80M   |Jul 11, 2014|\n",
      "|155862|Sergio Ramos     |32 |Spain      |91     |Real Madrid        |€51M   |Aug 1, 2005 |\n",
      "|200389|J. Oblak         |25 |Slovenia   |90     |Atlético Madrid    |€68M   |Jul 16, 2014|\n",
      "|188545|R. Lewandowski   |29 |Poland     |90     |FC Bayern München  |€77M   |Jul 1, 2014 |\n",
      "|182521|T. Kroos         |28 |Germany    |90     |Real Madrid        |€76.5M |Jul 17, 2014|\n",
      "|182493|D. Godín         |32 |Uruguay    |90     |Atlético Madrid    |€44M   |Aug 4, 2010 |\n",
      "|168542|David Silva      |32 |Spain      |90     |Manchester City    |€60M   |Jul 14, 2010|\n",
      "|215914|N. Kanté         |27 |France     |89     |Chelsea            |€63M   |Jul 16, 2016|\n",
      "|211110|P. Dybala        |24 |Argentina  |89     |Juventus           |€89M   |Jul 1, 2015 |\n",
      "|202126|H. Kane          |24 |England    |89     |Tottenham Hotspur  |€83.5M |Jul 1, 2010 |\n",
      "|194765|A. Griezmann     |27 |France     |89     |Atlético Madrid    |€78M   |Jul 28, 2014|\n",
      "|192448|M. ter Stegen    |26 |Germany    |89     |FC Barcelona       |€58M   |Jul 1, 2014 |\n",
      "|192119|T. Courtois      |26 |Belgium    |89     |Real Madrid        |€53.5M |Aug 9, 2018 |\n",
      "+------+-----------------+---+-----------+-------+-------------------+-------+------------+\n",
      "only showing top 20 rows\n",
      "\n"
     ]
    }
   ],
   "source": [
    "df.show(truncate=False)"
   ]
  },
  {
   "cell_type": "code",
   "execution_count": 23,
   "id": "5c1de1a5",
   "metadata": {},
   "outputs": [
    {
     "name": "stdout",
     "output_type": "stream",
     "text": [
      "+------+-----------------+---+-----------+-------+-------------------+-----------+------------+\n",
      "|    ID|             Name|Age|Nationality|Overall|               Club|      Value|      Joined|\n",
      "+------+-----------------+---+-----------+-------+-------------------+-----------+------------+\n",
      "|158023|         L. Messi| 31|  Argentina|     94|       FC Barcelona|11050000000| Jul 1, 2004|\n",
      "| 20801|Cristiano Ronaldo| 33|   Portugal|     94|           Juventus|  770000000|Jul 10, 2018|\n",
      "|190871|        Neymar Jr| 26|     Brazil|     92|Paris Saint-Germain|11850000000| Aug 3, 2017|\n",
      "|193080|           De Gea| 27|      Spain|     91|  Manchester United|  720000000| Jul 1, 2011|\n",
      "|192985|     K. De Bruyne| 27|    Belgium|     91|    Manchester City| 1020000000|Aug 30, 2015|\n",
      "+------+-----------------+---+-----------+-------+-------------------+-----------+------------+\n",
      "only showing top 5 rows\n",
      "\n"
     ]
    }
   ],
   "source": [
    "#changing the datatypes of \"value\" column\n",
    "df.dtypes\n",
    "df = df.withColumn('Value', regexp_replace('Value','[€,.]',''))\n",
    "df = df.withColumn('Value', regexp_replace('Value','[M]','0000000'))\n",
    "df = df.withColumn('Value', regexp_replace('Value','[K]','000'))\n",
    "df = df.withColumn('Value',df.Value.cast('long'))\n",
    "df.show(5)"
   ]
  },
  {
   "cell_type": "code",
   "execution_count": 24,
   "id": "f78b937b",
   "metadata": {},
   "outputs": [],
   "source": [
    "spark.conf.set(\"spark.sql.legacy.timeParserPolicy\",\"LEGACY\")"
   ]
  },
  {
   "cell_type": "code",
   "execution_count": 25,
   "id": "b880c8ca",
   "metadata": {},
   "outputs": [],
   "source": [
    "df = df.withColumn(\"Joined\",f.to_date(df.Joined,\"MMM dd,yyyy\"))  "
   ]
  },
  {
   "cell_type": "code",
   "execution_count": 26,
   "id": "7f6a71aa",
   "metadata": {},
   "outputs": [
    {
     "name": "stdout",
     "output_type": "stream",
     "text": [
      "root\n",
      " |-- ID: integer (nullable = true)\n",
      " |-- Name: string (nullable = true)\n",
      " |-- Age: integer (nullable = true)\n",
      " |-- Nationality: string (nullable = true)\n",
      " |-- Overall: integer (nullable = true)\n",
      " |-- Club: string (nullable = true)\n",
      " |-- Value: long (nullable = true)\n",
      " |-- Joined: date (nullable = true)\n",
      "\n"
     ]
    }
   ],
   "source": [
    "df.printSchema()"
   ]
  },
  {
   "cell_type": "code",
   "execution_count": 27,
   "id": "12bdcaab",
   "metadata": {
    "scrolled": true
   },
   "outputs": [
    {
     "name": "stdout",
     "output_type": "stream",
     "text": [
      "+------+-----------------+---+-----------+-------+-------------------+-----------+----------+\n",
      "|    ID|             Name|Age|Nationality|Overall|               Club|      Value|    Joined|\n",
      "+------+-----------------+---+-----------+-------+-------------------+-----------+----------+\n",
      "|158023|         L. Messi| 31|  Argentina|     94|       FC Barcelona|11050000000|2004-07-01|\n",
      "| 20801|Cristiano Ronaldo| 33|   Portugal|     94|           Juventus|  770000000|2018-07-10|\n",
      "|190871|        Neymar Jr| 26|     Brazil|     92|Paris Saint-Germain|11850000000|2017-08-03|\n",
      "|193080|           De Gea| 27|      Spain|     91|  Manchester United|  720000000|2011-07-01|\n",
      "|192985|     K. De Bruyne| 27|    Belgium|     91|    Manchester City| 1020000000|2015-08-30|\n",
      "|183277|        E. Hazard| 27|    Belgium|     91|            Chelsea|  930000000|2012-07-01|\n",
      "|177003|        L. Modrić| 32|    Croatia|     91|        Real Madrid|  670000000|2012-08-01|\n",
      "|176580|        L. Suárez| 31|    Uruguay|     91|       FC Barcelona|  800000000|2014-07-11|\n",
      "|155862|     Sergio Ramos| 32|      Spain|     91|        Real Madrid|  510000000|2005-08-01|\n",
      "|200389|         J. Oblak| 25|   Slovenia|     90|    Atlético Madrid|  680000000|2014-07-16|\n",
      "|188545|   R. Lewandowski| 29|     Poland|     90|  FC Bayern München|  770000000|2014-07-01|\n",
      "|182521|         T. Kroos| 28|    Germany|     90|        Real Madrid| 7650000000|2014-07-17|\n",
      "|182493|         D. Godín| 32|    Uruguay|     90|    Atlético Madrid|  440000000|2010-08-04|\n",
      "|168542|      David Silva| 32|      Spain|     90|    Manchester City|  600000000|2010-07-14|\n",
      "|215914|         N. Kanté| 27|     France|     89|            Chelsea|  630000000|2016-07-16|\n",
      "|211110|        P. Dybala| 24|  Argentina|     89|           Juventus|  890000000|2015-07-01|\n",
      "|202126|          H. Kane| 24|    England|     89|  Tottenham Hotspur| 8350000000|2010-07-01|\n",
      "|194765|     A. Griezmann| 27|     France|     89|    Atlético Madrid|  780000000|2014-07-28|\n",
      "|192448|    M. ter Stegen| 26|    Germany|     89|       FC Barcelona|  580000000|2014-07-01|\n",
      "|192119|      T. Courtois| 26|    Belgium|     89|        Real Madrid| 5350000000|2018-08-09|\n",
      "+------+-----------------+---+-----------+-------+-------------------+-----------+----------+\n",
      "only showing top 20 rows\n",
      "\n"
     ]
    }
   ],
   "source": [
    "df.show()"
   ]
  },
  {
   "cell_type": "code",
   "execution_count": 28,
   "id": "f809d1de",
   "metadata": {},
   "outputs": [
    {
     "name": "stderr",
     "output_type": "stream",
     "text": [
      "\r",
      "[Stage 13:>                                                         (0 + 2) / 2]\r",
      "\r",
      "[Stage 13:=============================>                            (1 + 1) / 2]\r"
     ]
    },
    {
     "name": "stdout",
     "output_type": "stream",
     "text": [
      "+---------------------------------------------+-----------------------------------------------+\n",
      "|count(CASE WHEN (Club IS NULL) THEN true END)|count(CASE WHEN (Joined IS NULL) THEN true END)|\n",
      "+---------------------------------------------+-----------------------------------------------+\n",
      "|                                          241|                                           1553|\n",
      "+---------------------------------------------+-----------------------------------------------+\n",
      "\n"
     ]
    },
    {
     "name": "stderr",
     "output_type": "stream",
     "text": [
      "\r",
      "                                                                                \r"
     ]
    }
   ],
   "source": [
    "#checking number of null values\n",
    "\n",
    "from pyspark.sql.functions import isnan, when, count, col\n",
    "df.select([count(when(col('Club').isNull(),True)),count(when(col('Joined').isNull(),True))]).show()"
   ]
  },
  {
   "cell_type": "code",
   "execution_count": 20,
   "id": "1038d197",
   "metadata": {},
   "outputs": [
    {
     "name": "stdout",
     "output_type": "stream",
     "text": [
      "+---------------------------------------------+\n",
      "|count(CASE WHEN (Club IS NULL) THEN true END)|\n",
      "+---------------------------------------------+\n",
      "|                                          241|\n",
      "+---------------------------------------------+\n",
      "\n"
     ]
    }
   ],
   "source": [
    "df.select(count(when(col('Club').isNull(),True))).show()"
   ]
  },
  {
   "cell_type": "code",
   "execution_count": 35,
   "id": "0c8ebb68",
   "metadata": {},
   "outputs": [
    {
     "name": "stdout",
     "output_type": "stream",
     "text": [
      "+------+------------+---+-----------+-------+----+-----+------+\n",
      "|    ID|        Name|Age|Nationality|Overall|Club|Value|Joined|\n",
      "+------+------------+---+-----------+-------+----+-----+------+\n",
      "|207439|  L. Paredes| 24|  Argentina|     80|null|    0|  null|\n",
      "|156713|A. Granqvist| 33|     Sweden|     80|null|    0|  null|\n",
      "|229909|    A. Lunev| 26|     Russia|     79|null|    0|  null|\n",
      "|187347|I. Smolnikov| 29|     Russia|     79|null|    0|  null|\n",
      "|187607|   A. Dzyuba| 29|     Russia|     78|null|    0|  null|\n",
      "+------+------------+---+-----------+-------+----+-----+------+\n",
      "only showing top 5 rows\n",
      "\n"
     ]
    }
   ],
   "source": [
    "df.filter(col('Club').isNull()).show(5)"
   ]
  },
  {
   "cell_type": "code",
   "execution_count": 36,
   "id": "c84f5218",
   "metadata": {},
   "outputs": [
    {
     "data": {
      "text/plain": [
       "18207"
      ]
     },
     "execution_count": 36,
     "metadata": {},
     "output_type": "execute_result"
    }
   ],
   "source": [
    "df.count()"
   ]
  },
  {
   "cell_type": "code",
   "execution_count": 104,
   "id": "de24714c",
   "metadata": {},
   "outputs": [
    {
     "data": {
      "text/plain": [
       "241"
      ]
     },
     "execution_count": 104,
     "metadata": {},
     "output_type": "execute_result"
    }
   ],
   "source": [
    "18207-17966"
   ]
  },
  {
   "cell_type": "code",
   "execution_count": 29,
   "id": "a82db356",
   "metadata": {},
   "outputs": [],
   "source": [
    "#dropping rows with na value\n",
    "df = df.na.drop(how='any',subset=['Club','Joined'])"
   ]
  },
  {
   "cell_type": "code",
   "execution_count": 53,
   "id": "301f78c5",
   "metadata": {},
   "outputs": [
    {
     "name": "stdout",
     "output_type": "stream",
     "text": [
      "+---+----+---+-----------+-------+----+-----+------+\n",
      "| ID|Name|Age|Nationality|Overall|Club|Value|Joined|\n",
      "+---+----+---+-----------+-------+----+-----+------+\n",
      "+---+----+---+-----------+-------+----+-----+------+\n",
      "\n"
     ]
    }
   ],
   "source": [
    "df_fill = df.na.fill(\"Fc_Goa\",subset=['Club'])  #filling the na values\n",
    "df_fill.filter(df_fill.Club==\"Fc_Goa\").show()"
   ]
  },
  {
   "cell_type": "code",
   "execution_count": 49,
   "id": "d620bdba",
   "metadata": {},
   "outputs": [
    {
     "data": {
      "text/plain": [
       "16654"
      ]
     },
     "execution_count": 49,
     "metadata": {},
     "output_type": "execute_result"
    }
   ],
   "source": [
    "df.count()"
   ]
  },
  {
   "cell_type": "code",
   "execution_count": 51,
   "id": "e3dae998",
   "metadata": {},
   "outputs": [
    {
     "name": "stdout",
     "output_type": "stream",
     "text": [
      "+------+---------------+---+-----------+-------+------------+-----------+----------+\n",
      "|    ID|           Name|Age|Nationality|Overall|        Club|      Value|    Joined|\n",
      "+------+---------------+---+-----------+-------+------------+-----------+----------+\n",
      "|158023|       L. Messi| 31|  Argentina|     94|FC Barcelona|11050000000|2004-07-01|\n",
      "|176580|      L. Suárez| 31|    Uruguay|     91|FC Barcelona|  800000000|2014-07-11|\n",
      "|192448|  M. ter Stegen| 26|    Germany|     89|FC Barcelona|  580000000|2014-07-01|\n",
      "|189511|Sergio Busquets| 29|      Spain|     89|FC Barcelona| 5150000000|2008-09-01|\n",
      "|189242|       Coutinho| 26|     Brazil|     88|FC Barcelona| 6950000000|2018-01-06|\n",
      "+------+---------------+---+-----------+-------+------------+-----------+----------+\n",
      "only showing top 5 rows\n",
      "\n"
     ]
    }
   ],
   "source": [
    "df.filter(df.Club == 'FC Barcelona').show(5)"
   ]
  },
  {
   "cell_type": "code",
   "execution_count": 25,
   "id": "4c3c9686",
   "metadata": {},
   "outputs": [
    {
     "name": "stdout",
     "output_type": "stream",
     "text": [
      "+---+---------+--------------------+---+\n",
      "| ID|Condition|                Club|Age|\n",
      "+---+---------+--------------------+---+\n",
      "| 16|     more|           KAS Eupen| 37|\n",
      "| 41|     more|         Vissel Kobe| 34|\n",
      "| 80|     more|Medipol Başakşehi...| 37|\n",
      "|164|     more|              Padova| 37|\n",
      "|657|     more|        Notts County| 35|\n",
      "+---+---------+--------------------+---+\n",
      "only showing top 5 rows\n",
      "\n"
     ]
    }
   ],
   "source": [
    "df.select('ID',when(col('Age')<25,'less').otherwise('more').alias('Condition'),'Club','Age').orderBy('ID').show(5)"
   ]
  },
  {
   "cell_type": "code",
   "execution_count": 98,
   "id": "8478c79b",
   "metadata": {},
   "outputs": [
    {
     "name": "stdout",
     "output_type": "stream",
     "text": [
      "+--------------+\n",
      "|Preferred foot|\n",
      "+--------------+\n",
      "|             R|\n",
      "|             R|\n",
      "|             R|\n",
      "|             R|\n",
      "+--------------+\n",
      "only showing top 4 rows\n",
      "\n"
     ]
    }
   ],
   "source": [
    "# df.select(\"Preferred foot\").replace('Left','L').replace('Right','R').show(4)"
   ]
  },
  {
   "cell_type": "code",
   "execution_count": 52,
   "id": "4a564284",
   "metadata": {},
   "outputs": [
    {
     "data": {
      "text/plain": [
       "16654"
      ]
     },
     "execution_count": 52,
     "metadata": {},
     "output_type": "execute_result"
    }
   ],
   "source": [
    "df.na.drop().count()\n",
    "#df.show(5)"
   ]
  },
  {
   "cell_type": "code",
   "execution_count": 53,
   "id": "e7f94517",
   "metadata": {},
   "outputs": [
    {
     "data": {
      "text/plain": [
       "16654"
      ]
     },
     "execution_count": 53,
     "metadata": {},
     "output_type": "execute_result"
    }
   ],
   "source": [
    "df.select('Value').na.drop().count()"
   ]
  },
  {
   "cell_type": "code",
   "execution_count": 40,
   "id": "235a0db2",
   "metadata": {},
   "outputs": [
    {
     "name": "stdout",
     "output_type": "stream",
     "text": [
      "+-------------------+------------------+------------------+-----------------+--------------------+\n",
      "|               Club|           avg(ID)|          avg(Age)|     avg(Overall)|          avg(Value)|\n",
      "+-------------------+------------------+------------------+-----------------+--------------------+\n",
      "|       FC Barcelona|210877.15151515152|23.848484848484848|78.03030303030303|1.4597818181818182E9|\n",
      "|           Juventus|         187675.68|             27.16|            82.28|          1.289223E9|\n",
      "|Paris Saint-Germain|202491.83333333334|24.566666666666666|77.43333333333334|1.1224441666666667E9|\n",
      "|  Manchester United|202182.48484848486|24.757575757575758|77.24242424242425| 9.785530303030303E8|\n",
      "|    Manchester City|206869.36363636365| 23.90909090909091|76.72727272727273|1.2567531818181818E9|\n",
      "|            Chelsea|      199623.84375|             25.25|         76.59375|      7.5693796875E8|\n",
      "|        Real Madrid|          213881.0| 24.03030303030303|78.24242424242425|          1.409225E9|\n",
      "|    Atlético Madrid|215883.69696969696|23.757575757575758|75.06060606060606| 9.668765151515151E8|\n",
      "|  FC Bayern München|202978.42857142858|             24.25|76.60714285714286| 8.215794642857143E8|\n",
      "|  Tottenham Hotspur|203034.72727272726|24.606060606060606| 76.6969696969697|1.0664772727272727E9|\n",
      "|          Liverpool|209096.36363636365|              24.0|             76.0|  9.04065303030303E8|\n",
      "|             Napoli|204116.16666666666|25.791666666666668|80.04166666666667|            1.0225E9|\n",
      "|            Arsenal|201350.24242424243|24.606060606060606|75.18181818181819| 5.416481818181819E8|\n",
      "|              Inter|189736.19047619047|27.904761904761905|79.61904761904762|1.6509897619047618E9|\n",
      "|              Lazio|          200152.4|25.766666666666666|             76.4|           6.96362E8|\n",
      "|  Borussia Dortmund|        214589.875|          23.21875|            75.25|      6.3599203125E8|\n",
      "|        Vissel Kobe|220587.89655172414| 27.20689655172414|62.62068965517241| 9.685189655172414E7|\n",
      "| Olympique Lyonnais| 217600.2068965517| 22.79310344827586|73.48275862068965| 4.946113793103448E8|\n",
      "|               Roma|          200542.4|             25.76|             77.4|           7.85666E8|\n",
      "|        Valencia CF|          218148.0|23.066666666666666|74.83333333333333| 4.744791666666667E8|\n",
      "+-------------------+------------------+------------------+-----------------+--------------------+\n",
      "only showing top 20 rows\n",
      "\n"
     ]
    }
   ],
   "source": [
    "df.groupBy(\"Club\").avg().show()"
   ]
  },
  {
   "cell_type": "code",
   "execution_count": 60,
   "id": "97acd1ce",
   "metadata": {},
   "outputs": [
    {
     "name": "stdout",
     "output_type": "stream",
     "text": [
      "+------+--------+---+-----------+-------+------------+-----------+-----------+\n",
      "|    ID|    Name|Age|Nationality|Overall|        Club|      Value|     Joined|\n",
      "+------+--------+---+-----------+-------+------------+-----------+-----------+\n",
      "|158023|L. Messi| 31|  Argentina|     94|FC Barcelona|11050000000|Jul 1, 2004|\n",
      "+------+--------+---+-----------+-------+------------+-----------+-----------+\n",
      "\n"
     ]
    }
   ],
   "source": [
    "df.filter(\"Nationality == 'Argentina' and Club=='FC Barcelona'\").show()"
   ]
  },
  {
   "cell_type": "code",
   "execution_count": 61,
   "id": "957db44f",
   "metadata": {},
   "outputs": [
    {
     "name": "stdout",
     "output_type": "stream",
     "text": [
      "+-----------+-----------------+\n",
      "|       Club|          Overall|\n",
      "+-----------+-----------------+\n",
      "|   Juventus|            82.28|\n",
      "|     Napoli|             80.0|\n",
      "|      Inter|            79.75|\n",
      "|Real Madrid|78.24242424242425|\n",
      "|      Milan|78.07407407407408|\n",
      "+-----------+-----------------+\n",
      "only showing top 5 rows\n",
      "\n"
     ]
    }
   ],
   "source": [
    "df.groupBy(\"Club\").mean().select('Club',col('avg(Overall)').alias('Overall')).sort('Overall',ascending=False).show(5) #.sort('avg(Overall)',ascending=False).show()"
   ]
  },
  {
   "cell_type": "code",
   "execution_count": 31,
   "id": "e8e65852",
   "metadata": {},
   "outputs": [
    {
     "name": "stderr",
     "output_type": "stream",
     "text": [
      "[Stage 16:=============================>                            (1 + 1) / 2]\r"
     ]
    },
    {
     "name": "stdout",
     "output_type": "stream",
     "text": [
      "+---+--------------------+----------+\n",
      "|Age|               Value|Sum-Rating|\n",
      "+---+--------------------+----------+\n",
      "| 26| 2.095169889937107E8|     87082|\n",
      "| 25|1.9911091555183947E8|     81252|\n",
      "| 24| 1.699010655058043E8|     80992|\n",
      "| 23|1.6411303195962995E8|     78563|\n",
      "| 21| 9.378173770491803E7|     77153|\n",
      "| 22|1.2889442820292348E8|     75331|\n",
      "| 27| 1.855056215213358E8|     74255|\n",
      "| 28|1.5820097857838365E8|     71019|\n",
      "| 20| 6.091111365719523E7|     67173|\n",
      "| 29| 1.663394927536232E8|     62075|\n",
      "+---+--------------------+----------+\n",
      "only showing top 10 rows\n",
      "\n"
     ]
    },
    {
     "name": "stderr",
     "output_type": "stream",
     "text": [
      "\r",
      "                                                                                \r"
     ]
    }
   ],
   "source": [
    "#df.groupBy('Club').sum('Value').alias('Total_spent').sort('sum(Value)',ascending=False).show(10)\n",
    "\n",
    "df.groupBy('Age').agg(avg('Value').alias('Value'),sum('Overall').alias('Sum-Rating')).sort('Sum-Rating',ascending=False).show(10)"
   ]
  },
  {
   "cell_type": "code",
   "execution_count": 32,
   "id": "2f7ae859",
   "metadata": {},
   "outputs": [
    {
     "name": "stderr",
     "output_type": "stream",
     "text": [
      "                                                                                \r"
     ]
    },
    {
     "data": {
      "text/plain": [
       "651"
      ]
     },
     "execution_count": 32,
     "metadata": {},
     "output_type": "execute_result"
    }
   ],
   "source": [
    "df.select('Club').distinct().count()"
   ]
  },
  {
   "cell_type": "code",
   "execution_count": 64,
   "id": "cc9e72bf",
   "metadata": {},
   "outputs": [
    {
     "data": {
      "text/plain": [
       "33"
      ]
     },
     "execution_count": 64,
     "metadata": {},
     "output_type": "execute_result"
    }
   ],
   "source": [
    "#df = df.withColumnRenamed('Preferred foot','Preferred_foot')\n",
    "df.select('ID').filter(\"Club == 'FC Barcelona'\").count()"
   ]
  },
  {
   "cell_type": "code",
   "execution_count": 33,
   "id": "92c140f4",
   "metadata": {},
   "outputs": [
    {
     "name": "stderr",
     "output_type": "stream",
     "text": [
      "                                                                                \r"
     ]
    },
    {
     "data": {
      "image/png": "[encoded data removed]",
      "text/plain": [
       "<Figure size 504x504 with 1 Axes>"
      ]
     },
     "metadata": {},
     "output_type": "display_data"
    }
   ],
   "source": [
    "q1 = df.groupBy('Club').agg(sum('Value').alias('Total_Value')).orderBy('Total_Value',ascending=False).limit(10)\n",
    "club_list = [row['Club'] for row in q1.collect()]\n",
    "value_list = [row['Total_Value'] for row in q1.collect()]\n",
    "\n",
    "## pie chart\n",
    "plt.figure(figsize=(7,7))\n",
    "plt.pie(value_list,labels=club_list,explode=[0,0.1,0,0,0,0,0,0,0,0],autopct='%0.5f')\n",
    "plt.show()"
   ]
  },
  {
   "cell_type": "code",
   "execution_count": 55,
   "id": "1a8f436d",
   "metadata": {},
   "outputs": [
    {
     "data": {
      "image/png": "[encoded data removed]",
      "text/plain": [
       "<Figure size 1080x504 with 1 Axes>"
      ]
     },
     "metadata": {
      "needs_background": "light"
     },
     "output_type": "display_data"
    }
   ],
   "source": [
    "q2 = df.groupBy('Club').agg(avg('Overall').alias('Overall')).orderBy('Overall',ascending=False).limit(10)\n",
    "club_list = [row['Club'] for row in q2.collect()]\n",
    "overall_list = [row['Overall'] for row in q2.collect()]\n",
    "\n",
    "## bar plot\n",
    "plt.figure(figsize=(15,7))\n",
    "plt.xlabel('Clubs')\n",
    "plt.ylabel('Avg Ratings')\n",
    "plt.bar(club_list,overall_list,width=0.5)\n",
    "plt.show()"
   ]
  },
  {
   "cell_type": "code",
   "execution_count": 67,
   "id": "78fda310",
   "metadata": {},
   "outputs": [
    {
     "data": {
      "image/png": "[encoded data removed]",
      "text/plain": [
       "<Figure size 1080x504 with 1 Axes>"
      ]
     },
     "metadata": {
      "needs_background": "light"
     },
     "output_type": "display_data"
    }
   ],
   "source": [
    "q3 = df.groupBy('Age').agg(avg('Overall').alias('Overall')).filter(\"age >= 22 and age<=35\").orderBy('Overall',ascending=False)\n",
    "age_list = sorted([row['Age'] for row in q3.collect()])\n",
    "overall_list = [row['Overall'] for row in q3.collect()]\n",
    "\n",
    "\n",
    "#lineplot\n",
    "plt.figure(figsize=(15,7))\n",
    "plt.xlabel('Age')\n",
    "plt.ylabel('Avg Ratings')\n",
    "plt.plot(age_list,overall_list)\n",
    "plt.show()"
   ]
  },
  {
   "cell_type": "markdown",
   "id": "5532916e",
   "metadata": {},
   "source": [
    "## window functions"
   ]
  },
  {
   "cell_type": "code",
   "execution_count": 56,
   "id": "9c953654",
   "metadata": {},
   "outputs": [
    {
     "name": "stderr",
     "output_type": "stream",
     "text": [
      "[Stage 82:>                                                         (0 + 1) / 1]\r"
     ]
    },
    {
     "name": "stdout",
     "output_type": "stream",
     "text": [
      "+------+----------------+---+-------------+-------+--------------------+---------+----------+----------+\n",
      "|    ID|            Name|Age|  Nationality|Overall|                Club|    Value|    Joined|row_number|\n",
      "+------+----------------+---+-------------+-------+--------------------+---------+----------+----------+\n",
      "|240218|    A. Weidinger| 21|      Germany|     52| SSV Jahn Regensburg|    60000|2017-07-29|         1|\n",
      "|228510|       H. Hyseni| 25|      Germany|     58| SSV Jahn Regensburg|   160000|2016-01-08|         2|\n",
      "|176592|     M. Palionis| 31|    Lithuania|     64| SSV Jahn Regensburg|   300000|2014-10-09|         3|\n",
      "|238669|         S. Kopp| 23|      Germany|     61| SSV Jahn Regensburg|   325000|2014-07-01|         4|\n",
      "|165176|        S. Freis| 33|      Germany|     66| SSV Jahn Regensburg|   400000|2017-08-19|         5|\n",
      "|208983|         O. Hein| 28|      Germany|     65| SSV Jahn Regensburg|   425000|2007-07-01|         6|\n",
      "|238667|       A. Odabas| 24|      Germany|     63| SSV Jahn Regensburg|   425000|2017-07-01|         7|\n",
      "|239121| H. Al Ghaddioui| 27|      Morocco|     64| SSV Jahn Regensburg|   475000|2018-01-04|         8|\n",
      "|240027|      A. Vrenezi| 24|       Kosovo|     63| SSV Jahn Regensburg|   500000|2017-07-01|         9|\n",
      "|204637|    J. Derstroff| 26|      Germany|     65| SSV Jahn Regensburg|   625000|2018-07-18|        10|\n",
      "|238780|      D. Volkmer| 22|      Germany|     65| SSV Jahn Regensburg|   650000|2018-07-01|        11|\n",
      "|209194|   S. Nachreiner| 29|      Germany|     68| SSV Jahn Regensburg|   700000|2010-07-01|        12|\n",
      "|205455|         A. Weis| 28|      Germany|     68| SSV Jahn Regensburg|   725000|2017-08-03|        13|\n",
      "|208637|         M. Lais| 27|      Germany|     68| SSV Jahn Regensburg|   875000|2015-08-11|        14|\n",
      "|229923|       S. Stolze| 23|      Germany|     66| SSV Jahn Regensburg|   875000|2018-05-11|        15|\n",
      "|156437|       P. Pentke| 33|      Germany|     70| SSV Jahn Regensburg|   900000|2015-07-01|        16|\n",
      "|213644|        A. Geipl| 26|      Germany|     68| SSV Jahn Regensburg|   900000|2014-07-07|        17|\n",
      "|238666|      A. Nandzik| 25|      Germany|     68| SSV Jahn Regensburg|   925000|2016-01-13|        18|\n",
      "|210004|       B. Saller| 25|      Germany|     68| SSV Jahn Regensburg|   925000|2016-10-08|        19|\n",
      "|238594|          A. Dej| 26|       Poland|     67| SSV Jahn Regensburg|   925000|2018-07-01|        20|\n",
      "|238642|     J. Nietfeld| 24|      Germany|     67| SSV Jahn Regensburg|110000000|2017-07-01|        21|\n",
      "|225939|       J. George| 25|      Germany|     69| SSV Jahn Regensburg|120000000|2015-07-01|        22|\n",
      "|193679|      M. Correia| 29|     Portugal|     70| SSV Jahn Regensburg|140000000|2018-07-01|        23|\n",
      "|211920|     M. Grüttner| 32|      Germany|     71| SSV Jahn Regensburg|190000000|2016-07-01|        24|\n",
      "|218534|      S. Adamyan| 25|      Armenia|     70| SSV Jahn Regensburg|230000000|2017-07-01|        25|\n",
      "|245515|      J. Brändle| 18|      Germany|     53|1. FC Heidenheim ...|   110000|2018-07-06|         1|\n",
      "|239510|      M. Köbbing| 21|      Germany|     57|1. FC Heidenheim ...|   140000|2017-07-01|         2|\n",
      "|243973|    T. Reithmeir| 18|      Germany|     58|1. FC Heidenheim ...|   240000|2018-07-01|         3|\n",
      "|243975|        G. Kılıç| 18|      Germany|     59|1. FC Heidenheim ...|   325000|2018-07-01|         4|\n",
      "|242974|        K. Sessa| 17|      Germany|     60|1. FC Heidenheim ...|   400000|2018-03-16|         5|\n",
      "|244040|      P. Schmidt| 24|      Germany|     63|1. FC Heidenheim ...|   500000|2018-07-01|         6|\n",
      "|241993|      O. Steurer| 23|      Germany|     63|1. FC Heidenheim ...|   500000|2018-01-04|         7|\n",
      "|224662|     M. Multhaup| 21|      Germany|     63|1. FC Heidenheim ...|   575000|2018-01-04|         8|\n",
      "|200466|       V. Eicher| 27|      Germany|     67|1. FC Heidenheim ...|   625000|2017-01-18|         9|\n",
      "|183573|   N. Theuerkauf| 31|      Germany|     69|1. FC Heidenheim ...|   700000|2015-07-01|        10|\n",
      "|177083|       R. Strauß| 31|      Germany|     69|1. FC Heidenheim ...|   700000|2012-01-01|        11|\n",
      "|216199|       P. Mainka| 23|      Germany|     66|1. FC Heidenheim ...|   725000|2018-07-01|        12|\n",
      "|238065|     K. Lankford| 19|      Germany|     64|1. FC Heidenheim ...|   775000|2017-03-12|        13|\n",
      "|199305|       M. Wittek| 29|      Germany|     69|1. FC Heidenheim ...|   825000|2012-07-01|        14|\n",
      "|200954|     D. Thomalla| 25|      Germany|     66|1. FC Heidenheim ...|   825000|2016-07-01|        15|\n",
      "|224980|        M. Busch| 23|      Germany|     67|1. FC Heidenheim ...|   850000|2017-07-01|        16|\n",
      "|229286|       T. Skarke| 21|      Germany|     66|1. FC Heidenheim ...|   925000|2015-07-01|        17|\n",
      "|208589|        K. Pusch| 25|      Germany|     67|1. FC Heidenheim ...|   950000|2017-07-01|        18|\n",
      "|199347|     T. Beermann| 27|      Germany|     69|1. FC Heidenheim ...| 10000000|2013-07-01|        19|\n",
      "|211703|  M. Schnatterer| 32|      Germany|     75|1. FC Heidenheim ...| 50000000|2008-07-01|        20|\n",
      "|231227|       N. Dorsch| 20|      Germany|     66|1. FC Heidenheim ...|110000000|2018-07-01|        21|\n",
      "|212242|      R. Andrich| 23|      Germany|     68|1. FC Heidenheim ...|120000000|2018-07-01|        22|\n",
      "|236533|      R. Glatzel| 24|      Germany|     68|1. FC Heidenheim ...|120000000|2017-07-01|        23|\n",
      "|183565|        A. Feick| 30|      Germany|     70|1. FC Heidenheim ...|130000000|2015-07-01|        24|\n",
      "|211952|        M. Thiel| 25|      Germany|     69|1. FC Heidenheim ...|130000000|2017-07-01|        25|\n",
      "|235419|      N. Dovedan| 23|      Austria|     69|1. FC Heidenheim ...|140000000|2017-07-01|        26|\n",
      "|222553|    S. Griesbeck| 27|      Germany|     70|1. FC Heidenheim ...|150000000|2013-07-01|        27|\n",
      "|202873|       K. Müller| 27|      Germany|     71|1. FC Heidenheim ...|180000000|2015-07-01|        28|\n",
      "|246264|       J. Scholz| 19|      Germany|     54|1. FC Kaiserslautern|   130000|2018-08-01|         1|\n",
      "|183070|         W. Hesl| 32|      Germany|     61|1. FC Kaiserslautern|   140000|2018-07-01|         2|\n",
      "|242525|    C. Sickinger| 20|      Germany|     56|1. FC Kaiserslautern|   140000|2018-02-08|         3|\n",
      "|244211|    F. Botiseriu| 19|      Germany|     55|1. FC Kaiserslautern|   170000|2018-07-01|         4|\n",
      "|236536|      J. Sievers| 23|      Germany|     60|1. FC Kaiserslautern|   230000|2016-09-17|         5|\n",
      "|245543|   C. Kühlwetter| 22|      Germany|     59|1. FC Kaiserslautern|   230000|2018-12-07|         6|\n",
      "|236613|        L. Grill| 19|      Germany|     58|1. FC Kaiserslautern|   230000|2016-10-17|         7|\n",
      "|137708|         F. Dick| 33|      Germany|     66|1. FC Kaiserslautern|   250000|2018-07-01|         8|\n",
      "|245288|     L. Gottwalt| 20|      Germany|     60|1. FC Kaiserslautern|   325000|2017-07-01|         9|\n",
      "|181149|     A. Hainault| 32|       Canada|     66|1. FC Kaiserslautern|   375000|2018-07-01|        10|\n",
      "|244454|        D. Esmel| 20|  Ivory Coast|     60|1. FC Kaiserslautern|   375000|2018-01-06|        11|\n",
      "|229998|        D. Schad| 21|      Germany|     63|1. FC Kaiserslautern|   450000|2018-07-01|        12|\n",
      "|223767|      O. Özdemir| 23|       Turkey|     64|1. FC Kaiserslautern|   525000|2018-07-01|        13|\n",
      "|204420|    J. Sternberg| 25|      Germany|     65|1. FC Kaiserslautern|   550000|2018-07-01|        14|\n",
      "|210304|         H. Zuck| 27|      Germany|     66|1. FC Kaiserslautern|   675000|2018-07-01|        15|\n",
      "|200953|      C. Hemlein| 27|      Germany|     66|1. FC Kaiserslautern|   675000|2018-07-01|        16|\n",
      "|239567|J. Löhmannsröben| 27|      Germany|     67|1. FC Kaiserslautern|   750000|2018-07-01|        17|\n",
      "|236553|         E. Huth| 21|      Germany|     64|1. FC Kaiserslautern|   750000|2018-07-01|        18|\n",
      "|223147|        J. Biada| 25|      Germany|     66|1. FC Kaiserslautern|   800000|2018-07-01|        19|\n",
      "|237635|         F. Pick| 22|      Germany|     65|1. FC Kaiserslautern|   800000|2017-02-03|        20|\n",
      "|233880|      G. Fechner| 20|      Germany|     65|1. FC Kaiserslautern|   850000|2017-07-01|        21|\n",
      "|239021|     T. Bergmann| 21|      Germany|     66|1. FC Kaiserslautern|   875000|2018-07-01|        22|\n",
      "|211732|       T. Thiele| 26|      Germany|     67|1. FC Kaiserslautern|   900000|2018-07-01|        23|\n",
      "|201925|        K. Kraus| 25|      Germany|     69|1. FC Kaiserslautern|110000000|2018-07-01|        24|\n",
      "|189383|        M. Albæk| 28|      Denmark|     70|1. FC Kaiserslautern|140000000|2017-07-17|        25|\n",
      "|216408|      L. Spalvis| 23|    Lithuania|     70|1. FC Kaiserslautern|250000000|2018-05-07|        26|\n",
      "|245176|      J. Bartels| 19|      Germany|     53|          1. FC Köln|    90000|2018-07-01|         1|\n",
      "|241091|        B. Scott| 19|United States|     54|          1. FC Köln|   120000|2017-07-01|         2|\n",
      "|241736|      Y. Bisseck| 17|      Germany|     61|          1. FC Köln|   500000|2017-07-01|         3|\n",
      "|241925|      C. Führich| 20|      Germany|     63|          1. FC Köln|   650000|2017-07-01|         4|\n",
      "| 52498|      M. Lehmann| 35|      Germany|     72|          1. FC Köln|   725000|2012-07-01|         5|\n",
      "|238379|       N. Nartey| 18|      Denmark|     63|          1. FC Köln|   750000|2017-07-01|         6|\n",
      "|225692|        M. Bader| 21|      Germany|     67|          1. FC Köln|   975000|2018-07-01|         7|\n",
      "|210489|       L. Schaub| 23|      Austria|     75|          1. FC Köln| 90000000|2018-07-01|         8|\n",
      "|208334|       J. Hector| 28|      Germany|     79|          1. FC Köln|100000000|2012-02-25|         9|\n",
      "|222692|      B. Schmitz| 23|      Germany|     69|          1. FC Köln|110000000|2018-07-01|        10|\n",
      "|231874|         J. Horn| 21|      Germany|     68|          1. FC Köln|110000000|2017-07-01|        11|\n",
      "|158657|      T. Kessler| 32|      Germany|     71|          1. FC Köln|140000000|2007-01-21|        12|\n",
      "|200316|         T. Horn| 25|      Germany|     83|          1. FC Köln|240000000|2011-07-01|        13|\n",
      "|234385|    N. Hauptmann| 22|      Germany|     70|          1. FC Köln|290000000|2018-07-01|        14|\n",
      "|211826|      R. Czichos| 28|      Germany|     73|          1. FC Köln|320000000|2018-07-01|        15|\n",
      "|215441|     S. Guirassy| 22|       France|     71|          1. FC Köln|350000000|2016-07-20|        16|\n",
      "|235407|        S. Özcan| 20|      Germany|     70|          1. FC Köln|390000000|2016-07-01|        17|\n",
      "|201342|     F. Sørensen| 26|      Denmark|     73|          1. FC Köln|420000000|2015-07-11|        18|\n",
      "|202276|       S. Zoller| 27|      Germany|     73|          1. FC Köln|430000000|2014-07-01|        19|\n",
      "|193098|      C. Clemens| 26|      Germany|     73|          1. FC Köln|430000000|2017-01-01|        20|\n",
      "|194053|      L. Sobiech| 27|      Germany|     74|          1. FC Köln|470000000|2018-07-01|        21|\n",
      "+------+----------------+---+-------------+-------+--------------------+---------+----------+----------+\n",
      "only showing top 100 rows\n",
      "\n"
     ]
    },
    {
     "name": "stderr",
     "output_type": "stream",
     "text": [
      "\r",
      "                                                                                \r"
     ]
    }
   ],
   "source": [
    "from pyspark.sql.window import Window\n",
    "\n",
    "windowSpec = Window.partitionBy(\"Club\").orderBy(\"Value\")\n",
    "\n",
    "df.withColumn(\"row_number\",f.row_number().over(windowSpec)).show(100)"
   ]
  },
  {
   "cell_type": "code",
   "execution_count": 174,
   "id": "c815eaa4",
   "metadata": {},
   "outputs": [
    {
     "name": "stdout",
     "output_type": "stream",
     "text": [
      "+------+---------------+---+-----------+-------+--------------------+---------+------------+----+\n",
      "|    ID|           Name|Age|Nationality|Overall|                Club|    Value|      Joined|Rank|\n",
      "+------+---------------+---+-----------+-------+--------------------+---------+------------+----+\n",
      "|240218|   A. Weidinger| 21|    Germany|     52| SSV Jahn Regensburg|    60000|Jul 29, 2017|   1|\n",
      "|228510|      H. Hyseni| 25|    Germany|     58| SSV Jahn Regensburg|   160000| Jan 8, 2016|   2|\n",
      "|238669|        S. Kopp| 23|    Germany|     61| SSV Jahn Regensburg|   325000| Jul 1, 2014|   3|\n",
      "|239494|  M. Thalhammer| 20|    Germany|     61| SSV Jahn Regensburg|   425000|        null|   3|\n",
      "|238667|      A. Odabas| 24|    Germany|     63| SSV Jahn Regensburg|   425000| Jul 1, 2017|   5|\n",
      "|240027|     A. Vrenezi| 24|     Kosovo|     63| SSV Jahn Regensburg|   500000| Jul 1, 2017|   5|\n",
      "|239121|H. Al Ghaddioui| 27|    Morocco|     64| SSV Jahn Regensburg|   475000| Jan 4, 2018|   7|\n",
      "|244280|        A. Fein| 19|    Germany|     64| SSV Jahn Regensburg|   950000|        null|   7|\n",
      "|176592|    M. Palionis| 31|  Lithuania|     64| SSV Jahn Regensburg|   300000| Oct 9, 2014|   7|\n",
      "|208983|        O. Hein| 28|    Germany|     65| SSV Jahn Regensburg|   425000| Jul 1, 2007|  10|\n",
      "|204637|   J. Derstroff| 26|    Germany|     65| SSV Jahn Regensburg|   625000|Jul 18, 2018|  10|\n",
      "|238780|     D. Volkmer| 22|    Germany|     65| SSV Jahn Regensburg|   650000| Jul 1, 2018|  10|\n",
      "|229923|      S. Stolze| 23|    Germany|     66| SSV Jahn Regensburg|   875000|May 11, 2018|  13|\n",
      "|165176|       S. Freis| 33|    Germany|     66| SSV Jahn Regensburg|   400000|Aug 19, 2017|  13|\n",
      "|221024|    A. Sørensen| 22|    Denmark|     66| SSV Jahn Regensburg|   850000|        null|  13|\n",
      "|238594|         A. Dej| 26|     Poland|     67| SSV Jahn Regensburg|   925000| Jul 1, 2018|  16|\n",
      "|238642|    J. Nietfeld| 24|    Germany|     67| SSV Jahn Regensburg|110000000| Jul 1, 2017|  16|\n",
      "|229277|  J. Föhrenbach| 22|    Germany|     67| SSV Jahn Regensburg|   875000|        null|  16|\n",
      "|209194|  S. Nachreiner| 29|    Germany|     68| SSV Jahn Regensburg|   700000| Jul 1, 2010|  19|\n",
      "|238666|     A. Nandzik| 25|    Germany|     68| SSV Jahn Regensburg|   925000|Jan 13, 2016|  19|\n",
      "+------+---------------+---+-----------+-------+--------------------+---------+------------+----+\n",
      "only showing top 20 rows\n",
      "\n",
      "+------+---------------+---+-----------+-------+--------------------+---------+------------+----+\n",
      "|    ID|           Name|Age|Nationality|Overall|                Club|    Value|      Joined|Rank|\n",
      "+------+---------------+---+-----------+-------+--------------------+---------+------------+----+\n",
      "|240218|   A. Weidinger| 21|    Germany|     52| SSV Jahn Regensburg|    60000|Jul 29, 2017|   1|\n",
      "|228510|      H. Hyseni| 25|    Germany|     58| SSV Jahn Regensburg|   160000| Jan 8, 2016|   2|\n",
      "|238669|        S. Kopp| 23|    Germany|     61| SSV Jahn Regensburg|   325000| Jul 1, 2014|   3|\n",
      "|239494|  M. Thalhammer| 20|    Germany|     61| SSV Jahn Regensburg|   425000|        null|   3|\n",
      "|238667|      A. Odabas| 24|    Germany|     63| SSV Jahn Regensburg|   425000| Jul 1, 2017|   4|\n",
      "|240027|     A. Vrenezi| 24|     Kosovo|     63| SSV Jahn Regensburg|   500000| Jul 1, 2017|   4|\n",
      "|239121|H. Al Ghaddioui| 27|    Morocco|     64| SSV Jahn Regensburg|   475000| Jan 4, 2018|   5|\n",
      "|244280|        A. Fein| 19|    Germany|     64| SSV Jahn Regensburg|   950000|        null|   5|\n",
      "|176592|    M. Palionis| 31|  Lithuania|     64| SSV Jahn Regensburg|   300000| Oct 9, 2014|   5|\n",
      "|208983|        O. Hein| 28|    Germany|     65| SSV Jahn Regensburg|   425000| Jul 1, 2007|   6|\n",
      "|204637|   J. Derstroff| 26|    Germany|     65| SSV Jahn Regensburg|   625000|Jul 18, 2018|   6|\n",
      "|238780|     D. Volkmer| 22|    Germany|     65| SSV Jahn Regensburg|   650000| Jul 1, 2018|   6|\n",
      "|229923|      S. Stolze| 23|    Germany|     66| SSV Jahn Regensburg|   875000|May 11, 2018|   7|\n",
      "|165176|       S. Freis| 33|    Germany|     66| SSV Jahn Regensburg|   400000|Aug 19, 2017|   7|\n",
      "|221024|    A. Sørensen| 22|    Denmark|     66| SSV Jahn Regensburg|   850000|        null|   7|\n",
      "|238594|         A. Dej| 26|     Poland|     67| SSV Jahn Regensburg|   925000| Jul 1, 2018|   8|\n",
      "|238642|    J. Nietfeld| 24|    Germany|     67| SSV Jahn Regensburg|110000000| Jul 1, 2017|   8|\n",
      "|229277|  J. Föhrenbach| 22|    Germany|     67| SSV Jahn Regensburg|   875000|        null|   8|\n",
      "|209194|  S. Nachreiner| 29|    Germany|     68| SSV Jahn Regensburg|   700000| Jul 1, 2010|   9|\n",
      "|238666|     A. Nandzik| 25|    Germany|     68| SSV Jahn Regensburg|   925000|Jan 13, 2016|   9|\n",
      "+------+---------------+---+-----------+-------+--------------------+---------+------------+----+\n",
      "only showing top 20 rows\n",
      "\n"
     ]
    }
   ],
   "source": [
    "windowSpec = Window.partitionBy(\"Club\").orderBy(\"Overall\")\n",
    "\n",
    "df.withColumn(\"Rank\",f.rank().over(windowSpec)).show()  # ranking with gaps\n",
    "\n",
    "df.withColumn(\"Rank\",f.dense_rank().over(windowSpec)).show()  # ranking without gaps\n"
   ]
  },
  {
   "cell_type": "markdown",
   "id": "e576c474",
   "metadata": {},
   "source": [
    "## aggregate functions"
   ]
  },
  {
   "cell_type": "code",
   "execution_count": 34,
   "id": "0f4e7058",
   "metadata": {},
   "outputs": [],
   "source": [
    "import pyspark.sql.functions as f"
   ]
  },
  {
   "cell_type": "code",
   "execution_count": 35,
   "id": "f216c03d",
   "metadata": {},
   "outputs": [],
   "source": [
    "club_list_duplicates = df.select(f.collect_list(\"Club\")).collect()[0][0]\n",
    "club_list_distinct = df.select(f.collect_set(\"Club\")).collect()[0][0]"
   ]
  },
  {
   "cell_type": "code",
   "execution_count": 70,
   "id": "ff39db81",
   "metadata": {},
   "outputs": [
    {
     "name": "stdout",
     "output_type": "stream",
     "text": [
      "['Column', 'DataFrame', 'DataType', 'PandasUDFType', 'PythonEvalType', 'SparkContext', 'StringType', 'UserDefinedFunction', '__builtins__', '__cached__', '__doc__', '__file__', '__loader__', '__name__', '__package__', '__spec__', '_create_column_from_literal', '_create_lambda', '_create_udf', '_get_get_jvm_function', '_get_lambda_parameters', '_invoke_binary_math_function', '_invoke_function', '_invoke_function_over_column', '_invoke_higher_order_function', '_options_to_str', '_test', '_to_java_column', '_to_seq', '_unresolved_named_lambda_variable', 'abs', 'acos', 'acosh', 'add_months', 'aggregate', 'approxCountDistinct', 'approx_count_distinct', 'array', 'array_contains', 'array_distinct', 'array_except', 'array_intersect', 'array_join', 'array_max', 'array_min', 'array_position', 'array_remove', 'array_repeat', 'array_sort', 'array_union', 'arrays_overlap', 'arrays_zip', 'asc', 'asc_nulls_first', 'asc_nulls_last', 'ascii', 'asin', 'asinh', 'assert_true', 'atan', 'atan2', 'atanh', 'avg', 'base64', 'bin', 'bitwiseNOT', 'bitwise_not', 'broadcast', 'bround', 'bucket', 'cbrt', 'ceil', 'coalesce', 'col', 'collect_list', 'collect_set', 'column', 'concat', 'concat_ws', 'conv', 'corr', 'cos', 'cosh', 'count', 'countDistinct', 'count_distinct', 'covar_pop', 'covar_samp', 'crc32', 'create_map', 'cume_dist', 'current_date', 'current_timestamp', 'date_add', 'date_format', 'date_sub', 'date_trunc', 'datediff', 'dayofmonth', 'dayofweek', 'dayofyear', 'days', 'decode', 'degrees', 'dense_rank', 'desc', 'desc_nulls_first', 'desc_nulls_last', 'element_at', 'encode', 'exists', 'exp', 'explode', 'explode_outer', 'expm1', 'expr', 'factorial', 'filter', 'first', 'flatten', 'floor', 'forall', 'format_number', 'format_string', 'from_csv', 'from_json', 'from_unixtime', 'from_utc_timestamp', 'functools', 'get_json_object', 'greatest', 'grouping', 'grouping_id', 'hash', 'hex', 'hour', 'hours', 'hypot', 'initcap', 'input_file_name', 'instr', 'isnan', 'isnull', 'json_tuple', 'kurtosis', 'lag', 'last', 'last_day', 'lead', 'least', 'length', 'levenshtein', 'lit', 'locate', 'log', 'log10', 'log1p', 'log2', 'lower', 'lpad', 'ltrim', 'map_concat', 'map_entries', 'map_filter', 'map_from_arrays', 'map_from_entries', 'map_keys', 'map_values', 'map_zip_with', 'max', 'md5', 'mean', 'min', 'minute', 'monotonically_increasing_id', 'month', 'months', 'months_between', 'nanvl', 'next_day', 'nth_value', 'ntile', 'overlay', 'pandas_udf', 'percent_rank', 'percentile_approx', 'posexplode', 'posexplode_outer', 'pow', 'product', 'quarter', 'radians', 'raise_error', 'rand', 'randn', 'rank', 'regexp_extract', 'regexp_replace', 'repeat', 'reverse', 'rint', 'round', 'row_number', 'rpad', 'rtrim', 'schema_of_csv', 'schema_of_json', 'second', 'sentences', 'sequence', 'session_window', 'sha1', 'sha2', 'shiftLeft', 'shiftRight', 'shiftRightUnsigned', 'shiftleft', 'shiftright', 'shiftrightunsigned', 'shuffle', 'signum', 'sin', 'since', 'sinh', 'size', 'skewness', 'slice', 'sort_array', 'soundex', 'spark_partition_id', 'split', 'sqrt', 'stddev', 'stddev_pop', 'stddev_samp', 'struct', 'substring', 'substring_index', 'sum', 'sumDistinct', 'sum_distinct', 'sys', 'tan', 'tanh', 'timestamp_seconds', 'toDegrees', 'toRadians', 'to_csv', 'to_date', 'to_json', 'to_str', 'to_timestamp', 'to_utc_timestamp', 'transform', 'transform_keys', 'transform_values', 'translate', 'trim', 'trunc', 'udf', 'unbase64', 'unhex', 'unix_timestamp', 'upper', 'var_pop', 'var_samp', 'variance', 'warnings', 'weekofyear', 'when', 'window', 'xxhash64', 'year', 'years', 'zip_with']\n"
     ]
    }
   ],
   "source": [
    "print(dir(f))"
   ]
  },
  {
   "cell_type": "code",
   "execution_count": 36,
   "id": "292d9486",
   "metadata": {},
   "outputs": [
    {
     "name": "stderr",
     "output_type": "stream",
     "text": [
      "\r",
      "[Stage 36:=============================>                            (1 + 1) / 2]\r",
      "\r",
      "                                                                                \r"
     ]
    },
    {
     "data": {
      "text/plain": [
       "134672529.1221328"
      ]
     },
     "execution_count": 36,
     "metadata": {},
     "output_type": "execute_result"
    }
   ],
   "source": [
    "df.select(f.avg(\"Value\")).collect()[0][0]   #max,min,mean,sum"
   ]
  },
  {
   "cell_type": "code",
   "execution_count": 37,
   "id": "9e0f4ce0",
   "metadata": {},
   "outputs": [
    {
     "name": "stdout",
     "output_type": "stream",
     "text": [
      "+-----------+\n",
      "|first(Name)|\n",
      "+-----------+\n",
      "|   L. Messi|\n",
      "+-----------+\n",
      "\n"
     ]
    },
    {
     "name": "stderr",
     "output_type": "stream",
     "text": [
      "\r",
      "[Stage 39:=============================>                            (1 + 1) / 2]\r",
      "\r",
      "                                                                                \r"
     ]
    }
   ],
   "source": [
    "df.select(f.first(\"Name\")).show()           # first and last"
   ]
  },
  {
   "cell_type": "code",
   "execution_count": 38,
   "id": "1f9cbe00",
   "metadata": {},
   "outputs": [],
   "source": [
    "new_df = df.select('Name',f.expr(\"Name || '-' || Age\").alias(\"Name-Age\"))         #expr()"
   ]
  },
  {
   "cell_type": "code",
   "execution_count": 39,
   "id": "b37e24e2",
   "metadata": {},
   "outputs": [
    {
     "name": "stdout",
     "output_type": "stream",
     "text": [
      "+-----------------+--------------------+----------+\n",
      "|             Name|            Name-Age|Profession|\n",
      "+-----------------+--------------------+----------+\n",
      "|         L. Messi|         L. Messi-31|Footballer|\n",
      "|Cristiano Ronaldo|Cristiano Ronaldo-33|Footballer|\n",
      "+-----------------+--------------------+----------+\n",
      "only showing top 2 rows\n",
      "\n"
     ]
    }
   ],
   "source": [
    "new_df.select('Name','Name-Age',f.lit(\"Footballer\").alias(\"Profession\")).show(2)             #lit()"
   ]
  },
  {
   "cell_type": "code",
   "execution_count": 30,
   "id": "c493bae0",
   "metadata": {},
   "outputs": [
    {
     "name": "stdout",
     "output_type": "stream",
     "text": [
      "root\n",
      " |-- id: string (nullable = true)\n",
      " |-- date: string (nullable = true)\n",
      " |-- year: string (nullable = true)\n",
      " |-- month: string (nullable = true)\n",
      " |-- day: string (nullable = true)\n",
      "\n",
      "+---+--------+----+-----+---+\n",
      "|id |date    |year|month|day|\n",
      "+---+--------+----+-----+---+\n",
      "|1  |20200828|2020|08   |28 |\n",
      "|2  |20180725|2018|07   |25 |\n",
      "+---+--------+----+-----+---+\n",
      "\n"
     ]
    }
   ],
   "source": [
    "data = [(1,\"20200828\"),(2,\"20180725\")]\n",
    "columns=StructType([StructField(\"id\",StringType()),StructField(\"date\",StringType())])\n",
    "dataF = spark.createDataFrame(data,columns)\n",
    "dataF = dataF.withColumn('year', f.substring('date', 1,4)).withColumn('month', f.substring('date', 5,2)).withColumn('day', f.substring('date', 7,2))\n",
    "dataF.printSchema()\n",
    "dataF.show(truncate=False)"
   ]
  },
  {
   "cell_type": "code",
   "execution_count": 31,
   "id": "f81f50dd",
   "metadata": {},
   "outputs": [
    {
     "name": "stdout",
     "output_type": "stream",
     "text": [
      "+---+----------+----+-----+---+\n",
      "| id|      date|year|month|day|\n",
      "+---+----------+----+-----+---+\n",
      "|  1|2020-08-28|2020|   08| 28|\n",
      "|  2|2018-07-25|2018|   07| 25|\n",
      "+---+----------+----+-----+---+\n",
      "\n",
      "root\n",
      " |-- id: string (nullable = true)\n",
      " |-- date: date (nullable = true)\n",
      " |-- year: string (nullable = true)\n",
      " |-- month: string (nullable = true)\n",
      " |-- day: string (nullable = true)\n",
      "\n",
      "+----------+-------------------------------+\n",
      "|      date|date_format(date, MMM dd, yyyy)|\n",
      "+----------+-------------------------------+\n",
      "|2020-08-28|                   Aug 28, 2020|\n",
      "|2018-07-25|                   Jul 25, 2018|\n",
      "+----------+-------------------------------+\n",
      "\n"
     ]
    }
   ],
   "source": [
    "dataF = dataF.withColumn(\"date\",f.to_date(dataF.date,\"yyyyMMdd\"))\n",
    "dataF.show()\n",
    "dataF.printSchema()\n",
    "dataF.select(\"date\",f.date_format(dataF.date,\"MMM dd, yyyy\")).show()"
   ]
  },
  {
   "cell_type": "code",
   "execution_count": 31,
   "id": "02e20938",
   "metadata": {},
   "outputs": [
    {
     "name": "stdout",
     "output_type": "stream",
     "text": [
      "+----------+-----------+\n",
      "|     input|Date format|\n",
      "+----------+-----------+\n",
      "|2020-02-01|02 01, 2020|\n",
      "|2019-03-01|03 01, 2019|\n",
      "|2021-03-01|03 01, 2021|\n",
      "+----------+-----------+\n",
      "\n",
      "+----------+--------------+\n",
      "|     input|months_between|\n",
      "+----------+--------------+\n",
      "|2020-02-01|   25.90322581|\n",
      "|2019-03-01|   36.90322581|\n",
      "|2021-03-01|   12.90322581|\n",
      "+----------+--------------+\n",
      "\n"
     ]
    }
   ],
   "source": [
    "# DATES \n",
    "data = [[\"1\",\"2020-02-01\"],[\"2\",\"2019-03-01\"],[\"3\",\"2021-03-01\"]]\n",
    "dfD = spark.createDataFrame(data,[\"id\",\"input\"])\n",
    "\n",
    "dfD.select(\"input\",f.date_format(\"input\",\"MM dd, yyyy\").alias(\"Date format\")).show()\n",
    "\n",
    "#months_between()\n",
    "dfD.select(\"input\",f.months_between(f.current_date(),\"input\").alias(\"months_between\")).show()"
   ]
  },
  {
   "cell_type": "code",
   "execution_count": 42,
   "id": "3eaa9c2f",
   "metadata": {
    "collapsed": true
   },
   "outputs": [
    {
     "name": "stdout",
     "output_type": "stream",
     "text": [
      "+------+-----------------+---+-----------+-------+-------------------+-----------+----------+\n",
      "|    ID|             Name|Age|Nationality|Overall|               Club|      Value|    Joined|\n",
      "+------+-----------------+---+-----------+-------+-------------------+-----------+----------+\n",
      "|158023|         L. Messi| 31|  Argentina|     94|       FC Barcelona|11050000000|2004-07-01|\n",
      "| 20801|Cristiano Ronaldo| 33|   Portugal|     94|           Juventus|  770000000|2018-07-10|\n",
      "|190871|        Neymar Jr| 26|     Brazil|     92|Paris Saint-Germain|11850000000|2017-08-03|\n",
      "|193080|           De Gea| 27|      Spain|     91|  Manchester United|  720000000|2011-07-01|\n",
      "|192985|     K. De Bruyne| 27|    Belgium|     91|    Manchester City| 1020000000|2015-08-30|\n",
      "|183277|        E. Hazard| 27|    Belgium|     91|            Chelsea|  930000000|2012-07-01|\n",
      "|177003|        L. Modrić| 32|    Croatia|     91|        Real Madrid|  670000000|2012-08-01|\n",
      "|176580|        L. Suárez| 31|    Uruguay|     91|       FC Barcelona|  800000000|2014-07-11|\n",
      "|155862|     Sergio Ramos| 32|      Spain|     91|        Real Madrid|  510000000|2005-08-01|\n",
      "|200389|         J. Oblak| 25|   Slovenia|     90|    Atlético Madrid|  680000000|2014-07-16|\n",
      "|188545|   R. Lewandowski| 29|     Poland|     90|  FC Bayern München|  770000000|2014-07-01|\n",
      "|182521|         T. Kroos| 28|    Germany|     90|        Real Madrid| 7650000000|2014-07-17|\n",
      "|182493|         D. Godín| 32|    Uruguay|     90|    Atlético Madrid|  440000000|2010-08-04|\n",
      "|168542|      David Silva| 32|      Spain|     90|    Manchester City|  600000000|2010-07-14|\n",
      "|215914|         N. Kanté| 27|     France|     89|            Chelsea|  630000000|2016-07-16|\n",
      "|211110|        P. Dybala| 24|  Argentina|     89|           Juventus|  890000000|2015-07-01|\n",
      "|202126|          H. Kane| 24|    England|     89|  Tottenham Hotspur| 8350000000|2010-07-01|\n",
      "|194765|     A. Griezmann| 27|     France|     89|    Atlético Madrid|  780000000|2014-07-28|\n",
      "|192448|    M. ter Stegen| 26|    Germany|     89|       FC Barcelona|  580000000|2014-07-01|\n",
      "|192119|      T. Courtois| 26|    Belgium|     89|        Real Madrid| 5350000000|2018-08-09|\n",
      "+------+-----------------+---+-----------+-------+-------------------+-----------+----------+\n",
      "only showing top 20 rows\n",
      "\n"
     ]
    }
   ],
   "source": [
    "df.withColumn(\"Joined\",f.to_date(\"Joined\", \"mm-dd-yyyy\")).show()"
   ]
  },
  {
   "cell_type": "code",
   "execution_count": 79,
   "id": "9705863a",
   "metadata": {},
   "outputs": [
    {
     "name": "stdout",
     "output_type": "stream",
     "text": [
      "+---+------------------+-----+\n",
      "|id |address           |state|\n",
      "+---+------------------+-----+\n",
      "|1  |A485A leffrey Rd  |DE   |\n",
      "|2  |4C4BA Margarita St|NY   |\n",
      "|3  |ACAAA Siemon Ave  |CA   |\n",
      "+---+------------------+-----+\n",
      "\n"
     ]
    }
   ],
   "source": [
    "# TRANSLATE FUNCTION\n",
    "address = [(1,\"14851 Jeffrey Rd\",\"DE\"),\n",
    "    (2,\"43421 Margarita St\",\"NY\"),\n",
    "    (3,\"13111 Siemon Ave\",\"CA\")]\n",
    "df = spark.createDataFrame(address,[\"id\",\"address\",\"state\"])\n",
    "\n",
    "df.withColumn('address', f.translate('address', '123J', 'ABCl')).show(truncate=False)"
   ]
  },
  {
   "cell_type": "code",
   "execution_count": 118,
   "id": "dce6e0f6",
   "metadata": {},
   "outputs": [
    {
     "name": "stdout",
     "output_type": "stream",
     "text": [
      "+---------+----+---------+\n",
      "|     col1|col2|overlayed|\n",
      "+---------+----+---------+\n",
      "|ABCDE_XYZ| FGH|ABCDE_FGH|\n",
      "+---------+----+---------+\n",
      "\n"
     ]
    }
   ],
   "source": [
    "# OVERLAY FUNCTION\n",
    "dfSample = spark.createDataFrame([(\"ABCDE_XYZ\", \"FGH\")], (\"col1\", \"col2\"))\n",
    "dfSample.select(\"col1\",\"col2\",f.overlay(\"col1\", \"col2\", 7).alias(\"overlayed\")).show()"
   ]
  },
  {
   "cell_type": "code",
   "execution_count": 123,
   "id": "f19fe59f",
   "metadata": {},
   "outputs": [
    {
     "name": "stdout",
     "output_type": "stream",
     "text": [
      "+---+--------------------+\n",
      "| id|       Address_State|\n",
      "+---+--------------------+\n",
      "|  1|[14851 Jeffrey Rd...|\n",
      "|  2|[43421 Margarita ...|\n",
      "|  3|[13111 Siemon Ave...|\n",
      "+---+--------------------+\n",
      "\n"
     ]
    }
   ],
   "source": [
    "# ARRAY FUNCTION\n",
    "\n",
    "df.select('id',f.array(df.address,df.state).alias(\"Address_State\")).show()"
   ]
  },
  {
   "cell_type": "code",
   "execution_count": 136,
   "id": "b3f544ad",
   "metadata": {
    "collapsed": true
   },
   "outputs": [
    {
     "name": "stdout",
     "output_type": "stream",
     "text": [
      "+-------+------------------+-------------+-----------------+-----------+-----------------+--------------------+--------------------+-----------+\n",
      "|summary|                ID|         Name|              Age|Nationality|          Overall|                Club|               Value|     Joined|\n",
      "+-------+------------------+-------------+-----------------+-----------+-----------------+--------------------+--------------------+-----------+\n",
      "|  count|             17966|        17966|            17966|      17966|            17966|               17966|               17966|      16654|\n",
      "|   mean|214244.85723032395|         null|25.10497606590226|       null|66.22548146498943|                null|1.3572894578648558E8|       null|\n",
      "| stddev|30039.126766659916|         null|4.674724423457982|       null|6.923435495765825|                null| 4.019082455945618E8|       null|\n",
      "|    min|                16|     A. Abang|               16|Afghanistan|               46| SSV Jahn Regensburg|                   0|Apr 1, 2008|\n",
      "|    max|            246620|Óscar Whalley|               45|   Zimbabwe|               94|       Śląsk Wrocław|         11850000000|Sep 9, 2018|\n",
      "+-------+------------------+-------------+-----------------+-----------+-----------------+--------------------+--------------------+-----------+\n",
      "\n"
     ]
    },
    {
     "ename": "AnalysisException",
     "evalue": "Resolved attribute(s) Overall#6616 missing from summary#16426,ID#16427,Name#16428,Age#16429,Nationality#16430,Overall#16431,Club#16432,Value#16433,Joined#16434 in operator !Project [summary#16426, format_number(cast(Overall#6616 as float), 3) AS Rounded column#16481]. Attribute(s) with the same name appear in the operation: Overall. Please check if the right attribute(s) are used.;\n!Project [summary#16426, format_number(cast(Overall#6616 as float), 3) AS Rounded column#16481]\n+- LocalRelation [summary#16426, ID#16427, Name#16428, Age#16429, Nationality#16430, Overall#16431, Club#16432, Value#16433, Joined#16434]\n",
     "output_type": "error",
     "traceback": [
      "\u001b[0;31m---------------------------------------------------------------------------\u001b[0m",
      "\u001b[0;31mAnalysisException\u001b[0m                         Traceback (most recent call last)",
      "\u001b[0;32m/tmp/ipykernel_5699/3945981452.py\u001b[0m in \u001b[0;36m<module>\u001b[0;34m\u001b[0m\n\u001b[1;32m      1\u001b[0m \u001b[0msummary\u001b[0m \u001b[0;34m=\u001b[0m \u001b[0mdf\u001b[0m\u001b[0;34m.\u001b[0m\u001b[0mdescribe\u001b[0m\u001b[0;34m(\u001b[0m\u001b[0;34m)\u001b[0m  \u001b[0;31m#rounding\u001b[0m\u001b[0;34m\u001b[0m\u001b[0;34m\u001b[0m\u001b[0m\n\u001b[1;32m      2\u001b[0m \u001b[0msummary\u001b[0m\u001b[0;34m.\u001b[0m\u001b[0mshow\u001b[0m\u001b[0;34m(\u001b[0m\u001b[0mtruncate\u001b[0m\u001b[0;34m=\u001b[0m\u001b[0;32mTrue\u001b[0m\u001b[0;34m)\u001b[0m\u001b[0;34m\u001b[0m\u001b[0;34m\u001b[0m\u001b[0m\n\u001b[0;32m----> 3\u001b[0;31m \u001b[0msummary\u001b[0m\u001b[0;34m.\u001b[0m\u001b[0mselect\u001b[0m\u001b[0;34m(\u001b[0m\u001b[0;34m\"summary\"\u001b[0m\u001b[0;34m,\u001b[0m\u001b[0mf\u001b[0m\u001b[0;34m.\u001b[0m\u001b[0mformat_number\u001b[0m\u001b[0;34m(\u001b[0m\u001b[0mdf\u001b[0m\u001b[0;34m[\u001b[0m\u001b[0;34m\"Overall\"\u001b[0m\u001b[0;34m]\u001b[0m\u001b[0;34m.\u001b[0m\u001b[0mcast\u001b[0m\u001b[0;34m(\u001b[0m\u001b[0;34m'float'\u001b[0m\u001b[0;34m)\u001b[0m\u001b[0;34m,\u001b[0m\u001b[0;36m3\u001b[0m\u001b[0;34m)\u001b[0m\u001b[0;34m.\u001b[0m\u001b[0malias\u001b[0m\u001b[0;34m(\u001b[0m\u001b[0;34m\"Rounded column\"\u001b[0m\u001b[0;34m)\u001b[0m\u001b[0;34m)\u001b[0m\u001b[0;34m.\u001b[0m\u001b[0mshow\u001b[0m\u001b[0;34m(\u001b[0m\u001b[0;34m)\u001b[0m\u001b[0;34m\u001b[0m\u001b[0;34m\u001b[0m\u001b[0m\n\u001b[0m",
      "\u001b[0;32m~/env/lib/python3.8/site-packages/pyspark/sql/dataframe.py\u001b[0m in \u001b[0;36mselect\u001b[0;34m(self, *cols)\u001b[0m\n\u001b[1;32m   1683\u001b[0m         \u001b[0;34m[\u001b[0m\u001b[0mRow\u001b[0m\u001b[0;34m(\u001b[0m\u001b[0mname\u001b[0m\u001b[0;34m=\u001b[0m\u001b[0;34m'Alice'\u001b[0m\u001b[0;34m,\u001b[0m \u001b[0mage\u001b[0m\u001b[0;34m=\u001b[0m\u001b[0;36m12\u001b[0m\u001b[0;34m)\u001b[0m\u001b[0;34m,\u001b[0m \u001b[0mRow\u001b[0m\u001b[0;34m(\u001b[0m\u001b[0mname\u001b[0m\u001b[0;34m=\u001b[0m\u001b[0;34m'Bob'\u001b[0m\u001b[0;34m,\u001b[0m \u001b[0mage\u001b[0m\u001b[0;34m=\u001b[0m\u001b[0;36m15\u001b[0m\u001b[0;34m)\u001b[0m\u001b[0;34m]\u001b[0m\u001b[0;34m\u001b[0m\u001b[0;34m\u001b[0m\u001b[0m\n\u001b[1;32m   1684\u001b[0m         \"\"\"\n\u001b[0;32m-> 1685\u001b[0;31m         \u001b[0mjdf\u001b[0m \u001b[0;34m=\u001b[0m \u001b[0mself\u001b[0m\u001b[0;34m.\u001b[0m\u001b[0m_jdf\u001b[0m\u001b[0;34m.\u001b[0m\u001b[0mselect\u001b[0m\u001b[0;34m(\u001b[0m\u001b[0mself\u001b[0m\u001b[0;34m.\u001b[0m\u001b[0m_jcols\u001b[0m\u001b[0;34m(\u001b[0m\u001b[0;34m*\u001b[0m\u001b[0mcols\u001b[0m\u001b[0;34m)\u001b[0m\u001b[0;34m)\u001b[0m\u001b[0;34m\u001b[0m\u001b[0;34m\u001b[0m\u001b[0m\n\u001b[0m\u001b[1;32m   1686\u001b[0m         \u001b[0;32mreturn\u001b[0m \u001b[0mDataFrame\u001b[0m\u001b[0;34m(\u001b[0m\u001b[0mjdf\u001b[0m\u001b[0;34m,\u001b[0m \u001b[0mself\u001b[0m\u001b[0;34m.\u001b[0m\u001b[0msql_ctx\u001b[0m\u001b[0;34m)\u001b[0m\u001b[0;34m\u001b[0m\u001b[0;34m\u001b[0m\u001b[0m\n\u001b[1;32m   1687\u001b[0m \u001b[0;34m\u001b[0m\u001b[0m\n",
      "\u001b[0;32m~/env/lib/python3.8/site-packages/py4j/java_gateway.py\u001b[0m in \u001b[0;36m__call__\u001b[0;34m(self, *args)\u001b[0m\n\u001b[1;32m   1319\u001b[0m \u001b[0;34m\u001b[0m\u001b[0m\n\u001b[1;32m   1320\u001b[0m         \u001b[0manswer\u001b[0m \u001b[0;34m=\u001b[0m \u001b[0mself\u001b[0m\u001b[0;34m.\u001b[0m\u001b[0mgateway_client\u001b[0m\u001b[0;34m.\u001b[0m\u001b[0msend_command\u001b[0m\u001b[0;34m(\u001b[0m\u001b[0mcommand\u001b[0m\u001b[0;34m)\u001b[0m\u001b[0;34m\u001b[0m\u001b[0;34m\u001b[0m\u001b[0m\n\u001b[0;32m-> 1321\u001b[0;31m         return_value = get_return_value(\n\u001b[0m\u001b[1;32m   1322\u001b[0m             answer, self.gateway_client, self.target_id, self.name)\n\u001b[1;32m   1323\u001b[0m \u001b[0;34m\u001b[0m\u001b[0m\n",
      "\u001b[0;32m~/env/lib/python3.8/site-packages/pyspark/sql/utils.py\u001b[0m in \u001b[0;36mdeco\u001b[0;34m(*a, **kw)\u001b[0m\n\u001b[1;32m    115\u001b[0m                 \u001b[0;31m# Hide where the exception came from that shows a non-Pythonic\u001b[0m\u001b[0;34m\u001b[0m\u001b[0;34m\u001b[0m\u001b[0;34m\u001b[0m\u001b[0m\n\u001b[1;32m    116\u001b[0m                 \u001b[0;31m# JVM exception message.\u001b[0m\u001b[0;34m\u001b[0m\u001b[0;34m\u001b[0m\u001b[0;34m\u001b[0m\u001b[0m\n\u001b[0;32m--> 117\u001b[0;31m                 \u001b[0;32mraise\u001b[0m \u001b[0mconverted\u001b[0m \u001b[0;32mfrom\u001b[0m \u001b[0;32mNone\u001b[0m\u001b[0;34m\u001b[0m\u001b[0;34m\u001b[0m\u001b[0m\n\u001b[0m\u001b[1;32m    118\u001b[0m             \u001b[0;32melse\u001b[0m\u001b[0;34m:\u001b[0m\u001b[0;34m\u001b[0m\u001b[0;34m\u001b[0m\u001b[0m\n\u001b[1;32m    119\u001b[0m                 \u001b[0;32mraise\u001b[0m\u001b[0;34m\u001b[0m\u001b[0;34m\u001b[0m\u001b[0m\n",
      "\u001b[0;31mAnalysisException\u001b[0m: Resolved attribute(s) Overall#6616 missing from summary#16426,ID#16427,Name#16428,Age#16429,Nationality#16430,Overall#16431,Club#16432,Value#16433,Joined#16434 in operator !Project [summary#16426, format_number(cast(Overall#6616 as float), 3) AS Rounded column#16481]. Attribute(s) with the same name appear in the operation: Overall. Please check if the right attribute(s) are used.;\n!Project [summary#16426, format_number(cast(Overall#6616 as float), 3) AS Rounded column#16481]\n+- LocalRelation [summary#16426, ID#16427, Name#16428, Age#16429, Nationality#16430, Overall#16431, Club#16432, Value#16433, Joined#16434]\n"
     ]
    }
   ],
   "source": [
    "summary = df.describe()  #rounding\n",
    "summary.show(truncate=True)\n",
    "summary.select(\"summary\",f.format_number(df[\"Overall\"].cast('float'),3).alias(\"Rounded column\")).show()"
   ]
  },
  {
   "cell_type": "markdown",
   "id": "e120ddf9",
   "metadata": {},
   "source": [
    "## sampling"
   ]
  },
  {
   "cell_type": "code",
   "execution_count": 137,
   "id": "b7514ad0",
   "metadata": {},
   "outputs": [
    {
     "name": "stdout",
     "output_type": "stream",
     "text": [
      "+------+--------------+---+-----------+-------+-----------------+----------+------------+\n",
      "|    ID|          Name|Age|Nationality|Overall|             Club|     Value|      Joined|\n",
      "+------+--------------+---+-----------+-------+-----------------+----------+------------+\n",
      "|188545|R. Lewandowski| 29|     Poland|     90|FC Bayern München| 770000000| Jul 1, 2014|\n",
      "|168651|    I. Rakitić| 30|    Croatia|     87|     FC Barcelona|4650000000| Jul 1, 2014|\n",
      "|190483| Douglas Costa| 27|     Brazil|     86|         Juventus|4650000000| Jul 1, 2018|\n",
      "|193747|          Koke| 26|      Spain|     85|  Atlético Madrid| 450000000| Jan 1, 2011|\n",
      "|184941|    A. Sánchez| 29|      Chile|     85|Manchester United|3750000000|Jan 22, 2018|\n",
      "|181458|    I. Perišić| 29|    Croatia|     85|            Inter|3750000000| Sep 1, 2015|\n",
      "|178518| R. Nainggolan| 30|    Belgium|     85|            Inter|3550000000| Jul 1, 2018|\n",
      "|165153|    K. Benzema| 30|     France|     85|      Real Madrid| 370000000| Jul 9, 2009|\n",
      "|178750| Sergio Asenjo| 29|      Spain|     84|    Villarreal CF| 240000000|Jun 30, 2014|\n",
      "|230666| Gabriel Jesus| 21|     Brazil|     83|  Manchester City| 410000000| Aug 3, 2016|\n",
      "+------+--------------+---+-----------+-------+-----------------+----------+------------+\n",
      "only showing top 10 rows\n",
      "\n"
     ]
    }
   ],
   "source": [
    "df.sample(0.1).show(10)"
   ]
  },
  {
   "cell_type": "code",
   "execution_count": 89,
   "id": "32b8d828",
   "metadata": {},
   "outputs": [
    {
     "name": "stdout",
     "output_type": "stream",
     "text": [
      "+------+----------------+---+-----------+-------+-------------------+----------+------------+\n",
      "|    ID|            Name|Age|Nationality|Overall|               Club|     Value|      Joined|\n",
      "+------+----------------+---+-----------+-------+-------------------+----------+------------+\n",
      "|193080|          De Gea| 27|      Spain|     91|  Manchester United| 720000000| Jul 1, 2011|\n",
      "|183277|       E. Hazard| 27|    Belgium|     91|            Chelsea| 930000000| Jul 1, 2012|\n",
      "|194765|    A. Griezmann| 27|     France|     89|    Atlético Madrid| 780000000|Jul 28, 2014|\n",
      "|192448|   M. ter Stegen| 26|    Germany|     89|       FC Barcelona| 580000000| Jul 1, 2014|\n",
      "|198219|      L. Insigne| 27|      Italy|     88|             Napoli| 620000000| Jul 1, 2010|\n",
      "|197781|            Isco| 26|      Spain|     88|        Real Madrid|7350000000| Jul 3, 2013|\n",
      "|199556|     M. Verratti| 25|      Italy|     86|Paris Saint-Germain| 550000000|Jul 18, 2012|\n",
      "|189509|          Thiago| 27|      Spain|     86|  FC Bayern München|4550000000|Jul 14, 2013|\n",
      "|212831|         Alisson| 25|     Brazil|     85|          Liverpool|3650000000|Jul 19, 2018|\n",
      "|204485|       R. Mahrez| 27|    Algeria|     85|    Manchester City|4050000000|Jul 10, 2018|\n",
      "|193301|    A. Lacazette| 27|     France|     85|            Arsenal| 450000000| Jul 5, 2017|\n",
      "|192774|      K. Manolas| 27|     Greece|     85|               Roma|3750000000|Aug 26, 2014|\n",
      "|204963|        Carvajal| 26|      Spain|     84|        Real Madrid|3150000000| Jul 5, 2013|\n",
      "|230481| Ronaldo Cabrais| 26|     Brazil|     83|             Grêmio| 280000000| Jan 1, 2018|\n",
      "|230375|Josué Chiamulera| 26|     Brazil|     83|             Grêmio|2250000000| Jan 1, 2018|\n",
      "|206545|  Manu Trigueros| 26|      Spain|     83|      Villarreal CF| 300000000| Jul 1, 2011|\n",
      "|204639|        S. Savić| 27| Montenegro|     83|    Atlético Madrid| 260000000|Jul 20, 2015|\n",
      "|200949|     Lucas Moura| 25|     Brazil|     83|  Tottenham Hotspur| 310000000|Jan 31, 2018|\n",
      "|209989|       T. Partey| 25|      Ghana|     82|    Atlético Madrid|2550000000| Jul 1, 2015|\n",
      "|208448|     E. Forsberg| 26|     Sweden|     82|         RB Leipzig| 260000000| Jan 7, 2015|\n",
      "+------+----------------+---+-----------+-------+-------------------+----------+------------+\n",
      "only showing top 20 rows\n",
      "\n"
     ]
    }
   ],
   "source": [
    "df.sampleBy(\"Age\",{25:0.2,26:0.3,27:0.5}).show()"
   ]
  },
  {
   "cell_type": "markdown",
   "id": "5623f32f",
   "metadata": {},
   "source": [
    "## Saving Dataframe"
   ]
  },
  {
   "cell_type": "code",
   "execution_count": 65,
   "id": "418e5ca7",
   "metadata": {},
   "outputs": [
    {
     "name": "stderr",
     "output_type": "stream",
     "text": [
      "                                                                                \r"
     ]
    }
   ],
   "source": [
    "df.write.parquet('./just_parquet',mode='overwrite',partitionBy=\"Club\")"
   ]
  },
  {
   "cell_type": "code",
   "execution_count": 66,
   "id": "aa3aa5aa",
   "metadata": {},
   "outputs": [],
   "source": [
    "df.write.parquet('./just_parquet_wopart',mode='overwrite')"
   ]
  },
  {
   "cell_type": "code",
   "execution_count": 74,
   "id": "dadf6499",
   "metadata": {},
   "outputs": [
    {
     "name": "stderr",
     "output_type": "stream",
     "text": [
      "22/04/11 17:08:30 WARN HeartbeatReceiver: Removing executor driver with no recent heartbeats: 4400128 ms exceeds timeout 120000 ms\n",
      "22/04/11 17:08:30 WARN SparkContext: Killing executors is not supported by current scheduler.\n"
     ]
    }
   ],
   "source": [
    "df.repartition(1)\n",
    "df.write.csv('./just_csv',mode='overwrite',sep=',',header=True)"
   ]
  },
  {
   "cell_type": "code",
   "execution_count": 94,
   "id": "d32695cc",
   "metadata": {},
   "outputs": [],
   "source": [
    "df = df.repartition(1)\n",
    "df.select('Name').write.mode('overwrite').text('./just_text')"
   ]
  },
  {
   "cell_type": "code",
   "execution_count": 95,
   "id": "f0963ee2",
   "metadata": {},
   "outputs": [
    {
     "data": {
      "text/plain": [
       "<pyspark.sql.readwriter.DataFrameWriter at 0x7f556f59c460>"
      ]
     },
     "execution_count": 95,
     "metadata": {},
     "output_type": "execute_result"
    }
   ],
   "source": [
    "df.write.format('parquet').mode('overwrite').partitionBy('Club')"
   ]
  },
  {
   "cell_type": "markdown",
   "id": "1c762c3e",
   "metadata": {},
   "source": [
    "## temporary views"
   ]
  },
  {
   "cell_type": "code",
   "execution_count": 68,
   "id": "ca3cd784",
   "metadata": {},
   "outputs": [],
   "source": [
    "df.createOrReplaceTempView('stats')"
   ]
  },
  {
   "cell_type": "code",
   "execution_count": 69,
   "id": "5b26559e",
   "metadata": {},
   "outputs": [
    {
     "name": "stdout",
     "output_type": "stream",
     "text": [
      "+------+-----------------+---+-----------+-------+-------------------+-----------+----------+\n",
      "|    ID|             Name|Age|Nationality|Overall|               Club|      Value|    Joined|\n",
      "+------+-----------------+---+-----------+-------+-------------------+-----------+----------+\n",
      "|158023|         L. Messi| 31|  Argentina|     94|       FC Barcelona|11050000000|2004-07-01|\n",
      "| 20801|Cristiano Ronaldo| 33|   Portugal|     94|           Juventus|  770000000|2018-07-10|\n",
      "|190871|        Neymar Jr| 26|     Brazil|     92|Paris Saint-Germain|11850000000|2017-08-03|\n",
      "|193080|           De Gea| 27|      Spain|     91|  Manchester United|  720000000|2011-07-01|\n",
      "|192985|     K. De Bruyne| 27|    Belgium|     91|    Manchester City| 1020000000|2015-08-30|\n",
      "|183277|        E. Hazard| 27|    Belgium|     91|            Chelsea|  930000000|2012-07-01|\n",
      "|177003|        L. Modrić| 32|    Croatia|     91|        Real Madrid|  670000000|2012-08-01|\n",
      "|176580|        L. Suárez| 31|    Uruguay|     91|       FC Barcelona|  800000000|2014-07-11|\n",
      "|155862|     Sergio Ramos| 32|      Spain|     91|        Real Madrid|  510000000|2005-08-01|\n",
      "|200389|         J. Oblak| 25|   Slovenia|     90|    Atlético Madrid|  680000000|2014-07-16|\n",
      "+------+-----------------+---+-----------+-------+-------------------+-----------+----------+\n",
      "\n"
     ]
    }
   ],
   "source": [
    "spark.sql('select * from stats limit 10').show()"
   ]
  },
  {
   "cell_type": "code",
   "execution_count": 70,
   "id": "17191b8b",
   "metadata": {},
   "outputs": [
    {
     "name": "stderr",
     "output_type": "stream",
     "text": [
      "                                                                                \r"
     ]
    },
    {
     "name": "stdout",
     "output_type": "stream",
     "text": [
      "+--------+\n",
      "|count(1)|\n",
      "+--------+\n",
      "|   16654|\n",
      "+--------+\n",
      "\n",
      "+-----------------+\n",
      "|              _c0|\n",
      "+-----------------+\n",
      "|         L. Messi|\n",
      "|Cristiano Ronaldo|\n",
      "|        Neymar Jr|\n",
      "|           De Gea|\n",
      "|     K. De Bruyne|\n",
      "|        E. Hazard|\n",
      "|        L. Modrić|\n",
      "|        L. Suárez|\n",
      "|     Sergio Ramos|\n",
      "|         J. Oblak|\n",
      "+-----------------+\n",
      "\n"
     ]
    }
   ],
   "source": [
    "spark.sql('select count(*) from parquet.`./just_parquet/`').show(10)\n",
    "spark.sql('select * from csv.`./just_text` limit 10').show(10)"
   ]
  },
  {
   "cell_type": "code",
   "execution_count": 71,
   "id": "d0c1c637",
   "metadata": {},
   "outputs": [
    {
     "name": "stdout",
     "output_type": "stream",
     "text": [
      "+------+-----------------+---+-----------+-------+------------+-----------+----------+\n",
      "|    ID|             Name|Age|Nationality|Overall|        Club|      Value|    Joined|\n",
      "+------+-----------------+---+-----------+-------+------------+-----------+----------+\n",
      "|158023|         L. Messi| 31|  Argentina|     94|FC Barcelona|11050000000|2004-07-01|\n",
      "| 20801|Cristiano Ronaldo| 33|   Portugal|     94|    Juventus|  770000000|2018-07-10|\n",
      "+------+-----------------+---+-----------+-------+------------+-----------+----------+\n",
      "only showing top 2 rows\n",
      "\n",
      "+------+-------------+---+-----------------+-------+--------------------+------+----------+\n",
      "|    ID|         Name|Age|      Nationality|Overall|                Club| Value|    Joined|\n",
      "+------+-------------+---+-----------------+-------+--------------------+------+----------+\n",
      "|140029|     O. Pérez| 45|           Mexico|     71|             Pachuca|160000|1991-06-01|\n",
      "| 53748|K. Pilkington| 44|          England|     48|    Cambridge United|     0|2018-08-17|\n",
      "| 51963|    T. Warner| 44|Trinidad & Tobago|     53|  Accrington Stanley|     0|2018-08-03|\n",
      "|140183|  S. Narazaki| 42|            Japan|     65|      Nagoya Grampus| 40000|1999-01-01|\n",
      "|  3665|     B. Nivet| 41|           France|     71|        ESTAC Troyes|     0|2012-07-01|\n",
      "|208927| H. Sulaimani| 41|     Saudi Arabia|     63|           Ohod Club|     0|2018-06-11|\n",
      "|142998|     C. Muñoz| 41|        Argentina|     68|CD Universidad de...| 60000|2013-01-01|\n",
      "| 18745|     M. Tyler| 41|          England|     59| Peterborough United| 10000|2016-03-08|\n",
      "| 29552|  S. Nakamura| 40|            Japan|     72|        Júbilo Iwata|     0|2017-01-10|\n",
      "|176540|  B. Castillo| 40|         Colombia|     66|      Atlético Huila| 40000|2017-01-06|\n",
      "+------+-------------+---+-----------------+-------+--------------------+------+----------+\n",
      "only showing top 10 rows\n",
      "\n",
      "<class 'pyspark.sql.dataframe.DataFrame'>\n"
     ]
    }
   ],
   "source": [
    "df.createOrReplaceTempView('new_view')\n",
    "reloaded_table = spark.table('new_view')  # reload temporary view as dataframe\n",
    "reloaded_table.show(2)\n",
    "reloaded_table.sort('Age',ascending=False).show(10)\n",
    "print(type(reloaded_table))"
   ]
  },
  {
   "cell_type": "code",
   "execution_count": 43,
   "id": "e155b363",
   "metadata": {},
   "outputs": [
    {
     "name": "stdout",
     "output_type": "stream",
     "text": [
      "+---------+\n",
      "|namespace|\n",
      "+---------+\n",
      "|  default|\n",
      "+---------+\n",
      "\n"
     ]
    }
   ],
   "source": [
    "spark.catalog.listTables('default')\n",
    "#spark.sql(\"create database db1\")\n",
    "spark.sql(\"show databases;\").show()"
   ]
  },
  {
   "cell_type": "code",
   "execution_count": 56,
   "id": "9e4dbec7",
   "metadata": {
    "scrolled": true
   },
   "outputs": [
    {
     "ename": "AnalysisException",
     "evalue": "Table or view not found: modified_table; line 1 pos 11;\n'DropTable false, false\n+- 'UnresolvedTableOrView [modified_table], DROP TABLE, true\n",
     "output_type": "error",
     "traceback": [
      "\u001b[0;31m---------------------------------------------------------------------------\u001b[0m",
      "\u001b[0;31mAnalysisException\u001b[0m                         Traceback (most recent call last)",
      "\u001b[0;32m/tmp/ipykernel_32817/3376990009.py\u001b[0m in \u001b[0;36m<module>\u001b[0;34m\u001b[0m\n\u001b[0;32m----> 1\u001b[0;31m \u001b[0mspark\u001b[0m\u001b[0;34m.\u001b[0m\u001b[0msql\u001b[0m\u001b[0;34m(\u001b[0m\u001b[0;34m'drop table modified_table'\u001b[0m\u001b[0;34m)\u001b[0m\u001b[0;34m\u001b[0m\u001b[0;34m\u001b[0m\u001b[0m\n\u001b[0m",
      "\u001b[0;32m~/env/lib/python3.8/site-packages/pyspark/sql/session.py\u001b[0m in \u001b[0;36msql\u001b[0;34m(self, sqlQuery)\u001b[0m\n\u001b[1;32m    721\u001b[0m         \u001b[0;34m[\u001b[0m\u001b[0mRow\u001b[0m\u001b[0;34m(\u001b[0m\u001b[0mf1\u001b[0m\u001b[0;34m=\u001b[0m\u001b[0;36m1\u001b[0m\u001b[0;34m,\u001b[0m \u001b[0mf2\u001b[0m\u001b[0;34m=\u001b[0m\u001b[0;34m'row1'\u001b[0m\u001b[0;34m)\u001b[0m\u001b[0;34m,\u001b[0m \u001b[0mRow\u001b[0m\u001b[0;34m(\u001b[0m\u001b[0mf1\u001b[0m\u001b[0;34m=\u001b[0m\u001b[0;36m2\u001b[0m\u001b[0;34m,\u001b[0m \u001b[0mf2\u001b[0m\u001b[0;34m=\u001b[0m\u001b[0;34m'row2'\u001b[0m\u001b[0;34m)\u001b[0m\u001b[0;34m,\u001b[0m \u001b[0mRow\u001b[0m\u001b[0;34m(\u001b[0m\u001b[0mf1\u001b[0m\u001b[0;34m=\u001b[0m\u001b[0;36m3\u001b[0m\u001b[0;34m,\u001b[0m \u001b[0mf2\u001b[0m\u001b[0;34m=\u001b[0m\u001b[0;34m'row3'\u001b[0m\u001b[0;34m)\u001b[0m\u001b[0;34m]\u001b[0m\u001b[0;34m\u001b[0m\u001b[0;34m\u001b[0m\u001b[0m\n\u001b[1;32m    722\u001b[0m         \"\"\"\n\u001b[0;32m--> 723\u001b[0;31m         \u001b[0;32mreturn\u001b[0m \u001b[0mDataFrame\u001b[0m\u001b[0;34m(\u001b[0m\u001b[0mself\u001b[0m\u001b[0;34m.\u001b[0m\u001b[0m_jsparkSession\u001b[0m\u001b[0;34m.\u001b[0m\u001b[0msql\u001b[0m\u001b[0;34m(\u001b[0m\u001b[0msqlQuery\u001b[0m\u001b[0;34m)\u001b[0m\u001b[0;34m,\u001b[0m \u001b[0mself\u001b[0m\u001b[0;34m.\u001b[0m\u001b[0m_wrapped\u001b[0m\u001b[0;34m)\u001b[0m\u001b[0;34m\u001b[0m\u001b[0;34m\u001b[0m\u001b[0m\n\u001b[0m\u001b[1;32m    724\u001b[0m \u001b[0;34m\u001b[0m\u001b[0m\n\u001b[1;32m    725\u001b[0m     \u001b[0;32mdef\u001b[0m \u001b[0mtable\u001b[0m\u001b[0;34m(\u001b[0m\u001b[0mself\u001b[0m\u001b[0;34m,\u001b[0m \u001b[0mtableName\u001b[0m\u001b[0;34m)\u001b[0m\u001b[0;34m:\u001b[0m\u001b[0;34m\u001b[0m\u001b[0;34m\u001b[0m\u001b[0m\n",
      "\u001b[0;32m~/env/lib/python3.8/site-packages/py4j/java_gateway.py\u001b[0m in \u001b[0;36m__call__\u001b[0;34m(self, *args)\u001b[0m\n\u001b[1;32m   1319\u001b[0m \u001b[0;34m\u001b[0m\u001b[0m\n\u001b[1;32m   1320\u001b[0m         \u001b[0manswer\u001b[0m \u001b[0;34m=\u001b[0m \u001b[0mself\u001b[0m\u001b[0;34m.\u001b[0m\u001b[0mgateway_client\u001b[0m\u001b[0;34m.\u001b[0m\u001b[0msend_command\u001b[0m\u001b[0;34m(\u001b[0m\u001b[0mcommand\u001b[0m\u001b[0;34m)\u001b[0m\u001b[0;34m\u001b[0m\u001b[0;34m\u001b[0m\u001b[0m\n\u001b[0;32m-> 1321\u001b[0;31m         return_value = get_return_value(\n\u001b[0m\u001b[1;32m   1322\u001b[0m             answer, self.gateway_client, self.target_id, self.name)\n\u001b[1;32m   1323\u001b[0m \u001b[0;34m\u001b[0m\u001b[0m\n",
      "\u001b[0;32m~/env/lib/python3.8/site-packages/pyspark/sql/utils.py\u001b[0m in \u001b[0;36mdeco\u001b[0;34m(*a, **kw)\u001b[0m\n\u001b[1;32m    115\u001b[0m                 \u001b[0;31m# Hide where the exception came from that shows a non-Pythonic\u001b[0m\u001b[0;34m\u001b[0m\u001b[0;34m\u001b[0m\u001b[0;34m\u001b[0m\u001b[0m\n\u001b[1;32m    116\u001b[0m                 \u001b[0;31m# JVM exception message.\u001b[0m\u001b[0;34m\u001b[0m\u001b[0;34m\u001b[0m\u001b[0;34m\u001b[0m\u001b[0m\n\u001b[0;32m--> 117\u001b[0;31m                 \u001b[0;32mraise\u001b[0m \u001b[0mconverted\u001b[0m \u001b[0;32mfrom\u001b[0m \u001b[0;32mNone\u001b[0m\u001b[0;34m\u001b[0m\u001b[0;34m\u001b[0m\u001b[0m\n\u001b[0m\u001b[1;32m    118\u001b[0m             \u001b[0;32melse\u001b[0m\u001b[0;34m:\u001b[0m\u001b[0;34m\u001b[0m\u001b[0;34m\u001b[0m\u001b[0m\n\u001b[1;32m    119\u001b[0m                 \u001b[0;32mraise\u001b[0m\u001b[0;34m\u001b[0m\u001b[0;34m\u001b[0m\u001b[0m\n",
      "\u001b[0;31mAnalysisException\u001b[0m: Table or view not found: modified_table; line 1 pos 11;\n'DropTable false, false\n+- 'UnresolvedTableOrView [modified_table], DROP TABLE, true\n"
     ]
    }
   ],
   "source": [
    "spark.sql('drop table modified_table')"
   ]
  },
  {
   "cell_type": "code",
   "execution_count": 57,
   "id": "d87a5fbb",
   "metadata": {},
   "outputs": [
    {
     "ename": "AnalysisException",
     "evalue": "CREATE-TABLE-AS-SELECT cannot create table with location to a non-empty directory tablesP . To allow overwriting the existing non-empty directory, set 'spark.sql.legacy.allowNonEmptyLocationInCTAS' to true.",
     "output_type": "error",
     "traceback": [
      "\u001b[0;31m---------------------------------------------------------------------------\u001b[0m",
      "\u001b[0;31mAnalysisException\u001b[0m                         Traceback (most recent call last)",
      "\u001b[0;32m/tmp/ipykernel_32817/501222262.py\u001b[0m in \u001b[0;36m<module>\u001b[0;34m\u001b[0m\n\u001b[1;32m      1\u001b[0m \u001b[0;31m#persistent table\u001b[0m\u001b[0;34m\u001b[0m\u001b[0;34m\u001b[0m\u001b[0;34m\u001b[0m\u001b[0m\n\u001b[1;32m      2\u001b[0m \u001b[0;34m\u001b[0m\u001b[0m\n\u001b[0;32m----> 3\u001b[0;31m \u001b[0mdf\u001b[0m\u001b[0;34m.\u001b[0m\u001b[0mwrite\u001b[0m\u001b[0;34m.\u001b[0m\u001b[0moption\u001b[0m\u001b[0;34m(\u001b[0m\u001b[0;34m'path'\u001b[0m\u001b[0;34m,\u001b[0m\u001b[0;34m'./tablesP'\u001b[0m\u001b[0;34m)\u001b[0m\u001b[0;34m.\u001b[0m\u001b[0msaveAsTable\u001b[0m\u001b[0;34m(\u001b[0m\u001b[0;34m'modified_table'\u001b[0m\u001b[0;34m)\u001b[0m  \u001b[0;31m# doesn't work\u001b[0m\u001b[0;34m\u001b[0m\u001b[0;34m\u001b[0m\u001b[0m\n\u001b[0m",
      "\u001b[0;32m~/env/lib/python3.8/site-packages/pyspark/sql/readwriter.py\u001b[0m in \u001b[0;36msaveAsTable\u001b[0;34m(self, name, format, mode, partitionBy, **options)\u001b[0m\n\u001b[1;32m    804\u001b[0m         \u001b[0;32mif\u001b[0m \u001b[0mformat\u001b[0m \u001b[0;32mis\u001b[0m \u001b[0;32mnot\u001b[0m \u001b[0;32mNone\u001b[0m\u001b[0;34m:\u001b[0m\u001b[0;34m\u001b[0m\u001b[0;34m\u001b[0m\u001b[0m\n\u001b[1;32m    805\u001b[0m             \u001b[0mself\u001b[0m\u001b[0;34m.\u001b[0m\u001b[0mformat\u001b[0m\u001b[0;34m(\u001b[0m\u001b[0mformat\u001b[0m\u001b[0;34m)\u001b[0m\u001b[0;34m\u001b[0m\u001b[0;34m\u001b[0m\u001b[0m\n\u001b[0;32m--> 806\u001b[0;31m         \u001b[0mself\u001b[0m\u001b[0;34m.\u001b[0m\u001b[0m_jwrite\u001b[0m\u001b[0;34m.\u001b[0m\u001b[0msaveAsTable\u001b[0m\u001b[0;34m(\u001b[0m\u001b[0mname\u001b[0m\u001b[0;34m)\u001b[0m\u001b[0;34m\u001b[0m\u001b[0;34m\u001b[0m\u001b[0m\n\u001b[0m\u001b[1;32m    807\u001b[0m \u001b[0;34m\u001b[0m\u001b[0m\n\u001b[1;32m    808\u001b[0m     def json(self, path, mode=None, compression=None, dateFormat=None, timestampFormat=None,\n",
      "\u001b[0;32m~/env/lib/python3.8/site-packages/py4j/java_gateway.py\u001b[0m in \u001b[0;36m__call__\u001b[0;34m(self, *args)\u001b[0m\n\u001b[1;32m   1319\u001b[0m \u001b[0;34m\u001b[0m\u001b[0m\n\u001b[1;32m   1320\u001b[0m         \u001b[0manswer\u001b[0m \u001b[0;34m=\u001b[0m \u001b[0mself\u001b[0m\u001b[0;34m.\u001b[0m\u001b[0mgateway_client\u001b[0m\u001b[0;34m.\u001b[0m\u001b[0msend_command\u001b[0m\u001b[0;34m(\u001b[0m\u001b[0mcommand\u001b[0m\u001b[0;34m)\u001b[0m\u001b[0;34m\u001b[0m\u001b[0;34m\u001b[0m\u001b[0m\n\u001b[0;32m-> 1321\u001b[0;31m         return_value = get_return_value(\n\u001b[0m\u001b[1;32m   1322\u001b[0m             answer, self.gateway_client, self.target_id, self.name)\n\u001b[1;32m   1323\u001b[0m \u001b[0;34m\u001b[0m\u001b[0m\n",
      "\u001b[0;32m~/env/lib/python3.8/site-packages/pyspark/sql/utils.py\u001b[0m in \u001b[0;36mdeco\u001b[0;34m(*a, **kw)\u001b[0m\n\u001b[1;32m    115\u001b[0m                 \u001b[0;31m# Hide where the exception came from that shows a non-Pythonic\u001b[0m\u001b[0;34m\u001b[0m\u001b[0;34m\u001b[0m\u001b[0;34m\u001b[0m\u001b[0m\n\u001b[1;32m    116\u001b[0m                 \u001b[0;31m# JVM exception message.\u001b[0m\u001b[0;34m\u001b[0m\u001b[0;34m\u001b[0m\u001b[0;34m\u001b[0m\u001b[0m\n\u001b[0;32m--> 117\u001b[0;31m                 \u001b[0;32mraise\u001b[0m \u001b[0mconverted\u001b[0m \u001b[0;32mfrom\u001b[0m \u001b[0;32mNone\u001b[0m\u001b[0;34m\u001b[0m\u001b[0;34m\u001b[0m\u001b[0m\n\u001b[0m\u001b[1;32m    118\u001b[0m             \u001b[0;32melse\u001b[0m\u001b[0;34m:\u001b[0m\u001b[0;34m\u001b[0m\u001b[0;34m\u001b[0m\u001b[0m\n\u001b[1;32m    119\u001b[0m                 \u001b[0;32mraise\u001b[0m\u001b[0;34m\u001b[0m\u001b[0;34m\u001b[0m\u001b[0m\n",
      "\u001b[0;31mAnalysisException\u001b[0m: CREATE-TABLE-AS-SELECT cannot create table with location to a non-empty directory tablesP . To allow overwriting the existing non-empty directory, set 'spark.sql.legacy.allowNonEmptyLocationInCTAS' to true."
     ]
    }
   ],
   "source": [
    "#persistent table\n",
    "\n",
    "df.write.option('path','./tablesP').saveAsTable('modified_table')  # doesn't work"
   ]
  },
  {
   "cell_type": "code",
   "execution_count": 58,
   "id": "ab320651",
   "metadata": {},
   "outputs": [
    {
     "name": "stdout",
     "output_type": "stream",
     "text": [
      "+------+-----------+---+-----------+-------+-------------------+---------+--------------+\n",
      "|    ID|       Name|Age|Nationality|Overall|               Club|    Value|Preferred_foot|\n",
      "+------+-----------+---+-----------+-------+-------------------+---------+--------------+\n",
      "|192255|P. Maiorino| 29|      Italy|     62|            Livorno|   300000|         Right|\n",
      "|210556| Lucas João| 24|   Portugal|     69|Sheffield Wednesday|140000000|         Right|\n",
      "|208158| F. Andrada| 24|  Argentina|     69|  Unión de Santa Fe|150000000|         Right|\n",
      "|238468|    C. Mesa| 20|   Colombia|     50|    América de Cali|    60000|         Right|\n",
      "|234178|   L. Abram| 22|       Peru|     70|    Vélez Sarsfield|240000000|          Left|\n",
      "+------+-----------+---+-----------+-------+-------------------+---------+--------------+\n",
      "only showing top 5 rows\n",
      "\n"
     ]
    }
   ],
   "source": [
    "spark.sql('select * from parquet.`./tables`').show(5)"
   ]
  },
  {
   "cell_type": "code",
   "execution_count": 115,
   "id": "b152ec88",
   "metadata": {},
   "outputs": [
    {
     "name": "stdout",
     "output_type": "stream",
     "text": [
      "+---+----+---+-----------+-------+----+-----+------+\n",
      "| ID|Name|Age|Nationality|Overall|Club|Value|Joined|\n",
      "+---+----+---+-----------+-------+----+-----+------+\n",
      "+---+----+---+-----------+-------+----+-----+------+\n",
      "\n"
     ]
    }
   ],
   "source": [
    "spark.sql('select * from modified_table limit 10').show(5)"
   ]
  },
  {
   "cell_type": "markdown",
   "id": "94f6e3b6",
   "metadata": {},
   "source": [
    "## Tables"
   ]
  },
  {
   "cell_type": "code",
   "execution_count": 72,
   "id": "7412a80d",
   "metadata": {},
   "outputs": [
    {
     "name": "stdout",
     "output_type": "stream",
     "text": [
      "+---------+\n",
      "|namespace|\n",
      "+---------+\n",
      "|  default|\n",
      "+---------+\n",
      "\n"
     ]
    },
    {
     "name": "stderr",
     "output_type": "stream",
     "text": [
      "/home/shashank/env/lib/python3.8/site-packages/pyspark/sql/dataframe.py:138: FutureWarning: Deprecated in 2.0, use createOrReplaceTempView instead.\n",
      "  warnings.warn(\n"
     ]
    },
    {
     "data": {
      "text/plain": [
       "DataFrame[]"
      ]
     },
     "execution_count": 72,
     "metadata": {},
     "output_type": "execute_result"
    }
   ],
   "source": [
    "# temporary tables -- temporary tables does not belongs to any database\n",
    "df.registerTempTable('tempTable1')\n",
    "spark.sql(\"show databases\").show()\n",
    "spark.sql(\"create database db1;\")"
   ]
  },
  {
   "cell_type": "code",
   "execution_count": 73,
   "id": "9566c398",
   "metadata": {},
   "outputs": [
    {
     "ename": "AnalysisException",
     "evalue": "Can not create the managed table('`db1`.`permTable2`'). The associated location('file:/home/shashank/Practice/spark-warehouse/db1.db/permtable2') already exists.",
     "output_type": "error",
     "traceback": [
      "\u001b[0;31m---------------------------------------------------------------------------\u001b[0m",
      "\u001b[0;31mAnalysisException\u001b[0m                         Traceback (most recent call last)",
      "\u001b[0;32m/tmp/ipykernel_5942/3964751963.py\u001b[0m in \u001b[0;36m<module>\u001b[0;34m\u001b[0m\n\u001b[0;32m----> 1\u001b[0;31m \u001b[0mdf\u001b[0m\u001b[0;34m.\u001b[0m\u001b[0mwrite\u001b[0m\u001b[0;34m.\u001b[0m\u001b[0msaveAsTable\u001b[0m\u001b[0;34m(\u001b[0m\u001b[0;34m'db1.permTable2'\u001b[0m\u001b[0;34m)\u001b[0m\u001b[0;34m\u001b[0m\u001b[0;34m\u001b[0m\u001b[0m\n\u001b[0m\u001b[1;32m      2\u001b[0m \u001b[0mspark\u001b[0m\u001b[0;34m.\u001b[0m\u001b[0msql\u001b[0m\u001b[0;34m(\u001b[0m\u001b[0;34m\"show tables in db1\"\u001b[0m\u001b[0;34m)\u001b[0m\u001b[0;34m.\u001b[0m\u001b[0mshow\u001b[0m\u001b[0;34m(\u001b[0m\u001b[0;34m)\u001b[0m\u001b[0;34m\u001b[0m\u001b[0;34m\u001b[0m\u001b[0m\n",
      "\u001b[0;32m~/env/lib/python3.8/site-packages/pyspark/sql/readwriter.py\u001b[0m in \u001b[0;36msaveAsTable\u001b[0;34m(self, name, format, mode, partitionBy, **options)\u001b[0m\n\u001b[1;32m    804\u001b[0m         \u001b[0;32mif\u001b[0m \u001b[0mformat\u001b[0m \u001b[0;32mis\u001b[0m \u001b[0;32mnot\u001b[0m \u001b[0;32mNone\u001b[0m\u001b[0;34m:\u001b[0m\u001b[0;34m\u001b[0m\u001b[0;34m\u001b[0m\u001b[0m\n\u001b[1;32m    805\u001b[0m             \u001b[0mself\u001b[0m\u001b[0;34m.\u001b[0m\u001b[0mformat\u001b[0m\u001b[0;34m(\u001b[0m\u001b[0mformat\u001b[0m\u001b[0;34m)\u001b[0m\u001b[0;34m\u001b[0m\u001b[0;34m\u001b[0m\u001b[0m\n\u001b[0;32m--> 806\u001b[0;31m         \u001b[0mself\u001b[0m\u001b[0;34m.\u001b[0m\u001b[0m_jwrite\u001b[0m\u001b[0;34m.\u001b[0m\u001b[0msaveAsTable\u001b[0m\u001b[0;34m(\u001b[0m\u001b[0mname\u001b[0m\u001b[0;34m)\u001b[0m\u001b[0;34m\u001b[0m\u001b[0;34m\u001b[0m\u001b[0m\n\u001b[0m\u001b[1;32m    807\u001b[0m \u001b[0;34m\u001b[0m\u001b[0m\n\u001b[1;32m    808\u001b[0m     def json(self, path, mode=None, compression=None, dateFormat=None, timestampFormat=None,\n",
      "\u001b[0;32m~/env/lib/python3.8/site-packages/py4j/java_gateway.py\u001b[0m in \u001b[0;36m__call__\u001b[0;34m(self, *args)\u001b[0m\n\u001b[1;32m   1319\u001b[0m \u001b[0;34m\u001b[0m\u001b[0m\n\u001b[1;32m   1320\u001b[0m         \u001b[0manswer\u001b[0m \u001b[0;34m=\u001b[0m \u001b[0mself\u001b[0m\u001b[0;34m.\u001b[0m\u001b[0mgateway_client\u001b[0m\u001b[0;34m.\u001b[0m\u001b[0msend_command\u001b[0m\u001b[0;34m(\u001b[0m\u001b[0mcommand\u001b[0m\u001b[0;34m)\u001b[0m\u001b[0;34m\u001b[0m\u001b[0;34m\u001b[0m\u001b[0m\n\u001b[0;32m-> 1321\u001b[0;31m         return_value = get_return_value(\n\u001b[0m\u001b[1;32m   1322\u001b[0m             answer, self.gateway_client, self.target_id, self.name)\n\u001b[1;32m   1323\u001b[0m \u001b[0;34m\u001b[0m\u001b[0m\n",
      "\u001b[0;32m~/env/lib/python3.8/site-packages/pyspark/sql/utils.py\u001b[0m in \u001b[0;36mdeco\u001b[0;34m(*a, **kw)\u001b[0m\n\u001b[1;32m    115\u001b[0m                 \u001b[0;31m# Hide where the exception came from that shows a non-Pythonic\u001b[0m\u001b[0;34m\u001b[0m\u001b[0;34m\u001b[0m\u001b[0;34m\u001b[0m\u001b[0m\n\u001b[1;32m    116\u001b[0m                 \u001b[0;31m# JVM exception message.\u001b[0m\u001b[0;34m\u001b[0m\u001b[0;34m\u001b[0m\u001b[0;34m\u001b[0m\u001b[0m\n\u001b[0;32m--> 117\u001b[0;31m                 \u001b[0;32mraise\u001b[0m \u001b[0mconverted\u001b[0m \u001b[0;32mfrom\u001b[0m \u001b[0;32mNone\u001b[0m\u001b[0;34m\u001b[0m\u001b[0;34m\u001b[0m\u001b[0m\n\u001b[0m\u001b[1;32m    118\u001b[0m             \u001b[0;32melse\u001b[0m\u001b[0;34m:\u001b[0m\u001b[0;34m\u001b[0m\u001b[0;34m\u001b[0m\u001b[0m\n\u001b[1;32m    119\u001b[0m                 \u001b[0;32mraise\u001b[0m\u001b[0;34m\u001b[0m\u001b[0;34m\u001b[0m\u001b[0m\n",
      "\u001b[0;31mAnalysisException\u001b[0m: Can not create the managed table('`db1`.`permTable2`'). The associated location('file:/home/shashank/Practice/spark-warehouse/db1.db/permtable2') already exists."
     ]
    }
   ],
   "source": [
    "df.write.saveAsTable('db1.permTable2')\n",
    "spark.sql(\"show tables in db1\").show()"
   ]
  },
  {
   "cell_type": "code",
   "execution_count": 62,
   "id": "b87d9b9b",
   "metadata": {},
   "outputs": [
    {
     "name": "stdout",
     "output_type": "stream",
     "text": [
      "+---------+\n",
      "|namespace|\n",
      "+---------+\n",
      "|      db1|\n",
      "|  default|\n",
      "+---------+\n",
      "\n"
     ]
    }
   ],
   "source": [
    "spark.sql(\"show databases;\").show()"
   ]
  },
  {
   "cell_type": "code",
   "execution_count": 65,
   "id": "88396f46",
   "metadata": {
    "scrolled": true
   },
   "outputs": [
    {
     "name": "stdout",
     "output_type": "stream",
     "text": [
      "+------+-----------------+---+-----------+-------+-------------------+-----------+------------+\n",
      "|    ID|             Name|Age|Nationality|Overall|               Club|      Value|      Joined|\n",
      "+------+-----------------+---+-----------+-------+-------------------+-----------+------------+\n",
      "|158023|         L. Messi| 31|  Argentina|     94|       FC Barcelona|11050000000| Jul 1, 2004|\n",
      "| 20801|Cristiano Ronaldo| 33|   Portugal|     94|           Juventus|  770000000|Jul 10, 2018|\n",
      "|190871|        Neymar Jr| 26|     Brazil|     92|Paris Saint-Germain|11850000000| Aug 3, 2017|\n",
      "|193080|           De Gea| 27|      Spain|     91|  Manchester United|  720000000| Jul 1, 2011|\n",
      "|192985|     K. De Bruyne| 27|    Belgium|     91|    Manchester City| 1020000000|Aug 30, 2015|\n",
      "|183277|        E. Hazard| 27|    Belgium|     91|            Chelsea|  930000000| Jul 1, 2012|\n",
      "|177003|        L. Modrić| 32|    Croatia|     91|        Real Madrid|  670000000| Aug 1, 2012|\n",
      "|176580|        L. Suárez| 31|    Uruguay|     91|       FC Barcelona|  800000000|Jul 11, 2014|\n",
      "|155862|     Sergio Ramos| 32|      Spain|     91|        Real Madrid|  510000000| Aug 1, 2005|\n",
      "|200389|         J. Oblak| 25|   Slovenia|     90|    Atlético Madrid|  680000000|Jul 16, 2014|\n",
      "|188545|   R. Lewandowski| 29|     Poland|     90|  FC Bayern München|  770000000| Jul 1, 2014|\n",
      "|182521|         T. Kroos| 28|    Germany|     90|        Real Madrid| 7650000000|Jul 17, 2014|\n",
      "|182493|         D. Godín| 32|    Uruguay|     90|    Atlético Madrid|  440000000| Aug 4, 2010|\n",
      "|168542|      David Silva| 32|      Spain|     90|    Manchester City|  600000000|Jul 14, 2010|\n",
      "|215914|         N. Kanté| 27|     France|     89|            Chelsea|  630000000|Jul 16, 2016|\n",
      "|211110|        P. Dybala| 24|  Argentina|     89|           Juventus|  890000000| Jul 1, 2015|\n",
      "|202126|          H. Kane| 24|    England|     89|  Tottenham Hotspur| 8350000000| Jul 1, 2010|\n",
      "|194765|     A. Griezmann| 27|     France|     89|    Atlético Madrid|  780000000|Jul 28, 2014|\n",
      "|192448|    M. ter Stegen| 26|    Germany|     89|       FC Barcelona|  580000000| Jul 1, 2014|\n",
      "|192119|      T. Courtois| 26|    Belgium|     89|        Real Madrid| 5350000000| Aug 9, 2018|\n",
      "+------+-----------------+---+-----------+-------+-------------------+-----------+------------+\n",
      "only showing top 20 rows\n",
      "\n"
     ]
    }
   ],
   "source": [
    "spark.sql(\"select * from db1.permTable2\").show()"
   ]
  },
  {
   "cell_type": "markdown",
   "id": "890c492e",
   "metadata": {},
   "source": [
    "# JOINS"
   ]
  },
  {
   "cell_type": "code",
   "execution_count": 127,
   "id": "cb140154",
   "metadata": {},
   "outputs": [
    {
     "name": "stdout",
     "output_type": "stream",
     "text": [
      "root\n",
      " |-- emp_id: long (nullable = true)\n",
      " |-- name: string (nullable = true)\n",
      " |-- superior_emp_id: long (nullable = true)\n",
      " |-- year_joined: string (nullable = true)\n",
      " |-- emp_dept_id: string (nullable = true)\n",
      " |-- gender: string (nullable = true)\n",
      " |-- salary: long (nullable = true)\n",
      "\n",
      "+------+--------+---------------+-----------+-----------+------+------+\n",
      "|emp_id|name    |superior_emp_id|year_joined|emp_dept_id|gender|salary|\n",
      "+------+--------+---------------+-----------+-----------+------+------+\n",
      "|1     |Smith   |-1             |2018       |10         |M     |3000  |\n",
      "|2     |Rose    |1              |2010       |20         |M     |4000  |\n",
      "|3     |Williams|1              |2010       |10         |M     |1000  |\n",
      "|4     |Jones   |2              |2005       |10         |F     |2000  |\n",
      "|5     |Brown   |2              |2010       |40         |      |-1    |\n",
      "|6     |Brown   |2              |2010       |50         |      |-1    |\n",
      "+------+--------+---------------+-----------+-----------+------+------+\n",
      "\n",
      "root\n",
      " |-- dept_name: string (nullable = true)\n",
      " |-- dept_id: long (nullable = true)\n",
      "\n",
      "+---------+-------+\n",
      "|dept_name|dept_id|\n",
      "+---------+-------+\n",
      "|Finance  |10     |\n",
      "|Marketing|20     |\n",
      "|Sales    |30     |\n",
      "|IT       |40     |\n",
      "+---------+-------+\n",
      "\n"
     ]
    }
   ],
   "source": [
    "emp = [(1,\"Smith\",-1,\"2018\",\"10\",\"M\",3000),\n",
    "    (2,\"Rose\",1,\"2010\",\"20\",\"M\",4000),\n",
    "    (3,\"Williams\",1,\"2010\",\"10\",\"M\",1000),\n",
    "    (4,\"Jones\",2,\"2005\",\"10\",\"F\",2000),\n",
    "    (5,\"Brown\",2,\"2010\",\"40\",\"\",-1),\n",
    "      (6,\"Brown\",2,\"2010\",\"50\",\"\",-1)\n",
    "  ]\n",
    "empColumns = [\"emp_id\",\"name\",\"superior_emp_id\",\"year_joined\",\n",
    "       \"emp_dept_id\",\"gender\",\"salary\"]\n",
    "\n",
    "empDF = spark.createDataFrame(data=emp, schema = empColumns)\n",
    "empDF.printSchema()\n",
    "empDF.show(truncate=False)\n",
    "\n",
    "dept = [(\"Finance\",10),\n",
    "    (\"Marketing\",20),\n",
    "    (\"Sales\",30),\n",
    "    (\"IT\",40)]\n",
    "\n",
    "deptColumns = [\"dept_name\",\"dept_id\"]\n",
    "deptDF = spark.createDataFrame(data=dept, schema = deptColumns)\n",
    "deptDF.printSchema()\n",
    "deptDF.show(truncate=False)"
   ]
  },
  {
   "cell_type": "code",
   "execution_count": 120,
   "id": "53bdc997",
   "metadata": {},
   "outputs": [
    {
     "name": "stdout",
     "output_type": "stream",
     "text": [
      "+------+--------+---------+\n",
      "|emp_id|    name|dept_name|\n",
      "+------+--------+---------+\n",
      "|     1|   Smith|  Finance|\n",
      "|     3|Williams|  Finance|\n",
      "|     4|   Jones|  Finance|\n",
      "|     2|    Rose|Marketing|\n",
      "|     5|   Brown|       IT|\n",
      "+------+--------+---------+\n",
      "\n"
     ]
    }
   ],
   "source": [
    "empDF.join(deptDF,empDF.emp_dept_id ==  deptDF.dept_id,\"inner\").select('emp_id','name','dept_name').show()"
   ]
  },
  {
   "cell_type": "code",
   "execution_count": null,
   "id": "9bcb3a55",
   "metadata": {},
   "outputs": [],
   "source": [
    "#joins \"inner\",\"left\",\"right\",\"full\""
   ]
  },
  {
   "cell_type": "code",
   "execution_count": 122,
   "id": "101b05c3",
   "metadata": {},
   "outputs": [],
   "source": [
    "empDF.createOrReplaceTempView(\"EMP\")\n",
    "deptDF.createOrReplaceTempView(\"DEPT\")"
   ]
  },
  {
   "cell_type": "code",
   "execution_count": 124,
   "id": "e305d3bd",
   "metadata": {},
   "outputs": [
    {
     "name": "stdout",
     "output_type": "stream",
     "text": [
      "+------+--------+---------------+-----------+-----------+------+------+---------+-------+\n",
      "|emp_id|name    |superior_emp_id|year_joined|emp_dept_id|gender|salary|dept_name|dept_id|\n",
      "+------+--------+---------------+-----------+-----------+------+------+---------+-------+\n",
      "|1     |Smith   |-1             |2018       |10         |M     |3000  |Finance  |10     |\n",
      "|3     |Williams|1              |2010       |10         |M     |1000  |Finance  |10     |\n",
      "|4     |Jones   |2              |2005       |10         |F     |2000  |Finance  |10     |\n",
      "|2     |Rose    |1              |2010       |20         |M     |4000  |Marketing|20     |\n",
      "|5     |Brown   |2              |2010       |40         |      |-1    |IT       |40     |\n",
      "+------+--------+---------------+-----------+-----------+------+------+---------+-------+\n",
      "\n"
     ]
    }
   ],
   "source": [
    "joinDF2 = spark.sql(\"select * from EMP e INNER JOIN DEPT d ON e.emp_dept_id == d.dept_id\").show(truncate=False)"
   ]
  },
  {
   "cell_type": "markdown",
   "id": "3a3c8a6c",
   "metadata": {},
   "source": [
    "## Union"
   ]
  },
  {
   "cell_type": "code",
   "execution_count": 127,
   "id": "da753159",
   "metadata": {},
   "outputs": [
    {
     "name": "stdout",
     "output_type": "stream",
     "text": [
      "+-------------+----------+-----+------+---+-----+\n",
      "|employee_name|department|state|salary|age|bonus|\n",
      "+-------------+----------+-----+------+---+-----+\n",
      "|        James|     Sales|   NY| 90000| 34|10000|\n",
      "|      Michael|     Sales|   NY| 86000| 56|20000|\n",
      "|       Robert|     Sales|   CA| 81000| 30|23000|\n",
      "|        Maria|   Finance|   CA| 90000| 24|23000|\n",
      "|        James|     Sales|   NY| 90000| 34|10000|\n",
      "|        Maria|   Finance|   CA| 90000| 24|23000|\n",
      "|          Jen|   Finance|   NY| 79000| 53|15000|\n",
      "|         Jeff| Marketing|   CA| 80000| 25|18000|\n",
      "|        Kumar| Marketing|   NY| 91000| 50|21000|\n",
      "+-------------+----------+-----+------+---+-----+\n",
      "\n"
     ]
    }
   ],
   "source": [
    "simpleData = [(\"James\",\"Sales\",\"NY\",90000,34,10000),\n",
    "    (\"Michael\",\"Sales\",\"NY\",86000,56,20000), \n",
    "    (\"Robert\",\"Sales\",\"CA\",81000,30,23000), \n",
    "    (\"Maria\",\"Finance\",\"CA\",90000,24,23000) \n",
    "  ]\n",
    "\n",
    "columns= [\"employee_name\",\"department\",\"state\",\"salary\",\"age\",\"bonus\"]\n",
    "\n",
    "simpleData2 = [(\"James\",\"Sales\",\"NY\",90000,34,10000),\n",
    "    (\"Maria\",\"Finance\",\"CA\",90000,24,23000),\n",
    "    (\"Jen\",\"Finance\",\"NY\",79000,53,15000),\n",
    "    (\"Jeff\",\"Marketing\",\"CA\",80000,25,18000),\n",
    "    (\"Kumar\",\"Marketing\",\"NY\",91000,50,21000)\n",
    "  ]\n",
    "\n",
    "df1 = spark.createDataFrame(simpleData,schema=columns)\n",
    "df2 = spark.createDataFrame(simpleData2,schema=columns)\n",
    "\n",
    "union_df = df1.union(df2).show()"
   ]
  },
  {
   "cell_type": "code",
   "execution_count": 128,
   "id": "955ce0b1",
   "metadata": {},
   "outputs": [],
   "source": [
    "#unionByNames --> used to merge columns by names instead of positions"
   ]
  },
  {
   "cell_type": "code",
   "execution_count": 137,
   "id": "56b35b6b",
   "metadata": {},
   "outputs": [
    {
     "name": "stdout",
     "output_type": "stream",
     "text": [
      "Project\n",
      "Gutenberg’s\n",
      "Alice’s\n",
      "Adventures\n",
      "in\n",
      "Wonderland\n",
      "Project\n",
      "Gutenberg’s\n",
      "Adventures\n",
      "in\n",
      "Wonderland\n",
      "Project\n",
      "Gutenberg’s\n"
     ]
    }
   ],
   "source": [
    "data = [\"Project Gutenberg’s\",\n",
    "        \"Alice’s Adventures in Wonderland\",\n",
    "        \"Project Gutenberg’s\",\n",
    "        \"Adventures in Wonderland\",\n",
    "        \"Project Gutenberg’s\"]\n",
    "\n",
    "rdd=spark.sparkContext.parallelize(data)\n",
    "rdd2=rdd.flatMap(lambda x: x.split(\" \"))\n",
    "\n",
    "for element in rdd2.collect():\n",
    "    print(element)\n",
    "    \n"
   ]
  },
  {
   "cell_type": "markdown",
   "id": "ed44ce2a",
   "metadata": {},
   "source": [
    "## datetime"
   ]
  },
  {
   "cell_type": "code",
   "execution_count": 128,
   "id": "8536447b",
   "metadata": {},
   "outputs": [
    {
     "name": "stdout",
     "output_type": "stream",
     "text": [
      "+------+-----------------+---+-----------+-------+------------+-----------+------------+\n",
      "|    ID|             Name|Age|Nationality|Overall|        Club|      Value|      Joined|\n",
      "+------+-----------------+---+-----------+-------+------------+-----------+------------+\n",
      "|158023|         L. Messi| 31|  Argentina|     94|FC Barcelona|11050000000| Jul 1, 2004|\n",
      "| 20801|Cristiano Ronaldo| 33|   Portugal|     94|    Juventus|  770000000|Jul 10, 2018|\n",
      "+------+-----------------+---+-----------+-------+------------+-----------+------------+\n",
      "only showing top 2 rows\n",
      "\n"
     ]
    }
   ],
   "source": [
    "df.show(2)"
   ]
  },
  {
   "cell_type": "code",
   "execution_count": 129,
   "id": "22c8d27b",
   "metadata": {},
   "outputs": [
    {
     "name": "stdout",
     "output_type": "stream",
     "text": [
      "+--------------+\n",
      "|current_date()|\n",
      "+--------------+\n",
      "|    2022-04-01|\n",
      "+--------------+\n",
      "only showing top 1 row\n",
      "\n"
     ]
    }
   ],
   "source": [
    "df.select(f.current_date()).show(1)    #current date"
   ]
  },
  {
   "cell_type": "code",
   "execution_count": 131,
   "id": "1ef96c83",
   "metadata": {
    "collapsed": true
   },
   "outputs": [
    {
     "name": "stdout",
     "output_type": "stream",
     "text": [
      "+----------------------------+\n",
      "|to_date(Joined, mm dd, yyyy)|\n",
      "+----------------------------+\n",
      "|                        null|\n",
      "|                        null|\n",
      "|                        null|\n",
      "|                        null|\n",
      "|                        null|\n",
      "|                        null|\n",
      "|                        null|\n",
      "|                        null|\n",
      "|                        null|\n",
      "|                        null|\n",
      "|                        null|\n",
      "|                        null|\n",
      "|                        null|\n",
      "|                        null|\n",
      "|                        null|\n",
      "|                        null|\n",
      "|                        null|\n",
      "|                        null|\n",
      "|                        null|\n",
      "|                        null|\n",
      "+----------------------------+\n",
      "only showing top 20 rows\n",
      "\n"
     ]
    }
   ],
   "source": [
    "df.select(f.to_date(\"Joined\",\"mm dd, yyyy\")).show()"
   ]
  },
  {
   "cell_type": "code",
   "execution_count": 132,
   "id": "2de46123",
   "metadata": {},
   "outputs": [
    {
     "name": "stdout",
     "output_type": "stream",
     "text": [
      "+---+----------+\n",
      "| id|     input|\n",
      "+---+----------+\n",
      "|  1|2020-02-01|\n",
      "|  2|2019-03-01|\n",
      "|  3|2021-03-01|\n",
      "+---+----------+\n",
      "\n"
     ]
    }
   ],
   "source": [
    "data = [[\"1\",\"2020-02-01\"],[\"2\",\"2019-03-01\"],[\"3\",\"2021-03-01\"]]\n",
    "df = spark.createDataFrame(data,[\"id\",\"input\"])\n",
    "df.show(5)"
   ]
  },
  {
   "cell_type": "code",
   "execution_count": 133,
   "id": "47ccec10",
   "metadata": {},
   "outputs": [
    {
     "name": "stdout",
     "output_type": "stream",
     "text": [
      "root\n",
      " |-- id: string (nullable = true)\n",
      " |-- input: date (nullable = true)\n",
      "\n"
     ]
    }
   ],
   "source": [
    "df = df.withColumn(\"input\",df.input.cast(DateType()))\n",
    "df.printSchema()"
   ]
  },
  {
   "cell_type": "code",
   "execution_count": 134,
   "id": "5d4fb927",
   "metadata": {},
   "outputs": [
    {
     "name": "stdout",
     "output_type": "stream",
     "text": [
      "+--------------------+\n",
      "| current_timestamp()|\n",
      "+--------------------+\n",
      "|2022-04-01 11:23:...|\n",
      "|2022-04-01 11:23:...|\n",
      "|2022-04-01 11:23:...|\n",
      "+--------------------+\n",
      "\n"
     ]
    }
   ],
   "source": [
    "df.select(f.current_timestamp()).show()"
   ]
  },
  {
   "cell_type": "code",
   "execution_count": 137,
   "id": "18a2699d",
   "metadata": {},
   "outputs": [
    {
     "name": "stdout",
     "output_type": "stream",
     "text": [
      "+----------+-----------+\n",
      "|     input|date_format|\n",
      "+----------+-----------+\n",
      "|2020-02-01| 02-01-2020|\n",
      "|2019-03-01| 03-01-2019|\n",
      "|2021-03-01| 03-01-2021|\n",
      "+----------+-----------+\n",
      "\n"
     ]
    }
   ],
   "source": [
    "df.select(\"input\",f.date_format(\"input\", \"MM-dd-yyyy\").alias(\"date_format\")).show() #changing format"
   ]
  },
  {
   "cell_type": "code",
   "execution_count": 139,
   "id": "d1f191a9",
   "metadata": {},
   "outputs": [
    {
     "name": "stdout",
     "output_type": "stream",
     "text": [
      "+-------------------------------+\n",
      "|datediff(current_date(), input)|\n",
      "+-------------------------------+\n",
      "|                            790|\n",
      "|                           1127|\n",
      "|                            396|\n",
      "+-------------------------------+\n",
      "\n"
     ]
    }
   ],
   "source": [
    "df.select(f.datediff(f.current_date(),\"input\")).show()   #difference in date #month_between()"
   ]
  },
  {
   "cell_type": "code",
   "execution_count": 141,
   "id": "a26be8d6",
   "metadata": {},
   "outputs": [
    {
     "name": "stdout",
     "output_type": "stream",
     "text": [
      "+----------+----------+----------+----------+----------+\n",
      "|     input|add_months|sub_months|  date_add|  date_sub|\n",
      "+----------+----------+----------+----------+----------+\n",
      "|2020-02-01|2020-05-01|2019-11-01|2020-02-05|2020-01-28|\n",
      "|2019-03-01|2019-06-01|2018-12-01|2019-03-05|2019-02-25|\n",
      "|2021-03-01|2021-06-01|2020-12-01|2021-03-05|2021-02-25|\n",
      "+----------+----------+----------+----------+----------+\n",
      "\n"
     ]
    }
   ],
   "source": [
    "df.select(\"input\", \n",
    "    f.add_months(\"input\",3).alias(\"add_months\"), \n",
    "    f.add_months(\"input\",-3).alias(\"sub_months\"), \n",
    "    f.date_add(\"input\",4).alias(\"date_add\"), \n",
    "    f.date_sub(\"input\",4).alias(\"date_sub\")).show()"
   ]
  },
  {
   "cell_type": "code",
   "execution_count": 136,
   "id": "cf6a47f8",
   "metadata": {},
   "outputs": [
    {
     "name": "stdout",
     "output_type": "stream",
     "text": [
      "+----------+----+-----+----------+----------+\n",
      "|     input|year|month|  next_day|weekofyear|\n",
      "+----------+----+-----+----------+----------+\n",
      "|2020-02-01|2020|    2|2020-02-02|         5|\n",
      "|2019-03-01|2019|    3|2019-03-03|         9|\n",
      "|2021-03-01|2021|    3|2021-03-07|         9|\n",
      "+----------+----+-----+----------+----------+\n",
      "\n"
     ]
    }
   ],
   "source": [
    "df.select(col(\"input\"), \n",
    "     f.year(col(\"input\")).alias(\"year\"), \n",
    "     f.month(col(\"input\")).alias(\"month\"), \n",
    "     f.next_day(col(\"input\"),\"Sunday\").alias(\"next_day\"), \n",
    "     f.weekofyear(col(\"input\")).alias(\"weekofyear\")).show()"
   ]
  },
  {
   "cell_type": "markdown",
   "id": "a2ada48f",
   "metadata": {},
   "source": [
    "## User defined functions"
   ]
  },
  {
   "cell_type": "code",
   "execution_count": 59,
   "id": "9e365715",
   "metadata": {},
   "outputs": [],
   "source": [
    "dfU = df.select(\"*\").limit(10)"
   ]
  },
  {
   "cell_type": "code",
   "execution_count": 60,
   "id": "f84dee7c",
   "metadata": {},
   "outputs": [],
   "source": [
    "def convCase(s):\n",
    "    result = \"\"\n",
    "    for x in s.split(\" \"):\n",
    "        result+=x[0].lower() + x[1:] + \" \"\n",
    "    return result.strip()\n",
    "\n",
    "p = convCase(\"Shashank Ajgaonkar\")"
   ]
  },
  {
   "cell_type": "code",
   "execution_count": 61,
   "id": "fdf6ae31",
   "metadata": {},
   "outputs": [],
   "source": [
    "\"\"\" Converting function to UDF \"\"\"\n",
    "convertUDF = f.udf(lambda z: convCase(z),StringType())"
   ]
  },
  {
   "cell_type": "code",
   "execution_count": 62,
   "id": "bd0138a6",
   "metadata": {},
   "outputs": [
    {
     "name": "stdout",
     "output_type": "stream",
     "text": [
      "+------+-----------------+\n",
      "|    ID|    Inverted name|\n",
      "+------+-----------------+\n",
      "|158023|         l. messi|\n",
      "| 20801|cristiano ronaldo|\n",
      "|190871|        neymar jr|\n",
      "|193080|           de gea|\n",
      "|192985|     k. de bruyne|\n",
      "|183277|        e. hazard|\n",
      "|177003|        l. modrić|\n",
      "|176580|        l. suárez|\n",
      "|155862|     sergio ramos|\n",
      "|200389|         j. oblak|\n",
      "+------+-----------------+\n",
      "\n"
     ]
    },
    {
     "name": "stderr",
     "output_type": "stream",
     "text": [
      "\r",
      "[Stage 87:>                                                         (0 + 1) / 1]\r",
      "\r",
      "                                                                                \r"
     ]
    }
   ],
   "source": [
    "dfU.select(\"ID\",convertUDF(\"Name\").alias(\"Inverted name\")).show()"
   ]
  },
  {
   "cell_type": "code",
   "execution_count": 159,
   "id": "3ca53596",
   "metadata": {},
   "outputs": [
    {
     "name": "stdout",
     "output_type": "stream",
     "text": [
      "+------+-----------------+\n",
      "|ID    |name             |\n",
      "+------+-----------------+\n",
      "|158023|l. messi         |\n",
      "|20801 |cristiano ronaldo|\n",
      "|190871|neymar jr        |\n",
      "|193080|de gea           |\n",
      "|192985|k. de bruyne     |\n",
      "|183277|e. hazard        |\n",
      "|177003|l. modrić        |\n",
      "|176580|l. suárez        |\n",
      "|155862|sergio ramos     |\n",
      "|200389|j. oblak         |\n",
      "+------+-----------------+\n",
      "\n"
     ]
    }
   ],
   "source": [
    "\"\"\" Using UDF on SQL \"\"\"\n",
    "spark.udf.register(\"convertUDF\", convCase, StringType())\n",
    "dfU.createOrReplaceTempView(\"new_view\")\n",
    "spark.sql(\"select ID, convertUDF(Name) as name from new_view\").show(truncate=False)\n"
   ]
  },
  {
   "cell_type": "markdown",
   "id": "b0870631",
   "metadata": {},
   "source": [
    "## pivot"
   ]
  },
  {
   "cell_type": "code",
   "execution_count": 44,
   "id": "4298a5fc",
   "metadata": {},
   "outputs": [
    {
     "name": "stdout",
     "output_type": "stream",
     "text": [
      "+-------+------+-------+\n",
      "|Product|Amount|Country|\n",
      "+-------+------+-------+\n",
      "| Banana|  1000|    USA|\n",
      "|Carrots|  1500|    USA|\n",
      "|  Beans|  1600|    USA|\n",
      "| Orange|  2000|    USA|\n",
      "| Orange|  2000|    USA|\n",
      "| Banana|   400|  China|\n",
      "|Carrots|  1200|  China|\n",
      "|  Beans|  1500|  China|\n",
      "| Orange|  4000|  China|\n",
      "| Banana|  2000| Canada|\n",
      "|Carrots|  2000| Canada|\n",
      "|  Beans|  2000| Mexico|\n",
      "+-------+------+-------+\n",
      "\n"
     ]
    }
   ],
   "source": [
    "## used to transform rows to columns\n",
    "data = [(\"Banana\",1000,\"USA\"), (\"Carrots\",1500,\"USA\"), (\"Beans\",1600,\"USA\"),\n",
    "      (\"Orange\",2000,\"USA\"),(\"Orange\",2000,\"USA\"),(\"Banana\",400,\"China\"),\n",
    "      (\"Carrots\",1200,\"China\"),(\"Beans\",1500,\"China\"),(\"Orange\",4000,\"China\"),\n",
    "      (\"Banana\",2000,\"Canada\"),(\"Carrots\",2000,\"Canada\"),(\"Beans\",2000,\"Mexico\")]\n",
    "\n",
    "columns = [\"Product\",\"Amount\",\"Country\"]\n",
    "dfP = spark.createDataFrame(data = data, schema = columns)\n",
    "dfP.show()"
   ]
  },
  {
   "cell_type": "code",
   "execution_count": 46,
   "id": "4cd62628",
   "metadata": {},
   "outputs": [
    {
     "name": "stdout",
     "output_type": "stream",
     "text": [
      "+-------+------+-----+-------+------+\n",
      "|Country|Banana|Beans|Carrots|Orange|\n",
      "+-------+------+-----+-------+------+\n",
      "|  China|   400| 1500|   1200|  4000|\n",
      "|    USA|  1000| 1600|   1500|  4000|\n",
      "| Mexico|  null| 2000|   null|  null|\n",
      "| Canada|  2000| null|   2000|  null|\n",
      "+-------+------+-----+-------+------+\n",
      "\n"
     ]
    }
   ],
   "source": [
    "pivotDF = dfP.groupBy(\"Country\").pivot(\"Product\").sum(\"Amount\")\n",
    "pivotDF.show()"
   ]
  },
  {
   "cell_type": "code",
   "execution_count": 165,
   "id": "d3b8f41e",
   "metadata": {},
   "outputs": [
    {
     "name": "stdout",
     "output_type": "stream",
     "text": [
      "+-------+-------+-----------+\n",
      "|Product|Country|sum(Amount)|\n",
      "+-------+-------+-----------+\n",
      "| Banana| Canada|       2000|\n",
      "| Banana|  China|        400|\n",
      "| Banana|    USA|       1000|\n",
      "|  Beans|    USA|       1600|\n",
      "|  Beans| Mexico|       2000|\n",
      "|  Beans|  China|       1500|\n",
      "|Carrots| Canada|       2000|\n",
      "|Carrots|    USA|       1500|\n",
      "|Carrots|  China|       1200|\n",
      "| Orange|    USA|       4000|\n",
      "| Orange|  China|       4000|\n",
      "+-------+-------+-----------+\n",
      "\n"
     ]
    }
   ],
   "source": [
    "df.groupBy(\"Product\",\"Country\").sum(\"Amount\").orderBy(\"Product\").show()"
   ]
  },
  {
   "cell_type": "markdown",
   "id": "c46305c2",
   "metadata": {},
   "source": [
    "## snowflake connection"
   ]
  },
  {
   "cell_type": "code",
   "execution_count": 47,
   "id": "70cdff57",
   "metadata": {},
   "outputs": [],
   "source": [
    "import snowflake.connector as conn"
   ]
  },
  {
   "cell_type": "code",
   "execution_count": 48,
   "id": "4e34a714",
   "metadata": {},
   "outputs": [],
   "source": [
    "snowflake_conn = conn.connect(account=\"jv04488.southeast-asia.azure\",user=\"snow\",\\\n",
    "                             password=\"#definePASS2\",warehouse=\"COMPUTE_WH\",role=\"ACCOUNTADMIN\")"
   ]
  },
  {
   "cell_type": "code",
   "execution_count": 50,
   "id": "8daf0d31",
   "metadata": {},
   "outputs": [],
   "source": [
    "cur = snowflake_conn.cursor()"
   ]
  },
  {
   "cell_type": "code",
   "execution_count": 51,
   "id": "086818ea",
   "metadata": {},
   "outputs": [
    {
     "data": {
      "text/plain": [
       "<snowflake.connector.cursor.SnowflakeCursor at 0x7fe3e08a2d90>"
      ]
     },
     "execution_count": 51,
     "metadata": {},
     "output_type": "execute_result"
    }
   ],
   "source": [
    "cur.execute(\"use database citibike;\")"
   ]
  },
  {
   "cell_type": "code",
   "execution_count": 52,
   "id": "0c04bd27",
   "metadata": {},
   "outputs": [
    {
     "data": {
      "text/plain": [
       "<snowflake.connector.cursor.SnowflakeCursor at 0x7fe3e08a2d90>"
      ]
     },
     "execution_count": 52,
     "metadata": {},
     "output_type": "execute_result"
    }
   ],
   "source": [
    "cur.execute(\"select * from citibike.public.players_tbstage limit 10;\")"
   ]
  },
  {
   "cell_type": "code",
   "execution_count": 53,
   "id": "0bfa9740",
   "metadata": {},
   "outputs": [
    {
     "name": "stdout",
     "output_type": "stream",
     "text": [
      "[(243718, 'R. Koot', 18, 'Netherlands', 56, 'Fortuna Sittard', '120000', 'Jul 1, 2016'), (237575, 'J. Pourtau', 18, 'Argentina', 56, 'Estudiantes de La Plata', '150000', 'Jan 1, 2017'), (238343, 'D. Mushitu', 18, 'Sweden', 56, 'AIK', '190000', 'Jul 1, 2016'), (237321, 'M. Berisha', 20, 'Kosovo', 56, '1. FC Magdeburg', '200000', None), (237833, 'M. Harris', 19, 'Wales', 56, 'Newport County', '200000', None), (241418, 'Gao Tianyi', 20, 'China PR', 56, 'Jiangsu Suning FC', '130000', 'Feb 13, 2017'), (231179, 'J. Al Dossary', 24, 'Saudi Arabia', 56, 'Al Faisaly', '100000', 'Jul 8, 2017'), (246283, 'L. Seydoux', 20, 'Switzerland', 56, 'BSC Young Boys', '140000', 'Sep 26, 2018'), (239629, 'A. Medina', 20, 'Mexico', 56, 'Deportivo Toluca', '200000', 'Jul 11, 2014'), (231182, \"O. O'Dwyer\", 20, 'England', 56, 'Crystal Palace', '160000', 'Jul 1, 2015')]\n"
     ]
    },
    {
     "name": "stderr",
     "output_type": "stream",
     "text": [
      "22/04/18 18:10:04 WARN HeartbeatReceiver: Removing executor driver with no recent heartbeats: 676050 ms exceeds timeout 120000 ms\n",
      "22/04/18 18:10:06 WARN SparkContext: Killing executors is not supported by current scheduler.\n"
     ]
    }
   ],
   "source": [
    "print(cur.fetchall())"
   ]
  },
  {
   "cell_type": "code",
   "execution_count": 20,
   "id": "2e02a152",
   "metadata": {},
   "outputs": [
    {
     "name": "stdout",
     "output_type": "stream",
     "text": [
      "[(243718, 'R. Koot', 18, 'Netherlands', 56, 'Fortuna Sittard', '120000', 'Jul 1, 2016'), (237575, 'J. Pourtau', 18, 'Argentina', 56, 'Estudiantes de La Plata', '150000', 'Jan 1, 2017'), (238343, 'D. Mushitu', 18, 'Sweden', 56, 'AIK', '190000', 'Jul 1, 2016'), (237321, 'M. Berisha', 20, 'Kosovo', 56, '1. FC Magdeburg', '200000', None), (237833, 'M. Harris', 19, 'Wales', 56, 'Newport County', '200000', None), (241418, 'Gao Tianyi', 20, 'China PR', 56, 'Jiangsu Suning FC', '130000', 'Feb 13, 2017'), (231179, 'J. Al Dossary', 24, 'Saudi Arabia', 56, 'Al Faisaly', '100000', 'Jul 8, 2017'), (246283, 'L. Seydoux', 20, 'Switzerland', 56, 'BSC Young Boys', '140000', 'Sep 26, 2018'), (239629, 'A. Medina', 20, 'Mexico', 56, 'Deportivo Toluca', '200000', 'Jul 11, 2014'), (231182, \"O. O'Dwyer\", 20, 'England', 56, 'Crystal Palace', '160000', 'Jul 1, 2015')]\n"
     ]
    }
   ],
   "source": [
    "# query data using queryID\n",
    "queryId = cur.sfqid\n",
    "cur.get_results_from_sfqid(queryId)  \n",
    "print(cur.fetchall())"
   ]
  },
  {
   "cell_type": "code",
   "execution_count": 22,
   "id": "07113fe6",
   "metadata": {},
   "outputs": [
    {
     "name": "stdout",
     "output_type": "stream",
     "text": [
      "[]\n"
     ]
    }
   ],
   "source": [
    "print(cur.fetchall())"
   ]
  },
  {
   "cell_type": "code",
   "execution_count": 224,
   "id": "7ea64feb",
   "metadata": {},
   "outputs": [],
   "source": [
    "spark2 = SparkSession.builder.master(\"local[4]\").config(\"spark.jars\",\"file:///home/shashank/Downloads/snowflake-jdbc-3.13.16.jar\").getOrCreate()"
   ]
  },
  {
   "cell_type": "code",
   "execution_count": 262,
   "id": "344f5dae",
   "metadata": {},
   "outputs": [],
   "source": [
    "## writing data to snowflake table\n",
    "\n",
    "    sfOptions = {\n",
    "     \"sfURL\" : \"https://ty57285.southeast-asia.azure.snowflakecomputing.com\",\n",
    "     \"sfAccount\" : \"ty57285\",\n",
    "     \"sfUser\" : \"shashank\",\n",
    "     \"sfPassword\" : \"#definePASS2\",\n",
    "     \"sfDatabase\" : \"CITIBIKE\",\n",
    "     \"sfSchema\" : \"public\",\n",
    "     \"sfWarehouse\" : \"compute_wh\",\n",
    "     \"sfRole\" : \"ACCOUNTADMIN\",\n",
    "    }\n",
    "\n",
    "SNOWFLAKE_SOURCE_NAME = \"net.snowflake.spark.snowflake\""
   ]
  },
  {
   "cell_type": "code",
   "execution_count": 263,
   "id": "7f9b5bca",
   "metadata": {
    "collapsed": true
   },
   "outputs": [
    {
     "ename": "Py4JJavaError",
     "evalue": "An error occurred while calling o1861.save.\n: java.lang.ClassNotFoundException: \nFailed to find data source: net.snowflake.spark.snowflake. Please find packages at\nhttp://spark.apache.org/third-party-projects.html\n       \n\tat org.apache.spark.sql.errors.QueryExecutionErrors$.failedToFindDataSourceError(QueryExecutionErrors.scala:443)\n\tat org.apache.spark.sql.execution.datasources.DataSource$.lookupDataSource(DataSource.scala:670)\n\tat org.apache.spark.sql.execution.datasources.DataSource$.lookupDataSourceV2(DataSource.scala:720)\n\tat org.apache.spark.sql.DataFrameWriter.lookupV2Provider(DataFrameWriter.scala:852)\n\tat org.apache.spark.sql.DataFrameWriter.saveInternal(DataFrameWriter.scala:256)\n\tat org.apache.spark.sql.DataFrameWriter.save(DataFrameWriter.scala:247)\n\tat java.base/jdk.internal.reflect.NativeMethodAccessorImpl.invoke0(Native Method)\n\tat java.base/jdk.internal.reflect.NativeMethodAccessorImpl.invoke(NativeMethodAccessorImpl.java:62)\n\tat java.base/jdk.internal.reflect.DelegatingMethodAccessorImpl.invoke(DelegatingMethodAccessorImpl.java:43)\n\tat java.base/java.lang.reflect.Method.invoke(Method.java:566)\n\tat py4j.reflection.MethodInvoker.invoke(MethodInvoker.java:244)\n\tat py4j.reflection.ReflectionEngine.invoke(ReflectionEngine.java:357)\n\tat py4j.Gateway.invoke(Gateway.java:282)\n\tat py4j.commands.AbstractCommand.invokeMethod(AbstractCommand.java:132)\n\tat py4j.commands.CallCommand.execute(CallCommand.java:79)\n\tat py4j.ClientServerConnection.waitForCommands(ClientServerConnection.java:182)\n\tat py4j.ClientServerConnection.run(ClientServerConnection.java:106)\n\tat java.base/java.lang.Thread.run(Thread.java:829)\nCaused by: java.lang.ClassNotFoundException: net.snowflake.spark.snowflake.DefaultSource\n\tat java.base/java.net.URLClassLoader.findClass(URLClassLoader.java:476)\n\tat java.base/java.lang.ClassLoader.loadClass(ClassLoader.java:589)\n\tat java.base/java.lang.ClassLoader.loadClass(ClassLoader.java:522)\n\tat org.apache.spark.sql.execution.datasources.DataSource$.$anonfun$lookupDataSource$5(DataSource.scala:656)\n\tat scala.util.Try$.apply(Try.scala:213)\n\tat org.apache.spark.sql.execution.datasources.DataSource$.$anonfun$lookupDataSource$4(DataSource.scala:656)\n\tat scala.util.Failure.orElse(Try.scala:224)\n\tat org.apache.spark.sql.execution.datasources.DataSource$.lookupDataSource(DataSource.scala:656)\n\t... 16 more\n",
     "output_type": "error",
     "traceback": [
      "\u001b[0;31m---------------------------------------------------------------------------\u001b[0m",
      "\u001b[0;31mPy4JJavaError\u001b[0m                             Traceback (most recent call last)",
      "\u001b[0;32m/tmp/ipykernel_5467/214752299.py\u001b[0m in \u001b[0;36m<module>\u001b[0;34m\u001b[0m\n\u001b[0;32m----> 1\u001b[0;31m \u001b[0mdf\u001b[0m\u001b[0;34m.\u001b[0m\u001b[0mwrite\u001b[0m\u001b[0;34m.\u001b[0m\u001b[0mformat\u001b[0m\u001b[0;34m(\u001b[0m\u001b[0mSNOWFLAKE_SOURCE_NAME\u001b[0m\u001b[0;34m)\u001b[0m\u001b[0;34m.\u001b[0m\u001b[0moptions\u001b[0m\u001b[0;34m(\u001b[0m\u001b[0;34m**\u001b[0m\u001b[0msfOptions\u001b[0m\u001b[0;34m)\u001b[0m\u001b[0;34m.\u001b[0m\u001b[0moption\u001b[0m\u001b[0;34m(\u001b[0m\u001b[0;34m\"dbtable\"\u001b[0m\u001b[0;34m,\u001b[0m \u001b[0;34m\"players\"\u001b[0m\u001b[0;34m)\u001b[0m\u001b[0;34m.\u001b[0m\u001b[0mmode\u001b[0m\u001b[0;34m(\u001b[0m\u001b[0;34m\"append\"\u001b[0m\u001b[0;34m)\u001b[0m\u001b[0;34m.\u001b[0m\u001b[0moptions\u001b[0m\u001b[0;34m(\u001b[0m\u001b[0mheader\u001b[0m\u001b[0;34m=\u001b[0m\u001b[0;32mTrue\u001b[0m\u001b[0;34m)\u001b[0m\u001b[0;34m.\u001b[0m\u001b[0msave\u001b[0m\u001b[0;34m(\u001b[0m\u001b[0;34m)\u001b[0m\u001b[0;34m\u001b[0m\u001b[0;34m\u001b[0m\u001b[0m\n\u001b[0m",
      "\u001b[0;32m~/env/lib/python3.8/site-packages/pyspark/sql/readwriter.py\u001b[0m in \u001b[0;36msave\u001b[0;34m(self, path, format, mode, partitionBy, **options)\u001b[0m\n\u001b[1;32m    736\u001b[0m             \u001b[0mself\u001b[0m\u001b[0;34m.\u001b[0m\u001b[0mformat\u001b[0m\u001b[0;34m(\u001b[0m\u001b[0mformat\u001b[0m\u001b[0;34m)\u001b[0m\u001b[0;34m\u001b[0m\u001b[0;34m\u001b[0m\u001b[0m\n\u001b[1;32m    737\u001b[0m         \u001b[0;32mif\u001b[0m \u001b[0mpath\u001b[0m \u001b[0;32mis\u001b[0m \u001b[0;32mNone\u001b[0m\u001b[0;34m:\u001b[0m\u001b[0;34m\u001b[0m\u001b[0;34m\u001b[0m\u001b[0m\n\u001b[0;32m--> 738\u001b[0;31m             \u001b[0mself\u001b[0m\u001b[0;34m.\u001b[0m\u001b[0m_jwrite\u001b[0m\u001b[0;34m.\u001b[0m\u001b[0msave\u001b[0m\u001b[0;34m(\u001b[0m\u001b[0;34m)\u001b[0m\u001b[0;34m\u001b[0m\u001b[0;34m\u001b[0m\u001b[0m\n\u001b[0m\u001b[1;32m    739\u001b[0m         \u001b[0;32melse\u001b[0m\u001b[0;34m:\u001b[0m\u001b[0;34m\u001b[0m\u001b[0;34m\u001b[0m\u001b[0m\n\u001b[1;32m    740\u001b[0m             \u001b[0mself\u001b[0m\u001b[0;34m.\u001b[0m\u001b[0m_jwrite\u001b[0m\u001b[0;34m.\u001b[0m\u001b[0msave\u001b[0m\u001b[0;34m(\u001b[0m\u001b[0mpath\u001b[0m\u001b[0;34m)\u001b[0m\u001b[0;34m\u001b[0m\u001b[0;34m\u001b[0m\u001b[0m\n",
      "\u001b[0;32m~/env/lib/python3.8/site-packages/py4j/java_gateway.py\u001b[0m in \u001b[0;36m__call__\u001b[0;34m(self, *args)\u001b[0m\n\u001b[1;32m   1319\u001b[0m \u001b[0;34m\u001b[0m\u001b[0m\n\u001b[1;32m   1320\u001b[0m         \u001b[0manswer\u001b[0m \u001b[0;34m=\u001b[0m \u001b[0mself\u001b[0m\u001b[0;34m.\u001b[0m\u001b[0mgateway_client\u001b[0m\u001b[0;34m.\u001b[0m\u001b[0msend_command\u001b[0m\u001b[0;34m(\u001b[0m\u001b[0mcommand\u001b[0m\u001b[0;34m)\u001b[0m\u001b[0;34m\u001b[0m\u001b[0;34m\u001b[0m\u001b[0m\n\u001b[0;32m-> 1321\u001b[0;31m         return_value = get_return_value(\n\u001b[0m\u001b[1;32m   1322\u001b[0m             answer, self.gateway_client, self.target_id, self.name)\n\u001b[1;32m   1323\u001b[0m \u001b[0;34m\u001b[0m\u001b[0m\n",
      "\u001b[0;32m~/env/lib/python3.8/site-packages/pyspark/sql/utils.py\u001b[0m in \u001b[0;36mdeco\u001b[0;34m(*a, **kw)\u001b[0m\n\u001b[1;32m    109\u001b[0m     \u001b[0;32mdef\u001b[0m \u001b[0mdeco\u001b[0m\u001b[0;34m(\u001b[0m\u001b[0;34m*\u001b[0m\u001b[0ma\u001b[0m\u001b[0;34m,\u001b[0m \u001b[0;34m**\u001b[0m\u001b[0mkw\u001b[0m\u001b[0;34m)\u001b[0m\u001b[0;34m:\u001b[0m\u001b[0;34m\u001b[0m\u001b[0;34m\u001b[0m\u001b[0m\n\u001b[1;32m    110\u001b[0m         \u001b[0;32mtry\u001b[0m\u001b[0;34m:\u001b[0m\u001b[0;34m\u001b[0m\u001b[0;34m\u001b[0m\u001b[0m\n\u001b[0;32m--> 111\u001b[0;31m             \u001b[0;32mreturn\u001b[0m \u001b[0mf\u001b[0m\u001b[0;34m(\u001b[0m\u001b[0;34m*\u001b[0m\u001b[0ma\u001b[0m\u001b[0;34m,\u001b[0m \u001b[0;34m**\u001b[0m\u001b[0mkw\u001b[0m\u001b[0;34m)\u001b[0m\u001b[0;34m\u001b[0m\u001b[0;34m\u001b[0m\u001b[0m\n\u001b[0m\u001b[1;32m    112\u001b[0m         \u001b[0;32mexcept\u001b[0m \u001b[0mpy4j\u001b[0m\u001b[0;34m.\u001b[0m\u001b[0mprotocol\u001b[0m\u001b[0;34m.\u001b[0m\u001b[0mPy4JJavaError\u001b[0m \u001b[0;32mas\u001b[0m \u001b[0me\u001b[0m\u001b[0;34m:\u001b[0m\u001b[0;34m\u001b[0m\u001b[0;34m\u001b[0m\u001b[0m\n\u001b[1;32m    113\u001b[0m             \u001b[0mconverted\u001b[0m \u001b[0;34m=\u001b[0m \u001b[0mconvert_exception\u001b[0m\u001b[0;34m(\u001b[0m\u001b[0me\u001b[0m\u001b[0;34m.\u001b[0m\u001b[0mjava_exception\u001b[0m\u001b[0;34m)\u001b[0m\u001b[0;34m\u001b[0m\u001b[0;34m\u001b[0m\u001b[0m\n",
      "\u001b[0;32m~/env/lib/python3.8/site-packages/py4j/protocol.py\u001b[0m in \u001b[0;36mget_return_value\u001b[0;34m(answer, gateway_client, target_id, name)\u001b[0m\n\u001b[1;32m    324\u001b[0m             \u001b[0mvalue\u001b[0m \u001b[0;34m=\u001b[0m \u001b[0mOUTPUT_CONVERTER\u001b[0m\u001b[0;34m[\u001b[0m\u001b[0mtype\u001b[0m\u001b[0;34m]\u001b[0m\u001b[0;34m(\u001b[0m\u001b[0manswer\u001b[0m\u001b[0;34m[\u001b[0m\u001b[0;36m2\u001b[0m\u001b[0;34m:\u001b[0m\u001b[0;34m]\u001b[0m\u001b[0;34m,\u001b[0m \u001b[0mgateway_client\u001b[0m\u001b[0;34m)\u001b[0m\u001b[0;34m\u001b[0m\u001b[0;34m\u001b[0m\u001b[0m\n\u001b[1;32m    325\u001b[0m             \u001b[0;32mif\u001b[0m \u001b[0manswer\u001b[0m\u001b[0;34m[\u001b[0m\u001b[0;36m1\u001b[0m\u001b[0;34m]\u001b[0m \u001b[0;34m==\u001b[0m \u001b[0mREFERENCE_TYPE\u001b[0m\u001b[0;34m:\u001b[0m\u001b[0;34m\u001b[0m\u001b[0;34m\u001b[0m\u001b[0m\n\u001b[0;32m--> 326\u001b[0;31m                 raise Py4JJavaError(\n\u001b[0m\u001b[1;32m    327\u001b[0m                     \u001b[0;34m\"An error occurred while calling {0}{1}{2}.\\n\"\u001b[0m\u001b[0;34m.\u001b[0m\u001b[0;34m\u001b[0m\u001b[0;34m\u001b[0m\u001b[0m\n\u001b[1;32m    328\u001b[0m                     format(target_id, \".\", name), value)\n",
      "\u001b[0;31mPy4JJavaError\u001b[0m: An error occurred while calling o1861.save.\n: java.lang.ClassNotFoundException: \nFailed to find data source: net.snowflake.spark.snowflake. Please find packages at\nhttp://spark.apache.org/third-party-projects.html\n       \n\tat org.apache.spark.sql.errors.QueryExecutionErrors$.failedToFindDataSourceError(QueryExecutionErrors.scala:443)\n\tat org.apache.spark.sql.execution.datasources.DataSource$.lookupDataSource(DataSource.scala:670)\n\tat org.apache.spark.sql.execution.datasources.DataSource$.lookupDataSourceV2(DataSource.scala:720)\n\tat org.apache.spark.sql.DataFrameWriter.lookupV2Provider(DataFrameWriter.scala:852)\n\tat org.apache.spark.sql.DataFrameWriter.saveInternal(DataFrameWriter.scala:256)\n\tat org.apache.spark.sql.DataFrameWriter.save(DataFrameWriter.scala:247)\n\tat java.base/jdk.internal.reflect.NativeMethodAccessorImpl.invoke0(Native Method)\n\tat java.base/jdk.internal.reflect.NativeMethodAccessorImpl.invoke(NativeMethodAccessorImpl.java:62)\n\tat java.base/jdk.internal.reflect.DelegatingMethodAccessorImpl.invoke(DelegatingMethodAccessorImpl.java:43)\n\tat java.base/java.lang.reflect.Method.invoke(Method.java:566)\n\tat py4j.reflection.MethodInvoker.invoke(MethodInvoker.java:244)\n\tat py4j.reflection.ReflectionEngine.invoke(ReflectionEngine.java:357)\n\tat py4j.Gateway.invoke(Gateway.java:282)\n\tat py4j.commands.AbstractCommand.invokeMethod(AbstractCommand.java:132)\n\tat py4j.commands.CallCommand.execute(CallCommand.java:79)\n\tat py4j.ClientServerConnection.waitForCommands(ClientServerConnection.java:182)\n\tat py4j.ClientServerConnection.run(ClientServerConnection.java:106)\n\tat java.base/java.lang.Thread.run(Thread.java:829)\nCaused by: java.lang.ClassNotFoundException: net.snowflake.spark.snowflake.DefaultSource\n\tat java.base/java.net.URLClassLoader.findClass(URLClassLoader.java:476)\n\tat java.base/java.lang.ClassLoader.loadClass(ClassLoader.java:589)\n\tat java.base/java.lang.ClassLoader.loadClass(ClassLoader.java:522)\n\tat org.apache.spark.sql.execution.datasources.DataSource$.$anonfun$lookupDataSource$5(DataSource.scala:656)\n\tat scala.util.Try$.apply(Try.scala:213)\n\tat org.apache.spark.sql.execution.datasources.DataSource$.$anonfun$lookupDataSource$4(DataSource.scala:656)\n\tat scala.util.Failure.orElse(Try.scala:224)\n\tat org.apache.spark.sql.execution.datasources.DataSource$.lookupDataSource(DataSource.scala:656)\n\t... 16 more\n"
     ]
    }
   ],
   "source": [
    "df.write.format(SNOWFLAKE_SOURCE_NAME).options(**sfOptions).option(\"dbtable\", \"players\").mode(\"append\").options(header=True).save()"
   ]
  },
  {
   "cell_type": "code",
   "execution_count": 264,
   "id": "36947974",
   "metadata": {
    "collapsed": true
   },
   "outputs": [
    {
     "ename": "Py4JJavaError",
     "evalue": "An error occurred while calling o1874.load.\n: java.lang.ClassNotFoundException: \nFailed to find data source: net.snowflake.spark.snowflake. Please find packages at\nhttp://spark.apache.org/third-party-projects.html\n       \n\tat org.apache.spark.sql.errors.QueryExecutionErrors$.failedToFindDataSourceError(QueryExecutionErrors.scala:443)\n\tat org.apache.spark.sql.execution.datasources.DataSource$.lookupDataSource(DataSource.scala:670)\n\tat org.apache.spark.sql.execution.datasources.DataSource$.lookupDataSourceV2(DataSource.scala:720)\n\tat org.apache.spark.sql.DataFrameReader.load(DataFrameReader.scala:210)\n\tat org.apache.spark.sql.DataFrameReader.load(DataFrameReader.scala:174)\n\tat java.base/jdk.internal.reflect.NativeMethodAccessorImpl.invoke0(Native Method)\n\tat java.base/jdk.internal.reflect.NativeMethodAccessorImpl.invoke(NativeMethodAccessorImpl.java:62)\n\tat java.base/jdk.internal.reflect.DelegatingMethodAccessorImpl.invoke(DelegatingMethodAccessorImpl.java:43)\n\tat java.base/java.lang.reflect.Method.invoke(Method.java:566)\n\tat py4j.reflection.MethodInvoker.invoke(MethodInvoker.java:244)\n\tat py4j.reflection.ReflectionEngine.invoke(ReflectionEngine.java:357)\n\tat py4j.Gateway.invoke(Gateway.java:282)\n\tat py4j.commands.AbstractCommand.invokeMethod(AbstractCommand.java:132)\n\tat py4j.commands.CallCommand.execute(CallCommand.java:79)\n\tat py4j.ClientServerConnection.waitForCommands(ClientServerConnection.java:182)\n\tat py4j.ClientServerConnection.run(ClientServerConnection.java:106)\n\tat java.base/java.lang.Thread.run(Thread.java:829)\nCaused by: java.lang.ClassNotFoundException: net.snowflake.spark.snowflake.DefaultSource\n\tat java.base/java.net.URLClassLoader.findClass(URLClassLoader.java:476)\n\tat java.base/java.lang.ClassLoader.loadClass(ClassLoader.java:589)\n\tat java.base/java.lang.ClassLoader.loadClass(ClassLoader.java:522)\n\tat org.apache.spark.sql.execution.datasources.DataSource$.$anonfun$lookupDataSource$5(DataSource.scala:656)\n\tat scala.util.Try$.apply(Try.scala:213)\n\tat org.apache.spark.sql.execution.datasources.DataSource$.$anonfun$lookupDataSource$4(DataSource.scala:656)\n\tat scala.util.Failure.orElse(Try.scala:224)\n\tat org.apache.spark.sql.execution.datasources.DataSource$.lookupDataSource(DataSource.scala:656)\n\t... 15 more\n",
     "output_type": "error",
     "traceback": [
      "\u001b[0;31m---------------------------------------------------------------------------\u001b[0m",
      "\u001b[0;31mPy4JJavaError\u001b[0m                             Traceback (most recent call last)",
      "\u001b[0;32m/tmp/ipykernel_5467/1450142145.py\u001b[0m in \u001b[0;36m<module>\u001b[0;34m\u001b[0m\n\u001b[0;32m----> 1\u001b[0;31m \u001b[0msdf\u001b[0m \u001b[0;34m=\u001b[0m \u001b[0mspark\u001b[0m\u001b[0;34m.\u001b[0m\u001b[0mread\u001b[0m\u001b[0;34m.\u001b[0m\u001b[0mformat\u001b[0m\u001b[0;34m(\u001b[0m\u001b[0mSNOWFLAKE_SOURCE_NAME\u001b[0m\u001b[0;34m)\u001b[0m\u001b[0;34m.\u001b[0m\u001b[0moptions\u001b[0m\u001b[0;34m(\u001b[0m\u001b[0;34m**\u001b[0m\u001b[0msfOptions\u001b[0m\u001b[0;34m)\u001b[0m\u001b[0;34m.\u001b[0m\u001b[0moption\u001b[0m\u001b[0;34m(\u001b[0m\u001b[0;34m\"dbtable\"\u001b[0m\u001b[0;34m,\u001b[0m \u001b[0;34m\"players\"\u001b[0m\u001b[0;34m)\u001b[0m\u001b[0;34m.\u001b[0m\u001b[0mload\u001b[0m\u001b[0;34m(\u001b[0m\u001b[0;34m)\u001b[0m\u001b[0;34m\u001b[0m\u001b[0;34m\u001b[0m\u001b[0m\n\u001b[0m",
      "\u001b[0;32m~/env/lib/python3.8/site-packages/pyspark/sql/readwriter.py\u001b[0m in \u001b[0;36mload\u001b[0;34m(self, path, format, schema, **options)\u001b[0m\n\u001b[1;32m    162\u001b[0m             \u001b[0;32mreturn\u001b[0m \u001b[0mself\u001b[0m\u001b[0;34m.\u001b[0m\u001b[0m_df\u001b[0m\u001b[0;34m(\u001b[0m\u001b[0mself\u001b[0m\u001b[0;34m.\u001b[0m\u001b[0m_jreader\u001b[0m\u001b[0;34m.\u001b[0m\u001b[0mload\u001b[0m\u001b[0;34m(\u001b[0m\u001b[0mself\u001b[0m\u001b[0;34m.\u001b[0m\u001b[0m_spark\u001b[0m\u001b[0;34m.\u001b[0m\u001b[0m_sc\u001b[0m\u001b[0;34m.\u001b[0m\u001b[0m_jvm\u001b[0m\u001b[0;34m.\u001b[0m\u001b[0mPythonUtils\u001b[0m\u001b[0;34m.\u001b[0m\u001b[0mtoSeq\u001b[0m\u001b[0;34m(\u001b[0m\u001b[0mpath\u001b[0m\u001b[0;34m)\u001b[0m\u001b[0;34m)\u001b[0m\u001b[0;34m)\u001b[0m\u001b[0;34m\u001b[0m\u001b[0;34m\u001b[0m\u001b[0m\n\u001b[1;32m    163\u001b[0m         \u001b[0;32melse\u001b[0m\u001b[0;34m:\u001b[0m\u001b[0;34m\u001b[0m\u001b[0;34m\u001b[0m\u001b[0m\n\u001b[0;32m--> 164\u001b[0;31m             \u001b[0;32mreturn\u001b[0m \u001b[0mself\u001b[0m\u001b[0;34m.\u001b[0m\u001b[0m_df\u001b[0m\u001b[0;34m(\u001b[0m\u001b[0mself\u001b[0m\u001b[0;34m.\u001b[0m\u001b[0m_jreader\u001b[0m\u001b[0;34m.\u001b[0m\u001b[0mload\u001b[0m\u001b[0;34m(\u001b[0m\u001b[0;34m)\u001b[0m\u001b[0;34m)\u001b[0m\u001b[0;34m\u001b[0m\u001b[0;34m\u001b[0m\u001b[0m\n\u001b[0m\u001b[1;32m    165\u001b[0m \u001b[0;34m\u001b[0m\u001b[0m\n\u001b[1;32m    166\u001b[0m     def json(self, path, schema=None, primitivesAsString=None, prefersDecimal=None,\n",
      "\u001b[0;32m~/env/lib/python3.8/site-packages/py4j/java_gateway.py\u001b[0m in \u001b[0;36m__call__\u001b[0;34m(self, *args)\u001b[0m\n\u001b[1;32m   1319\u001b[0m \u001b[0;34m\u001b[0m\u001b[0m\n\u001b[1;32m   1320\u001b[0m         \u001b[0manswer\u001b[0m \u001b[0;34m=\u001b[0m \u001b[0mself\u001b[0m\u001b[0;34m.\u001b[0m\u001b[0mgateway_client\u001b[0m\u001b[0;34m.\u001b[0m\u001b[0msend_command\u001b[0m\u001b[0;34m(\u001b[0m\u001b[0mcommand\u001b[0m\u001b[0;34m)\u001b[0m\u001b[0;34m\u001b[0m\u001b[0;34m\u001b[0m\u001b[0m\n\u001b[0;32m-> 1321\u001b[0;31m         return_value = get_return_value(\n\u001b[0m\u001b[1;32m   1322\u001b[0m             answer, self.gateway_client, self.target_id, self.name)\n\u001b[1;32m   1323\u001b[0m \u001b[0;34m\u001b[0m\u001b[0m\n",
      "\u001b[0;32m~/env/lib/python3.8/site-packages/pyspark/sql/utils.py\u001b[0m in \u001b[0;36mdeco\u001b[0;34m(*a, **kw)\u001b[0m\n\u001b[1;32m    109\u001b[0m     \u001b[0;32mdef\u001b[0m \u001b[0mdeco\u001b[0m\u001b[0;34m(\u001b[0m\u001b[0;34m*\u001b[0m\u001b[0ma\u001b[0m\u001b[0;34m,\u001b[0m \u001b[0;34m**\u001b[0m\u001b[0mkw\u001b[0m\u001b[0;34m)\u001b[0m\u001b[0;34m:\u001b[0m\u001b[0;34m\u001b[0m\u001b[0;34m\u001b[0m\u001b[0m\n\u001b[1;32m    110\u001b[0m         \u001b[0;32mtry\u001b[0m\u001b[0;34m:\u001b[0m\u001b[0;34m\u001b[0m\u001b[0;34m\u001b[0m\u001b[0m\n\u001b[0;32m--> 111\u001b[0;31m             \u001b[0;32mreturn\u001b[0m \u001b[0mf\u001b[0m\u001b[0;34m(\u001b[0m\u001b[0;34m*\u001b[0m\u001b[0ma\u001b[0m\u001b[0;34m,\u001b[0m \u001b[0;34m**\u001b[0m\u001b[0mkw\u001b[0m\u001b[0;34m)\u001b[0m\u001b[0;34m\u001b[0m\u001b[0;34m\u001b[0m\u001b[0m\n\u001b[0m\u001b[1;32m    112\u001b[0m         \u001b[0;32mexcept\u001b[0m \u001b[0mpy4j\u001b[0m\u001b[0;34m.\u001b[0m\u001b[0mprotocol\u001b[0m\u001b[0;34m.\u001b[0m\u001b[0mPy4JJavaError\u001b[0m \u001b[0;32mas\u001b[0m \u001b[0me\u001b[0m\u001b[0;34m:\u001b[0m\u001b[0;34m\u001b[0m\u001b[0;34m\u001b[0m\u001b[0m\n\u001b[1;32m    113\u001b[0m             \u001b[0mconverted\u001b[0m \u001b[0;34m=\u001b[0m \u001b[0mconvert_exception\u001b[0m\u001b[0;34m(\u001b[0m\u001b[0me\u001b[0m\u001b[0;34m.\u001b[0m\u001b[0mjava_exception\u001b[0m\u001b[0;34m)\u001b[0m\u001b[0;34m\u001b[0m\u001b[0;34m\u001b[0m\u001b[0m\n",
      "\u001b[0;32m~/env/lib/python3.8/site-packages/py4j/protocol.py\u001b[0m in \u001b[0;36mget_return_value\u001b[0;34m(answer, gateway_client, target_id, name)\u001b[0m\n\u001b[1;32m    324\u001b[0m             \u001b[0mvalue\u001b[0m \u001b[0;34m=\u001b[0m \u001b[0mOUTPUT_CONVERTER\u001b[0m\u001b[0;34m[\u001b[0m\u001b[0mtype\u001b[0m\u001b[0;34m]\u001b[0m\u001b[0;34m(\u001b[0m\u001b[0manswer\u001b[0m\u001b[0;34m[\u001b[0m\u001b[0;36m2\u001b[0m\u001b[0;34m:\u001b[0m\u001b[0;34m]\u001b[0m\u001b[0;34m,\u001b[0m \u001b[0mgateway_client\u001b[0m\u001b[0;34m)\u001b[0m\u001b[0;34m\u001b[0m\u001b[0;34m\u001b[0m\u001b[0m\n\u001b[1;32m    325\u001b[0m             \u001b[0;32mif\u001b[0m \u001b[0manswer\u001b[0m\u001b[0;34m[\u001b[0m\u001b[0;36m1\u001b[0m\u001b[0;34m]\u001b[0m \u001b[0;34m==\u001b[0m \u001b[0mREFERENCE_TYPE\u001b[0m\u001b[0;34m:\u001b[0m\u001b[0;34m\u001b[0m\u001b[0;34m\u001b[0m\u001b[0m\n\u001b[0;32m--> 326\u001b[0;31m                 raise Py4JJavaError(\n\u001b[0m\u001b[1;32m    327\u001b[0m                     \u001b[0;34m\"An error occurred while calling {0}{1}{2}.\\n\"\u001b[0m\u001b[0;34m.\u001b[0m\u001b[0;34m\u001b[0m\u001b[0;34m\u001b[0m\u001b[0m\n\u001b[1;32m    328\u001b[0m                     format(target_id, \".\", name), value)\n",
      "\u001b[0;31mPy4JJavaError\u001b[0m: An error occurred while calling o1874.load.\n: java.lang.ClassNotFoundException: \nFailed to find data source: net.snowflake.spark.snowflake. Please find packages at\nhttp://spark.apache.org/third-party-projects.html\n       \n\tat org.apache.spark.sql.errors.QueryExecutionErrors$.failedToFindDataSourceError(QueryExecutionErrors.scala:443)\n\tat org.apache.spark.sql.execution.datasources.DataSource$.lookupDataSource(DataSource.scala:670)\n\tat org.apache.spark.sql.execution.datasources.DataSource$.lookupDataSourceV2(DataSource.scala:720)\n\tat org.apache.spark.sql.DataFrameReader.load(DataFrameReader.scala:210)\n\tat org.apache.spark.sql.DataFrameReader.load(DataFrameReader.scala:174)\n\tat java.base/jdk.internal.reflect.NativeMethodAccessorImpl.invoke0(Native Method)\n\tat java.base/jdk.internal.reflect.NativeMethodAccessorImpl.invoke(NativeMethodAccessorImpl.java:62)\n\tat java.base/jdk.internal.reflect.DelegatingMethodAccessorImpl.invoke(DelegatingMethodAccessorImpl.java:43)\n\tat java.base/java.lang.reflect.Method.invoke(Method.java:566)\n\tat py4j.reflection.MethodInvoker.invoke(MethodInvoker.java:244)\n\tat py4j.reflection.ReflectionEngine.invoke(ReflectionEngine.java:357)\n\tat py4j.Gateway.invoke(Gateway.java:282)\n\tat py4j.commands.AbstractCommand.invokeMethod(AbstractCommand.java:132)\n\tat py4j.commands.CallCommand.execute(CallCommand.java:79)\n\tat py4j.ClientServerConnection.waitForCommands(ClientServerConnection.java:182)\n\tat py4j.ClientServerConnection.run(ClientServerConnection.java:106)\n\tat java.base/java.lang.Thread.run(Thread.java:829)\nCaused by: java.lang.ClassNotFoundException: net.snowflake.spark.snowflake.DefaultSource\n\tat java.base/java.net.URLClassLoader.findClass(URLClassLoader.java:476)\n\tat java.base/java.lang.ClassLoader.loadClass(ClassLoader.java:589)\n\tat java.base/java.lang.ClassLoader.loadClass(ClassLoader.java:522)\n\tat org.apache.spark.sql.execution.datasources.DataSource$.$anonfun$lookupDataSource$5(DataSource.scala:656)\n\tat scala.util.Try$.apply(Try.scala:213)\n\tat org.apache.spark.sql.execution.datasources.DataSource$.$anonfun$lookupDataSource$4(DataSource.scala:656)\n\tat scala.util.Failure.orElse(Try.scala:224)\n\tat org.apache.spark.sql.execution.datasources.DataSource$.lookupDataSource(DataSource.scala:656)\n\t... 15 more\n"
     ]
    }
   ],
   "source": [
    "sdf = spark.read.format(SNOWFLAKE_SOURCE_NAME).options(**sfOptions).option(\"dbtable\", \"players\").load()"
   ]
  },
  {
   "cell_type": "code",
   "execution_count": null,
   "id": "733f65f1",
   "metadata": {},
   "outputs": [],
   "source": []
  },
  {
   "cell_type": "code",
   "execution_count": null,
   "id": "8fd063dd",
   "metadata": {},
   "outputs": [],
   "source": []
  },
  {
   "cell_type": "code",
   "execution_count": null,
   "id": "1ed29a94",
   "metadata": {},
   "outputs": [],
   "source": [
    "# put file:///home/shashank/Practice/spark-warehouse/db2.db/customer_history.csv @stg_pipe/history auto_compress=False\n",
    "\n",
    "\n",
    "# openssl genrsa 2048 | openssl pkcs8 -topk8 -inform PEM -outrsa_key.p8 cat rsa_key.p8\n",
    "\n",
    "# openssl rsa -in rsa_key.p8 -pubout -out rsa_key.pub"
   ]
  },
  {
   "cell_type": "code",
   "execution_count": 51,
   "id": "8231f591",
   "metadata": {},
   "outputs": [
    {
     "name": "stdout",
     "output_type": "stream",
     "text": [
      "+-----+------------------+--------------------+---+---------------+-------+----------+---------------------------------------------------------------------------------------+\n",
      "|60001|Customer#000060001|          9Ii4zQn9cX| 14|24-678-784-9652|9957.56| HOUSEHOLD|l theodolites boost slyly at the platelets: permanently ironic packages wake slyly pend|\n",
      "+-----+------------------+--------------------+---+---------------+-------+----------+---------------------------------------------------------------------------------------+\n",
      "|60002|Customer#000060002|    ThGBMjDwKzkoOxhz| 15|25-782-500-8435| 742.46|  BUILDING|                                                                   beans. fluffily r...|\n",
      "|60003|Customer#000060003|Ed hbPtTXMTAsgGhC...| 16|26-859-847-7640|2526.92|  BUILDING|                                                                   fully pending dep...|\n",
      "|60004|Customer#000060004|NivCT2RVaavl,yUnK...| 10|20-573-674-7999|7975.22|AUTOMOBILE|                                                                   furiously above t...|\n",
      "|60005|Customer#000060005|1F3KM3ccEXEtI, B2...| 12|22-741-208-1316|2504.74| MACHINERY|                                                                   express instructi...|\n",
      "|60006|Customer#000060006|       3isiXW651fa8p| 22|32-618-195-8029|9051.40| MACHINERY|                                                                   carefully quickly...|\n",
      "|60007|Customer#000060007|sp6KJmx,TiSWbMPvh...| 12|22-491-919-9470|6017.17| FURNITURE|                                                                   bold packages. re...|\n",
      "|60008|Customer#000060008|3VteHZYOfbgQioA96...|  2|12-693-562-7122|5621.44|AUTOMOBILE|                                                                   nal courts. caref...|\n",
      "|60009|Customer#000060009|S60sNpR6wnacPBLeO...|  9|19-578-776-2699|9548.01| FURNITURE|                                                                   efully even depen...|\n",
      "|60010|Customer#000060010|c4vEEaV1tdqLdw2oV...| 21|31-677-809-6961|3497.91| HOUSEHOLD|                                                                   fter the quickly ...|\n",
      "|60011|Customer#000060011|Y GqUG1QEdWr8 zkA...|  8|18-421-991-6811|3422.48|  BUILDING|                                                                   se carefully even...|\n",
      "|60012|Customer#000060012|    q2JnIlgSVKxmu4be| 23|33-106-408-1520| 671.60| FURNITURE|                                                                   ly. furiously reg...|\n",
      "|60013|Customer#000060013|i3t71FC4ucTs8fIEf...|  0|10-394-817-3861|-485.69| MACHINERY|                                                                   ecial foxes are b...|\n",
      "|60014|Customer#000060014|4PiiMY zaWY1W4hVp...| 16|26-322-873-9166|7932.15| FURNITURE|                                                                   ic ideas along th...|\n",
      "|60015|Customer#000060015|   B8yKNFkXHwpxjlVkt|  9|19-719-262-9343|4622.39| FURNITURE|                                                                   unts. blithely sp...|\n",
      "|60016|Customer#000060016|i5JCEL8FRYSLvOs1L...|  2|12-259-973-3236|4480.97| HOUSEHOLD|                                                                   ongside of the fi...|\n",
      "|60017|Customer#000060017|kBV62efx6B6Iw2VsR...|  1|11-139-952-4191|3653.17|AUTOMOBILE|                                                                   inal packages. ir...|\n",
      "|60018|Customer#000060018|lQ8PB9FGW53C36XQX...|  0|10-310-354-8579|5759.83|  BUILDING|                                                                   ckly bold deposit...|\n",
      "|60019|Customer#000060019|kSI6njhnR ApXo031...|  1|11-624-666-9689|3444.77| MACHINERY|                                                                   ncies. blithely s...|\n",
      "|60020|Customer#000060020|     JlAdCcLE8wEqFc0| 15|25-432-919-9170|1187.30| FURNITURE|                                                                   equests use slyly...|\n",
      "|60021|Customer#000060021|KsKuSbEyZEenCWB7F...|  5|15-729-930-2564|9919.51| HOUSEHOLD|                                                                   ake slyly around ...|\n",
      "+-----+------------------+--------------------+---+---------------+-------+----------+---------------------------------------------------------------------------------------+\n",
      "only showing top 20 rows\n",
      "\n"
     ]
    }
   ],
   "source": [
    "delta = spark.read.csv('spark-warehouse/db2.db/custtable1/customer_history.csv',header=True)\n",
    "delta.show()"
   ]
  },
  {
   "cell_type": "code",
   "execution_count": 44,
   "id": "e8206ba1",
   "metadata": {},
   "outputs": [
    {
     "name": "stdout",
     "output_type": "stream",
     "text": [
      "root\n",
      " |-- 195001: integer (nullable = true)\n",
      " |-- Customer#000195001: string (nullable = true)\n",
      " |-- BDD2D1yWXby6uQIay: string (nullable = true)\n",
      " |-- 20: integer (nullable = true)\n",
      " |-- 30-683-252-5979: string (nullable = true)\n",
      " |-- 7254.02: double (nullable = true)\n",
      " |-- MACHINERY: string (nullable = true)\n",
      " |-- the quickly slow packages are fur: string (nullable = true)\n",
      "\n"
     ]
    }
   ],
   "source": [
    "delta.printSchema()"
   ]
  },
  {
   "cell_type": "code",
   "execution_count": null,
   "id": "85f1d498",
   "metadata": {},
   "outputs": [],
   "source": []
  },
  {
   "cell_type": "code",
   "execution_count": null,
   "id": "b323d7fc",
   "metadata": {},
   "outputs": [],
   "source": []
  },
  {
   "cell_type": "code",
   "execution_count": null,
   "id": "c27fa6fe",
   "metadata": {},
   "outputs": [],
   "source": []
  },
  {
   "cell_type": "code",
   "execution_count": null,
   "id": "d06296cb",
   "metadata": {},
   "outputs": [],
   "source": []
  },
  {
   "cell_type": "code",
   "execution_count": null,
   "id": "8cce5525",
   "metadata": {},
   "outputs": [],
   "source": []
  }
 ],
 "metadata": {
  "kernelspec": {
   "display_name": "Python 3 (ipykernel)",
   "language": "python",
   "name": "python3"
  },
  "language_info": {
   "codemirror_mode": {
    "name": "ipython",
    "version": 3
   },
   "file_extension": ".py",
   "mimetype": "text/x-python",
   "name": "python",
   "nbconvert_exporter": "python",
   "pygments_lexer": "ipython3",
   "version": "3.8.10"
  }
 },
 "nbformat": 4,
 "nbformat_minor": 5
}
